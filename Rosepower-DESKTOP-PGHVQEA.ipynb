{
 "cells": [
  {
   "cell_type": "code",
   "execution_count": 169,
   "metadata": {},
   "outputs": [],
   "source": [
    "import datetime\n",
    "\n",
    "%matplotlib inline\n",
    "import numpy as np\n",
    "import matplotlib.pyplot as plt\n",
    "import pandas as pd\n",
    "import xarray as xr\n",
    "from netCDF4 import Dataset\n",
    "import os\n",
    "import seaborn as sns\n",
    "import time\n",
    "import bisect\n",
    "from collections import OrderedDict\n",
    "\n",
    "\n",
    "import plotly.graph_objects as go"
   ]
  },
  {
   "cell_type": "code",
   "execution_count": 2,
   "metadata": {},
   "outputs": [],
   "source": []
  },
  {
   "cell_type": "code",
   "execution_count": 9,
   "metadata": {},
   "outputs": [],
   "source": [
    "def timeToDatetime(array):\n",
    "    listOfDatetime=[]\n",
    "    cont=0\n",
    "    for i in array:\n",
    "        cont+=1\n",
    "        strDatetime=str(np.array(i))\n",
    "        \n",
    "        year=int(strDatetime[0:4])\n",
    "        month=int(strDatetime[5:7])\n",
    "        day=int(strDatetime[8:10])\n",
    "\n",
    "        hours=int(strDatetime[11:13])\n",
    "        mins=int(strDatetime[14:16])\n",
    "        sec=int(strDatetime[17:19])\n",
    "        \n",
    "        listOfDatetime.append(datetime.datetime(year, month, day, hours, mins))\n",
    "        \n",
    "    return listOfDatetime\n",
    "        \n",
    "def reshape3to2(arr):\n",
    "    shape=np.shape(arr)\n",
    "    return np.reshape(arr,(shape[0],shape[1]))\n",
    "\n",
    "def latLonToId(startcut,endcut,axis,DF):  # smallest     neg\n",
    "    return np.array(DF['ID'][{'ID':np.logical_and(startcut <=DF[\"ID\"][axis], DF[\"ID\"][axis]<=endcut)}])\n",
    "\n",
    "\n",
    "def overlaying(x,y):\n",
    "    return set(x) & set(y)"
   ]
  },
  {
   "cell_type": "code",
   "execution_count": 11,
   "metadata": {},
   "outputs": [],
   "source": [
    "df_time=xr.open_dataset(r'C:\\\\Users\\\\User\\\\OneDrive\\\\GIZ\\\\Internship\\\\seb_test_ring\\\\CVSmaker\\\\smallData\\\\windTS_20.588S_31.659E.nc')\n",
    "#times = list(df['Times'].astype('str'))\n",
    "times=timeToDatetime(list(df_time['Times'].astype('str')))\n",
    "\n",
    "df_time.close()"
   ]
  },
  {
   "cell_type": "code",
   "execution_count": 12,
   "metadata": {},
   "outputs": [
    {
     "data": {
      "text/plain": [
       "[datetime.datetime(2009, 1, 1, 0, 0),\n",
       " datetime.datetime(2009, 1, 1, 0, 15),\n",
       " datetime.datetime(2009, 1, 1, 0, 30),\n",
       " datetime.datetime(2009, 1, 1, 0, 45),\n",
       " datetime.datetime(2009, 1, 1, 1, 0),\n",
       " datetime.datetime(2009, 1, 1, 1, 15),\n",
       " datetime.datetime(2009, 1, 1, 1, 30),\n",
       " datetime.datetime(2009, 1, 1, 1, 45),\n",
       " datetime.datetime(2009, 1, 1, 2, 0),\n",
       " datetime.datetime(2009, 1, 1, 2, 15),\n",
       " datetime.datetime(2009, 1, 1, 2, 30),\n",
       " datetime.datetime(2009, 1, 1, 2, 45),\n",
       " datetime.datetime(2009, 1, 1, 3, 0),\n",
       " datetime.datetime(2009, 1, 1, 3, 15),\n",
       " datetime.datetime(2009, 1, 1, 3, 30),\n",
       " datetime.datetime(2009, 1, 1, 3, 45),\n",
       " datetime.datetime(2009, 1, 1, 4, 0),\n",
       " datetime.datetime(2009, 1, 1, 4, 15),\n",
       " datetime.datetime(2009, 1, 1, 4, 30),\n",
       " datetime.datetime(2009, 1, 1, 4, 45),\n",
       " datetime.datetime(2009, 1, 1, 5, 0),\n",
       " datetime.datetime(2009, 1, 1, 5, 15),\n",
       " datetime.datetime(2009, 1, 1, 5, 30),\n",
       " datetime.datetime(2009, 1, 1, 5, 45),\n",
       " datetime.datetime(2009, 1, 1, 6, 0),\n",
       " datetime.datetime(2009, 1, 1, 6, 15),\n",
       " datetime.datetime(2009, 1, 1, 6, 30),\n",
       " datetime.datetime(2009, 1, 1, 6, 45),\n",
       " datetime.datetime(2009, 1, 1, 7, 0),\n",
       " datetime.datetime(2009, 1, 1, 7, 15),\n",
       " datetime.datetime(2009, 1, 1, 7, 30),\n",
       " datetime.datetime(2009, 1, 1, 7, 45),\n",
       " datetime.datetime(2009, 1, 1, 8, 0),\n",
       " datetime.datetime(2009, 1, 1, 8, 15),\n",
       " datetime.datetime(2009, 1, 1, 8, 30),\n",
       " datetime.datetime(2009, 1, 1, 8, 45),\n",
       " datetime.datetime(2009, 1, 1, 9, 0),\n",
       " datetime.datetime(2009, 1, 1, 9, 15),\n",
       " datetime.datetime(2009, 1, 1, 9, 30),\n",
       " datetime.datetime(2009, 1, 1, 9, 45),\n",
       " datetime.datetime(2009, 1, 1, 10, 0),\n",
       " datetime.datetime(2009, 1, 1, 10, 15),\n",
       " datetime.datetime(2009, 1, 1, 10, 30),\n",
       " datetime.datetime(2009, 1, 1, 10, 45),\n",
       " datetime.datetime(2009, 1, 1, 11, 0),\n",
       " datetime.datetime(2009, 1, 1, 11, 15),\n",
       " datetime.datetime(2009, 1, 1, 11, 30),\n",
       " datetime.datetime(2009, 1, 1, 11, 45),\n",
       " datetime.datetime(2009, 1, 1, 12, 0),\n",
       " datetime.datetime(2009, 1, 1, 12, 15),\n",
       " datetime.datetime(2009, 1, 1, 12, 30),\n",
       " datetime.datetime(2009, 1, 1, 12, 45),\n",
       " datetime.datetime(2009, 1, 1, 13, 0),\n",
       " datetime.datetime(2009, 1, 1, 13, 15),\n",
       " datetime.datetime(2009, 1, 1, 13, 30),\n",
       " datetime.datetime(2009, 1, 1, 13, 45),\n",
       " datetime.datetime(2009, 1, 1, 14, 0),\n",
       " datetime.datetime(2009, 1, 1, 14, 15),\n",
       " datetime.datetime(2009, 1, 1, 14, 30),\n",
       " datetime.datetime(2009, 1, 1, 14, 45),\n",
       " datetime.datetime(2009, 1, 1, 15, 0),\n",
       " datetime.datetime(2009, 1, 1, 15, 15),\n",
       " datetime.datetime(2009, 1, 1, 15, 30),\n",
       " datetime.datetime(2009, 1, 1, 15, 45),\n",
       " datetime.datetime(2009, 1, 1, 16, 0),\n",
       " datetime.datetime(2009, 1, 1, 16, 15),\n",
       " datetime.datetime(2009, 1, 1, 16, 30),\n",
       " datetime.datetime(2009, 1, 1, 16, 45),\n",
       " datetime.datetime(2009, 1, 1, 17, 0),\n",
       " datetime.datetime(2009, 1, 1, 17, 15),\n",
       " datetime.datetime(2009, 1, 1, 17, 30),\n",
       " datetime.datetime(2009, 1, 1, 17, 45),\n",
       " datetime.datetime(2009, 1, 1, 18, 0),\n",
       " datetime.datetime(2009, 1, 1, 18, 15),\n",
       " datetime.datetime(2009, 1, 1, 18, 30),\n",
       " datetime.datetime(2009, 1, 1, 18, 45),\n",
       " datetime.datetime(2009, 1, 1, 19, 0),\n",
       " datetime.datetime(2009, 1, 1, 19, 15),\n",
       " datetime.datetime(2009, 1, 1, 19, 30),\n",
       " datetime.datetime(2009, 1, 1, 19, 45),\n",
       " datetime.datetime(2009, 1, 1, 20, 0),\n",
       " datetime.datetime(2009, 1, 1, 20, 15),\n",
       " datetime.datetime(2009, 1, 1, 20, 30),\n",
       " datetime.datetime(2009, 1, 1, 20, 45),\n",
       " datetime.datetime(2009, 1, 1, 21, 0),\n",
       " datetime.datetime(2009, 1, 1, 21, 15),\n",
       " datetime.datetime(2009, 1, 1, 21, 30),\n",
       " datetime.datetime(2009, 1, 1, 21, 45),\n",
       " datetime.datetime(2009, 1, 1, 22, 0),\n",
       " datetime.datetime(2009, 1, 1, 22, 15),\n",
       " datetime.datetime(2009, 1, 1, 22, 30),\n",
       " datetime.datetime(2009, 1, 1, 22, 45),\n",
       " datetime.datetime(2009, 1, 1, 23, 0),\n",
       " datetime.datetime(2009, 1, 1, 23, 15),\n",
       " datetime.datetime(2009, 1, 1, 23, 30),\n",
       " datetime.datetime(2009, 1, 1, 23, 45),\n",
       " datetime.datetime(2009, 1, 2, 0, 0),\n",
       " datetime.datetime(2009, 1, 2, 0, 15),\n",
       " datetime.datetime(2009, 1, 2, 0, 30),\n",
       " datetime.datetime(2009, 1, 2, 0, 45),\n",
       " datetime.datetime(2009, 1, 2, 1, 0),\n",
       " datetime.datetime(2009, 1, 2, 1, 15),\n",
       " datetime.datetime(2009, 1, 2, 1, 30),\n",
       " datetime.datetime(2009, 1, 2, 1, 45),\n",
       " datetime.datetime(2009, 1, 2, 2, 0),\n",
       " datetime.datetime(2009, 1, 2, 2, 15),\n",
       " datetime.datetime(2009, 1, 2, 2, 30),\n",
       " datetime.datetime(2009, 1, 2, 2, 45),\n",
       " datetime.datetime(2009, 1, 2, 3, 0),\n",
       " datetime.datetime(2009, 1, 2, 3, 15),\n",
       " datetime.datetime(2009, 1, 2, 3, 30),\n",
       " datetime.datetime(2009, 1, 2, 3, 45),\n",
       " datetime.datetime(2009, 1, 2, 4, 0),\n",
       " datetime.datetime(2009, 1, 2, 4, 15),\n",
       " datetime.datetime(2009, 1, 2, 4, 30),\n",
       " datetime.datetime(2009, 1, 2, 4, 45),\n",
       " datetime.datetime(2009, 1, 2, 5, 0),\n",
       " datetime.datetime(2009, 1, 2, 5, 15),\n",
       " datetime.datetime(2009, 1, 2, 5, 30),\n",
       " datetime.datetime(2009, 1, 2, 5, 45),\n",
       " datetime.datetime(2009, 1, 2, 6, 0),\n",
       " datetime.datetime(2009, 1, 2, 6, 15),\n",
       " datetime.datetime(2009, 1, 2, 6, 30),\n",
       " datetime.datetime(2009, 1, 2, 6, 45),\n",
       " datetime.datetime(2009, 1, 2, 7, 0),\n",
       " datetime.datetime(2009, 1, 2, 7, 15),\n",
       " datetime.datetime(2009, 1, 2, 7, 30),\n",
       " datetime.datetime(2009, 1, 2, 7, 45),\n",
       " datetime.datetime(2009, 1, 2, 8, 0),\n",
       " datetime.datetime(2009, 1, 2, 8, 15),\n",
       " datetime.datetime(2009, 1, 2, 8, 30),\n",
       " datetime.datetime(2009, 1, 2, 8, 45),\n",
       " datetime.datetime(2009, 1, 2, 9, 0),\n",
       " datetime.datetime(2009, 1, 2, 9, 15),\n",
       " datetime.datetime(2009, 1, 2, 9, 30),\n",
       " datetime.datetime(2009, 1, 2, 9, 45),\n",
       " datetime.datetime(2009, 1, 2, 10, 0),\n",
       " datetime.datetime(2009, 1, 2, 10, 15),\n",
       " datetime.datetime(2009, 1, 2, 10, 30),\n",
       " datetime.datetime(2009, 1, 2, 10, 45),\n",
       " datetime.datetime(2009, 1, 2, 11, 0),\n",
       " datetime.datetime(2009, 1, 2, 11, 15),\n",
       " datetime.datetime(2009, 1, 2, 11, 30),\n",
       " datetime.datetime(2009, 1, 2, 11, 45),\n",
       " datetime.datetime(2009, 1, 2, 12, 0),\n",
       " datetime.datetime(2009, 1, 2, 12, 15),\n",
       " datetime.datetime(2009, 1, 2, 12, 30),\n",
       " datetime.datetime(2009, 1, 2, 12, 45),\n",
       " datetime.datetime(2009, 1, 2, 13, 0),\n",
       " datetime.datetime(2009, 1, 2, 13, 15),\n",
       " datetime.datetime(2009, 1, 2, 13, 30),\n",
       " datetime.datetime(2009, 1, 2, 13, 45),\n",
       " datetime.datetime(2009, 1, 2, 14, 0),\n",
       " datetime.datetime(2009, 1, 2, 14, 15),\n",
       " datetime.datetime(2009, 1, 2, 14, 30),\n",
       " datetime.datetime(2009, 1, 2, 14, 45),\n",
       " datetime.datetime(2009, 1, 2, 15, 0),\n",
       " datetime.datetime(2009, 1, 2, 15, 15),\n",
       " datetime.datetime(2009, 1, 2, 15, 30),\n",
       " datetime.datetime(2009, 1, 2, 15, 45),\n",
       " datetime.datetime(2009, 1, 2, 16, 0),\n",
       " datetime.datetime(2009, 1, 2, 16, 15),\n",
       " datetime.datetime(2009, 1, 2, 16, 30),\n",
       " datetime.datetime(2009, 1, 2, 16, 45),\n",
       " datetime.datetime(2009, 1, 2, 17, 0),\n",
       " datetime.datetime(2009, 1, 2, 17, 15),\n",
       " datetime.datetime(2009, 1, 2, 17, 30),\n",
       " datetime.datetime(2009, 1, 2, 17, 45),\n",
       " datetime.datetime(2009, 1, 2, 18, 0),\n",
       " datetime.datetime(2009, 1, 2, 18, 15),\n",
       " datetime.datetime(2009, 1, 2, 18, 30),\n",
       " datetime.datetime(2009, 1, 2, 18, 45),\n",
       " datetime.datetime(2009, 1, 2, 19, 0),\n",
       " datetime.datetime(2009, 1, 2, 19, 15),\n",
       " datetime.datetime(2009, 1, 2, 19, 30),\n",
       " datetime.datetime(2009, 1, 2, 19, 45),\n",
       " datetime.datetime(2009, 1, 2, 20, 0),\n",
       " datetime.datetime(2009, 1, 2, 20, 15),\n",
       " datetime.datetime(2009, 1, 2, 20, 30),\n",
       " datetime.datetime(2009, 1, 2, 20, 45),\n",
       " datetime.datetime(2009, 1, 2, 21, 0),\n",
       " datetime.datetime(2009, 1, 2, 21, 15),\n",
       " datetime.datetime(2009, 1, 2, 21, 30),\n",
       " datetime.datetime(2009, 1, 2, 21, 45),\n",
       " datetime.datetime(2009, 1, 2, 22, 0),\n",
       " datetime.datetime(2009, 1, 2, 22, 15),\n",
       " datetime.datetime(2009, 1, 2, 22, 30),\n",
       " datetime.datetime(2009, 1, 2, 22, 45),\n",
       " datetime.datetime(2009, 1, 2, 23, 0),\n",
       " datetime.datetime(2009, 1, 2, 23, 15),\n",
       " datetime.datetime(2009, 1, 2, 23, 30),\n",
       " datetime.datetime(2009, 1, 2, 23, 45),\n",
       " datetime.datetime(2009, 1, 3, 0, 0),\n",
       " datetime.datetime(2009, 1, 3, 0, 15),\n",
       " datetime.datetime(2009, 1, 3, 0, 30),\n",
       " datetime.datetime(2009, 1, 3, 0, 45),\n",
       " datetime.datetime(2009, 1, 3, 1, 0),\n",
       " datetime.datetime(2009, 1, 3, 1, 15),\n",
       " datetime.datetime(2009, 1, 3, 1, 30),\n",
       " datetime.datetime(2009, 1, 3, 1, 45),\n",
       " datetime.datetime(2009, 1, 3, 2, 0),\n",
       " datetime.datetime(2009, 1, 3, 2, 15),\n",
       " datetime.datetime(2009, 1, 3, 2, 30),\n",
       " datetime.datetime(2009, 1, 3, 2, 45),\n",
       " datetime.datetime(2009, 1, 3, 3, 0),\n",
       " datetime.datetime(2009, 1, 3, 3, 15),\n",
       " datetime.datetime(2009, 1, 3, 3, 30),\n",
       " datetime.datetime(2009, 1, 3, 3, 45),\n",
       " datetime.datetime(2009, 1, 3, 4, 0),\n",
       " datetime.datetime(2009, 1, 3, 4, 15),\n",
       " datetime.datetime(2009, 1, 3, 4, 30),\n",
       " datetime.datetime(2009, 1, 3, 4, 45),\n",
       " datetime.datetime(2009, 1, 3, 5, 0),\n",
       " datetime.datetime(2009, 1, 3, 5, 15),\n",
       " datetime.datetime(2009, 1, 3, 5, 30),\n",
       " datetime.datetime(2009, 1, 3, 5, 45),\n",
       " datetime.datetime(2009, 1, 3, 6, 0),\n",
       " datetime.datetime(2009, 1, 3, 6, 15),\n",
       " datetime.datetime(2009, 1, 3, 6, 30),\n",
       " datetime.datetime(2009, 1, 3, 6, 45),\n",
       " datetime.datetime(2009, 1, 3, 7, 0),\n",
       " datetime.datetime(2009, 1, 3, 7, 15),\n",
       " datetime.datetime(2009, 1, 3, 7, 30),\n",
       " datetime.datetime(2009, 1, 3, 7, 45),\n",
       " datetime.datetime(2009, 1, 3, 8, 0),\n",
       " datetime.datetime(2009, 1, 3, 8, 15),\n",
       " datetime.datetime(2009, 1, 3, 8, 30),\n",
       " datetime.datetime(2009, 1, 3, 8, 45),\n",
       " datetime.datetime(2009, 1, 3, 9, 0),\n",
       " datetime.datetime(2009, 1, 3, 9, 15),\n",
       " datetime.datetime(2009, 1, 3, 9, 30),\n",
       " datetime.datetime(2009, 1, 3, 9, 45),\n",
       " datetime.datetime(2009, 1, 3, 10, 0),\n",
       " datetime.datetime(2009, 1, 3, 10, 15),\n",
       " datetime.datetime(2009, 1, 3, 10, 30),\n",
       " datetime.datetime(2009, 1, 3, 10, 45),\n",
       " datetime.datetime(2009, 1, 3, 11, 0),\n",
       " datetime.datetime(2009, 1, 3, 11, 15),\n",
       " datetime.datetime(2009, 1, 3, 11, 30),\n",
       " datetime.datetime(2009, 1, 3, 11, 45),\n",
       " datetime.datetime(2009, 1, 3, 12, 0),\n",
       " datetime.datetime(2009, 1, 3, 12, 15),\n",
       " datetime.datetime(2009, 1, 3, 12, 30),\n",
       " datetime.datetime(2009, 1, 3, 12, 45),\n",
       " datetime.datetime(2009, 1, 3, 13, 0),\n",
       " datetime.datetime(2009, 1, 3, 13, 15),\n",
       " datetime.datetime(2009, 1, 3, 13, 30),\n",
       " datetime.datetime(2009, 1, 3, 13, 45),\n",
       " datetime.datetime(2009, 1, 3, 14, 0),\n",
       " datetime.datetime(2009, 1, 3, 14, 15),\n",
       " datetime.datetime(2009, 1, 3, 14, 30),\n",
       " datetime.datetime(2009, 1, 3, 14, 45),\n",
       " datetime.datetime(2009, 1, 3, 15, 0),\n",
       " datetime.datetime(2009, 1, 3, 15, 15),\n",
       " datetime.datetime(2009, 1, 3, 15, 30),\n",
       " datetime.datetime(2009, 1, 3, 15, 45),\n",
       " datetime.datetime(2009, 1, 3, 16, 0),\n",
       " datetime.datetime(2009, 1, 3, 16, 15),\n",
       " datetime.datetime(2009, 1, 3, 16, 30),\n",
       " datetime.datetime(2009, 1, 3, 16, 45),\n",
       " datetime.datetime(2009, 1, 3, 17, 0),\n",
       " datetime.datetime(2009, 1, 3, 17, 15),\n",
       " datetime.datetime(2009, 1, 3, 17, 30),\n",
       " datetime.datetime(2009, 1, 3, 17, 45),\n",
       " datetime.datetime(2009, 1, 3, 18, 0),\n",
       " datetime.datetime(2009, 1, 3, 18, 15),\n",
       " datetime.datetime(2009, 1, 3, 18, 30),\n",
       " datetime.datetime(2009, 1, 3, 18, 45),\n",
       " datetime.datetime(2009, 1, 3, 19, 0),\n",
       " datetime.datetime(2009, 1, 3, 19, 15),\n",
       " datetime.datetime(2009, 1, 3, 19, 30),\n",
       " datetime.datetime(2009, 1, 3, 19, 45),\n",
       " datetime.datetime(2009, 1, 3, 20, 0),\n",
       " datetime.datetime(2009, 1, 3, 20, 15),\n",
       " datetime.datetime(2009, 1, 3, 20, 30),\n",
       " datetime.datetime(2009, 1, 3, 20, 45),\n",
       " datetime.datetime(2009, 1, 3, 21, 0),\n",
       " datetime.datetime(2009, 1, 3, 21, 15),\n",
       " datetime.datetime(2009, 1, 3, 21, 30),\n",
       " datetime.datetime(2009, 1, 3, 21, 45),\n",
       " datetime.datetime(2009, 1, 3, 22, 0),\n",
       " datetime.datetime(2009, 1, 3, 22, 15),\n",
       " datetime.datetime(2009, 1, 3, 22, 30),\n",
       " datetime.datetime(2009, 1, 3, 22, 45),\n",
       " datetime.datetime(2009, 1, 3, 23, 0),\n",
       " datetime.datetime(2009, 1, 3, 23, 15),\n",
       " datetime.datetime(2009, 1, 3, 23, 30),\n",
       " datetime.datetime(2009, 1, 3, 23, 45),\n",
       " datetime.datetime(2009, 1, 4, 0, 0),\n",
       " datetime.datetime(2009, 1, 4, 0, 15),\n",
       " datetime.datetime(2009, 1, 4, 0, 30),\n",
       " datetime.datetime(2009, 1, 4, 0, 45),\n",
       " datetime.datetime(2009, 1, 4, 1, 0),\n",
       " datetime.datetime(2009, 1, 4, 1, 15),\n",
       " datetime.datetime(2009, 1, 4, 1, 30),\n",
       " datetime.datetime(2009, 1, 4, 1, 45),\n",
       " datetime.datetime(2009, 1, 4, 2, 0),\n",
       " datetime.datetime(2009, 1, 4, 2, 15),\n",
       " datetime.datetime(2009, 1, 4, 2, 30),\n",
       " datetime.datetime(2009, 1, 4, 2, 45),\n",
       " datetime.datetime(2009, 1, 4, 3, 0),\n",
       " datetime.datetime(2009, 1, 4, 3, 15),\n",
       " datetime.datetime(2009, 1, 4, 3, 30),\n",
       " datetime.datetime(2009, 1, 4, 3, 45),\n",
       " datetime.datetime(2009, 1, 4, 4, 0),\n",
       " datetime.datetime(2009, 1, 4, 4, 15),\n",
       " datetime.datetime(2009, 1, 4, 4, 30),\n",
       " datetime.datetime(2009, 1, 4, 4, 45),\n",
       " datetime.datetime(2009, 1, 4, 5, 0),\n",
       " datetime.datetime(2009, 1, 4, 5, 15),\n",
       " datetime.datetime(2009, 1, 4, 5, 30),\n",
       " datetime.datetime(2009, 1, 4, 5, 45),\n",
       " datetime.datetime(2009, 1, 4, 6, 0),\n",
       " datetime.datetime(2009, 1, 4, 6, 15),\n",
       " datetime.datetime(2009, 1, 4, 6, 30),\n",
       " datetime.datetime(2009, 1, 4, 6, 45),\n",
       " datetime.datetime(2009, 1, 4, 7, 0),\n",
       " datetime.datetime(2009, 1, 4, 7, 15),\n",
       " datetime.datetime(2009, 1, 4, 7, 30),\n",
       " datetime.datetime(2009, 1, 4, 7, 45),\n",
       " datetime.datetime(2009, 1, 4, 8, 0),\n",
       " datetime.datetime(2009, 1, 4, 8, 15),\n",
       " datetime.datetime(2009, 1, 4, 8, 30),\n",
       " datetime.datetime(2009, 1, 4, 8, 45),\n",
       " datetime.datetime(2009, 1, 4, 9, 0),\n",
       " datetime.datetime(2009, 1, 4, 9, 15),\n",
       " datetime.datetime(2009, 1, 4, 9, 30),\n",
       " datetime.datetime(2009, 1, 4, 9, 45),\n",
       " datetime.datetime(2009, 1, 4, 10, 0),\n",
       " datetime.datetime(2009, 1, 4, 10, 15),\n",
       " datetime.datetime(2009, 1, 4, 10, 30),\n",
       " datetime.datetime(2009, 1, 4, 10, 45),\n",
       " datetime.datetime(2009, 1, 4, 11, 0),\n",
       " datetime.datetime(2009, 1, 4, 11, 15),\n",
       " datetime.datetime(2009, 1, 4, 11, 30),\n",
       " datetime.datetime(2009, 1, 4, 11, 45),\n",
       " datetime.datetime(2009, 1, 4, 12, 0),\n",
       " datetime.datetime(2009, 1, 4, 12, 15),\n",
       " datetime.datetime(2009, 1, 4, 12, 30),\n",
       " datetime.datetime(2009, 1, 4, 12, 45),\n",
       " datetime.datetime(2009, 1, 4, 13, 0),\n",
       " datetime.datetime(2009, 1, 4, 13, 15),\n",
       " datetime.datetime(2009, 1, 4, 13, 30),\n",
       " datetime.datetime(2009, 1, 4, 13, 45),\n",
       " datetime.datetime(2009, 1, 4, 14, 0),\n",
       " datetime.datetime(2009, 1, 4, 14, 15),\n",
       " datetime.datetime(2009, 1, 4, 14, 30),\n",
       " datetime.datetime(2009, 1, 4, 14, 45),\n",
       " datetime.datetime(2009, 1, 4, 15, 0),\n",
       " datetime.datetime(2009, 1, 4, 15, 15),\n",
       " datetime.datetime(2009, 1, 4, 15, 30),\n",
       " datetime.datetime(2009, 1, 4, 15, 45),\n",
       " datetime.datetime(2009, 1, 4, 16, 0),\n",
       " datetime.datetime(2009, 1, 4, 16, 15),\n",
       " datetime.datetime(2009, 1, 4, 16, 30),\n",
       " datetime.datetime(2009, 1, 4, 16, 45),\n",
       " datetime.datetime(2009, 1, 4, 17, 0),\n",
       " datetime.datetime(2009, 1, 4, 17, 15),\n",
       " datetime.datetime(2009, 1, 4, 17, 30),\n",
       " datetime.datetime(2009, 1, 4, 17, 45),\n",
       " datetime.datetime(2009, 1, 4, 18, 0),\n",
       " datetime.datetime(2009, 1, 4, 18, 15),\n",
       " datetime.datetime(2009, 1, 4, 18, 30),\n",
       " datetime.datetime(2009, 1, 4, 18, 45),\n",
       " datetime.datetime(2009, 1, 4, 19, 0),\n",
       " datetime.datetime(2009, 1, 4, 19, 15),\n",
       " datetime.datetime(2009, 1, 4, 19, 30),\n",
       " datetime.datetime(2009, 1, 4, 19, 45),\n",
       " datetime.datetime(2009, 1, 4, 20, 0),\n",
       " datetime.datetime(2009, 1, 4, 20, 15),\n",
       " datetime.datetime(2009, 1, 4, 20, 30),\n",
       " datetime.datetime(2009, 1, 4, 20, 45),\n",
       " datetime.datetime(2009, 1, 4, 21, 0),\n",
       " datetime.datetime(2009, 1, 4, 21, 15),\n",
       " datetime.datetime(2009, 1, 4, 21, 30),\n",
       " datetime.datetime(2009, 1, 4, 21, 45),\n",
       " datetime.datetime(2009, 1, 4, 22, 0),\n",
       " datetime.datetime(2009, 1, 4, 22, 15),\n",
       " datetime.datetime(2009, 1, 4, 22, 30),\n",
       " datetime.datetime(2009, 1, 4, 22, 45),\n",
       " datetime.datetime(2009, 1, 4, 23, 0),\n",
       " datetime.datetime(2009, 1, 4, 23, 15),\n",
       " datetime.datetime(2009, 1, 4, 23, 30),\n",
       " datetime.datetime(2009, 1, 4, 23, 45),\n",
       " datetime.datetime(2009, 1, 5, 0, 0),\n",
       " datetime.datetime(2009, 1, 5, 0, 15),\n",
       " datetime.datetime(2009, 1, 5, 0, 30),\n",
       " datetime.datetime(2009, 1, 5, 0, 45),\n",
       " datetime.datetime(2009, 1, 5, 1, 0),\n",
       " datetime.datetime(2009, 1, 5, 1, 15),\n",
       " datetime.datetime(2009, 1, 5, 1, 30),\n",
       " datetime.datetime(2009, 1, 5, 1, 45),\n",
       " datetime.datetime(2009, 1, 5, 2, 0),\n",
       " datetime.datetime(2009, 1, 5, 2, 15),\n",
       " datetime.datetime(2009, 1, 5, 2, 30),\n",
       " datetime.datetime(2009, 1, 5, 2, 45),\n",
       " datetime.datetime(2009, 1, 5, 3, 0),\n",
       " datetime.datetime(2009, 1, 5, 3, 15),\n",
       " datetime.datetime(2009, 1, 5, 3, 30),\n",
       " datetime.datetime(2009, 1, 5, 3, 45),\n",
       " datetime.datetime(2009, 1, 5, 4, 0),\n",
       " datetime.datetime(2009, 1, 5, 4, 15),\n",
       " datetime.datetime(2009, 1, 5, 4, 30),\n",
       " datetime.datetime(2009, 1, 5, 4, 45),\n",
       " datetime.datetime(2009, 1, 5, 5, 0),\n",
       " datetime.datetime(2009, 1, 5, 5, 15),\n",
       " datetime.datetime(2009, 1, 5, 5, 30),\n",
       " datetime.datetime(2009, 1, 5, 5, 45),\n",
       " datetime.datetime(2009, 1, 5, 6, 0),\n",
       " datetime.datetime(2009, 1, 5, 6, 15),\n",
       " datetime.datetime(2009, 1, 5, 6, 30),\n",
       " datetime.datetime(2009, 1, 5, 6, 45),\n",
       " datetime.datetime(2009, 1, 5, 7, 0),\n",
       " datetime.datetime(2009, 1, 5, 7, 15),\n",
       " datetime.datetime(2009, 1, 5, 7, 30),\n",
       " datetime.datetime(2009, 1, 5, 7, 45),\n",
       " datetime.datetime(2009, 1, 5, 8, 0),\n",
       " datetime.datetime(2009, 1, 5, 8, 15),\n",
       " datetime.datetime(2009, 1, 5, 8, 30),\n",
       " datetime.datetime(2009, 1, 5, 8, 45),\n",
       " datetime.datetime(2009, 1, 5, 9, 0),\n",
       " datetime.datetime(2009, 1, 5, 9, 15),\n",
       " datetime.datetime(2009, 1, 5, 9, 30),\n",
       " datetime.datetime(2009, 1, 5, 9, 45),\n",
       " datetime.datetime(2009, 1, 5, 10, 0),\n",
       " datetime.datetime(2009, 1, 5, 10, 15),\n",
       " datetime.datetime(2009, 1, 5, 10, 30),\n",
       " datetime.datetime(2009, 1, 5, 10, 45),\n",
       " datetime.datetime(2009, 1, 5, 11, 0),\n",
       " datetime.datetime(2009, 1, 5, 11, 15),\n",
       " datetime.datetime(2009, 1, 5, 11, 30),\n",
       " datetime.datetime(2009, 1, 5, 11, 45),\n",
       " datetime.datetime(2009, 1, 5, 12, 0),\n",
       " datetime.datetime(2009, 1, 5, 12, 15),\n",
       " datetime.datetime(2009, 1, 5, 12, 30),\n",
       " datetime.datetime(2009, 1, 5, 12, 45),\n",
       " datetime.datetime(2009, 1, 5, 13, 0),\n",
       " datetime.datetime(2009, 1, 5, 13, 15),\n",
       " datetime.datetime(2009, 1, 5, 13, 30),\n",
       " datetime.datetime(2009, 1, 5, 13, 45),\n",
       " datetime.datetime(2009, 1, 5, 14, 0),\n",
       " datetime.datetime(2009, 1, 5, 14, 15),\n",
       " datetime.datetime(2009, 1, 5, 14, 30),\n",
       " datetime.datetime(2009, 1, 5, 14, 45),\n",
       " datetime.datetime(2009, 1, 5, 15, 0),\n",
       " datetime.datetime(2009, 1, 5, 15, 15),\n",
       " datetime.datetime(2009, 1, 5, 15, 30),\n",
       " datetime.datetime(2009, 1, 5, 15, 45),\n",
       " datetime.datetime(2009, 1, 5, 16, 0),\n",
       " datetime.datetime(2009, 1, 5, 16, 15),\n",
       " datetime.datetime(2009, 1, 5, 16, 30),\n",
       " datetime.datetime(2009, 1, 5, 16, 45),\n",
       " datetime.datetime(2009, 1, 5, 17, 0),\n",
       " datetime.datetime(2009, 1, 5, 17, 15),\n",
       " datetime.datetime(2009, 1, 5, 17, 30),\n",
       " datetime.datetime(2009, 1, 5, 17, 45),\n",
       " datetime.datetime(2009, 1, 5, 18, 0),\n",
       " datetime.datetime(2009, 1, 5, 18, 15),\n",
       " datetime.datetime(2009, 1, 5, 18, 30),\n",
       " datetime.datetime(2009, 1, 5, 18, 45),\n",
       " datetime.datetime(2009, 1, 5, 19, 0),\n",
       " datetime.datetime(2009, 1, 5, 19, 15),\n",
       " datetime.datetime(2009, 1, 5, 19, 30),\n",
       " datetime.datetime(2009, 1, 5, 19, 45),\n",
       " datetime.datetime(2009, 1, 5, 20, 0),\n",
       " datetime.datetime(2009, 1, 5, 20, 15),\n",
       " datetime.datetime(2009, 1, 5, 20, 30),\n",
       " datetime.datetime(2009, 1, 5, 20, 45),\n",
       " datetime.datetime(2009, 1, 5, 21, 0),\n",
       " datetime.datetime(2009, 1, 5, 21, 15),\n",
       " datetime.datetime(2009, 1, 5, 21, 30),\n",
       " datetime.datetime(2009, 1, 5, 21, 45),\n",
       " datetime.datetime(2009, 1, 5, 22, 0),\n",
       " datetime.datetime(2009, 1, 5, 22, 15),\n",
       " datetime.datetime(2009, 1, 5, 22, 30),\n",
       " datetime.datetime(2009, 1, 5, 22, 45),\n",
       " datetime.datetime(2009, 1, 5, 23, 0),\n",
       " datetime.datetime(2009, 1, 5, 23, 15),\n",
       " datetime.datetime(2009, 1, 5, 23, 30),\n",
       " datetime.datetime(2009, 1, 5, 23, 45),\n",
       " datetime.datetime(2009, 1, 6, 0, 0),\n",
       " datetime.datetime(2009, 1, 6, 0, 15),\n",
       " datetime.datetime(2009, 1, 6, 0, 30),\n",
       " datetime.datetime(2009, 1, 6, 0, 45),\n",
       " datetime.datetime(2009, 1, 6, 1, 0),\n",
       " datetime.datetime(2009, 1, 6, 1, 15),\n",
       " datetime.datetime(2009, 1, 6, 1, 30),\n",
       " datetime.datetime(2009, 1, 6, 1, 45),\n",
       " datetime.datetime(2009, 1, 6, 2, 0),\n",
       " datetime.datetime(2009, 1, 6, 2, 15),\n",
       " datetime.datetime(2009, 1, 6, 2, 30),\n",
       " datetime.datetime(2009, 1, 6, 2, 45),\n",
       " datetime.datetime(2009, 1, 6, 3, 0),\n",
       " datetime.datetime(2009, 1, 6, 3, 15),\n",
       " datetime.datetime(2009, 1, 6, 3, 30),\n",
       " datetime.datetime(2009, 1, 6, 3, 45),\n",
       " datetime.datetime(2009, 1, 6, 4, 0),\n",
       " datetime.datetime(2009, 1, 6, 4, 15),\n",
       " datetime.datetime(2009, 1, 6, 4, 30),\n",
       " datetime.datetime(2009, 1, 6, 4, 45),\n",
       " datetime.datetime(2009, 1, 6, 5, 0),\n",
       " datetime.datetime(2009, 1, 6, 5, 15),\n",
       " datetime.datetime(2009, 1, 6, 5, 30),\n",
       " datetime.datetime(2009, 1, 6, 5, 45),\n",
       " datetime.datetime(2009, 1, 6, 6, 0),\n",
       " datetime.datetime(2009, 1, 6, 6, 15),\n",
       " datetime.datetime(2009, 1, 6, 6, 30),\n",
       " datetime.datetime(2009, 1, 6, 6, 45),\n",
       " datetime.datetime(2009, 1, 6, 7, 0),\n",
       " datetime.datetime(2009, 1, 6, 7, 15),\n",
       " datetime.datetime(2009, 1, 6, 7, 30),\n",
       " datetime.datetime(2009, 1, 6, 7, 45),\n",
       " datetime.datetime(2009, 1, 6, 8, 0),\n",
       " datetime.datetime(2009, 1, 6, 8, 15),\n",
       " datetime.datetime(2009, 1, 6, 8, 30),\n",
       " datetime.datetime(2009, 1, 6, 8, 45),\n",
       " datetime.datetime(2009, 1, 6, 9, 0),\n",
       " datetime.datetime(2009, 1, 6, 9, 15),\n",
       " datetime.datetime(2009, 1, 6, 9, 30),\n",
       " datetime.datetime(2009, 1, 6, 9, 45),\n",
       " datetime.datetime(2009, 1, 6, 10, 0),\n",
       " datetime.datetime(2009, 1, 6, 10, 15),\n",
       " datetime.datetime(2009, 1, 6, 10, 30),\n",
       " datetime.datetime(2009, 1, 6, 10, 45),\n",
       " datetime.datetime(2009, 1, 6, 11, 0),\n",
       " datetime.datetime(2009, 1, 6, 11, 15),\n",
       " datetime.datetime(2009, 1, 6, 11, 30),\n",
       " datetime.datetime(2009, 1, 6, 11, 45),\n",
       " datetime.datetime(2009, 1, 6, 12, 0),\n",
       " datetime.datetime(2009, 1, 6, 12, 15),\n",
       " datetime.datetime(2009, 1, 6, 12, 30),\n",
       " datetime.datetime(2009, 1, 6, 12, 45),\n",
       " datetime.datetime(2009, 1, 6, 13, 0),\n",
       " datetime.datetime(2009, 1, 6, 13, 15),\n",
       " datetime.datetime(2009, 1, 6, 13, 30),\n",
       " datetime.datetime(2009, 1, 6, 13, 45),\n",
       " datetime.datetime(2009, 1, 6, 14, 0),\n",
       " datetime.datetime(2009, 1, 6, 14, 15),\n",
       " datetime.datetime(2009, 1, 6, 14, 30),\n",
       " datetime.datetime(2009, 1, 6, 14, 45),\n",
       " datetime.datetime(2009, 1, 6, 15, 0),\n",
       " datetime.datetime(2009, 1, 6, 15, 15),\n",
       " datetime.datetime(2009, 1, 6, 15, 30),\n",
       " datetime.datetime(2009, 1, 6, 15, 45),\n",
       " datetime.datetime(2009, 1, 6, 16, 0),\n",
       " datetime.datetime(2009, 1, 6, 16, 15),\n",
       " datetime.datetime(2009, 1, 6, 16, 30),\n",
       " datetime.datetime(2009, 1, 6, 16, 45),\n",
       " datetime.datetime(2009, 1, 6, 17, 0),\n",
       " datetime.datetime(2009, 1, 6, 17, 15),\n",
       " datetime.datetime(2009, 1, 6, 17, 30),\n",
       " datetime.datetime(2009, 1, 6, 17, 45),\n",
       " datetime.datetime(2009, 1, 6, 18, 0),\n",
       " datetime.datetime(2009, 1, 6, 18, 15),\n",
       " datetime.datetime(2009, 1, 6, 18, 30),\n",
       " datetime.datetime(2009, 1, 6, 18, 45),\n",
       " datetime.datetime(2009, 1, 6, 19, 0),\n",
       " datetime.datetime(2009, 1, 6, 19, 15),\n",
       " datetime.datetime(2009, 1, 6, 19, 30),\n",
       " datetime.datetime(2009, 1, 6, 19, 45),\n",
       " datetime.datetime(2009, 1, 6, 20, 0),\n",
       " datetime.datetime(2009, 1, 6, 20, 15),\n",
       " datetime.datetime(2009, 1, 6, 20, 30),\n",
       " datetime.datetime(2009, 1, 6, 20, 45),\n",
       " datetime.datetime(2009, 1, 6, 21, 0),\n",
       " datetime.datetime(2009, 1, 6, 21, 15),\n",
       " datetime.datetime(2009, 1, 6, 21, 30),\n",
       " datetime.datetime(2009, 1, 6, 21, 45),\n",
       " datetime.datetime(2009, 1, 6, 22, 0),\n",
       " datetime.datetime(2009, 1, 6, 22, 15),\n",
       " datetime.datetime(2009, 1, 6, 22, 30),\n",
       " datetime.datetime(2009, 1, 6, 22, 45),\n",
       " datetime.datetime(2009, 1, 6, 23, 0),\n",
       " datetime.datetime(2009, 1, 6, 23, 15),\n",
       " datetime.datetime(2009, 1, 6, 23, 30),\n",
       " datetime.datetime(2009, 1, 6, 23, 45),\n",
       " datetime.datetime(2009, 1, 7, 0, 0),\n",
       " datetime.datetime(2009, 1, 7, 0, 15),\n",
       " datetime.datetime(2009, 1, 7, 0, 30),\n",
       " datetime.datetime(2009, 1, 7, 0, 45),\n",
       " datetime.datetime(2009, 1, 7, 1, 0),\n",
       " datetime.datetime(2009, 1, 7, 1, 15),\n",
       " datetime.datetime(2009, 1, 7, 1, 30),\n",
       " datetime.datetime(2009, 1, 7, 1, 45),\n",
       " datetime.datetime(2009, 1, 7, 2, 0),\n",
       " datetime.datetime(2009, 1, 7, 2, 15),\n",
       " datetime.datetime(2009, 1, 7, 2, 30),\n",
       " datetime.datetime(2009, 1, 7, 2, 45),\n",
       " datetime.datetime(2009, 1, 7, 3, 0),\n",
       " datetime.datetime(2009, 1, 7, 3, 15),\n",
       " datetime.datetime(2009, 1, 7, 3, 30),\n",
       " datetime.datetime(2009, 1, 7, 3, 45),\n",
       " datetime.datetime(2009, 1, 7, 4, 0),\n",
       " datetime.datetime(2009, 1, 7, 4, 15),\n",
       " datetime.datetime(2009, 1, 7, 4, 30),\n",
       " datetime.datetime(2009, 1, 7, 4, 45),\n",
       " datetime.datetime(2009, 1, 7, 5, 0),\n",
       " datetime.datetime(2009, 1, 7, 5, 15),\n",
       " datetime.datetime(2009, 1, 7, 5, 30),\n",
       " datetime.datetime(2009, 1, 7, 5, 45),\n",
       " datetime.datetime(2009, 1, 7, 6, 0),\n",
       " datetime.datetime(2009, 1, 7, 6, 15),\n",
       " datetime.datetime(2009, 1, 7, 6, 30),\n",
       " datetime.datetime(2009, 1, 7, 6, 45),\n",
       " datetime.datetime(2009, 1, 7, 7, 0),\n",
       " datetime.datetime(2009, 1, 7, 7, 15),\n",
       " datetime.datetime(2009, 1, 7, 7, 30),\n",
       " datetime.datetime(2009, 1, 7, 7, 45),\n",
       " datetime.datetime(2009, 1, 7, 8, 0),\n",
       " datetime.datetime(2009, 1, 7, 8, 15),\n",
       " datetime.datetime(2009, 1, 7, 8, 30),\n",
       " datetime.datetime(2009, 1, 7, 8, 45),\n",
       " datetime.datetime(2009, 1, 7, 9, 0),\n",
       " datetime.datetime(2009, 1, 7, 9, 15),\n",
       " datetime.datetime(2009, 1, 7, 9, 30),\n",
       " datetime.datetime(2009, 1, 7, 9, 45),\n",
       " datetime.datetime(2009, 1, 7, 10, 0),\n",
       " datetime.datetime(2009, 1, 7, 10, 15),\n",
       " datetime.datetime(2009, 1, 7, 10, 30),\n",
       " datetime.datetime(2009, 1, 7, 10, 45),\n",
       " datetime.datetime(2009, 1, 7, 11, 0),\n",
       " datetime.datetime(2009, 1, 7, 11, 15),\n",
       " datetime.datetime(2009, 1, 7, 11, 30),\n",
       " datetime.datetime(2009, 1, 7, 11, 45),\n",
       " datetime.datetime(2009, 1, 7, 12, 0),\n",
       " datetime.datetime(2009, 1, 7, 12, 15),\n",
       " datetime.datetime(2009, 1, 7, 12, 30),\n",
       " datetime.datetime(2009, 1, 7, 12, 45),\n",
       " datetime.datetime(2009, 1, 7, 13, 0),\n",
       " datetime.datetime(2009, 1, 7, 13, 15),\n",
       " datetime.datetime(2009, 1, 7, 13, 30),\n",
       " datetime.datetime(2009, 1, 7, 13, 45),\n",
       " datetime.datetime(2009, 1, 7, 14, 0),\n",
       " datetime.datetime(2009, 1, 7, 14, 15),\n",
       " datetime.datetime(2009, 1, 7, 14, 30),\n",
       " datetime.datetime(2009, 1, 7, 14, 45),\n",
       " datetime.datetime(2009, 1, 7, 15, 0),\n",
       " datetime.datetime(2009, 1, 7, 15, 15),\n",
       " datetime.datetime(2009, 1, 7, 15, 30),\n",
       " datetime.datetime(2009, 1, 7, 15, 45),\n",
       " datetime.datetime(2009, 1, 7, 16, 0),\n",
       " datetime.datetime(2009, 1, 7, 16, 15),\n",
       " datetime.datetime(2009, 1, 7, 16, 30),\n",
       " datetime.datetime(2009, 1, 7, 16, 45),\n",
       " datetime.datetime(2009, 1, 7, 17, 0),\n",
       " datetime.datetime(2009, 1, 7, 17, 15),\n",
       " datetime.datetime(2009, 1, 7, 17, 30),\n",
       " datetime.datetime(2009, 1, 7, 17, 45),\n",
       " datetime.datetime(2009, 1, 7, 18, 0),\n",
       " datetime.datetime(2009, 1, 7, 18, 15),\n",
       " datetime.datetime(2009, 1, 7, 18, 30),\n",
       " datetime.datetime(2009, 1, 7, 18, 45),\n",
       " datetime.datetime(2009, 1, 7, 19, 0),\n",
       " datetime.datetime(2009, 1, 7, 19, 15),\n",
       " datetime.datetime(2009, 1, 7, 19, 30),\n",
       " datetime.datetime(2009, 1, 7, 19, 45),\n",
       " datetime.datetime(2009, 1, 7, 20, 0),\n",
       " datetime.datetime(2009, 1, 7, 20, 15),\n",
       " datetime.datetime(2009, 1, 7, 20, 30),\n",
       " datetime.datetime(2009, 1, 7, 20, 45),\n",
       " datetime.datetime(2009, 1, 7, 21, 0),\n",
       " datetime.datetime(2009, 1, 7, 21, 15),\n",
       " datetime.datetime(2009, 1, 7, 21, 30),\n",
       " datetime.datetime(2009, 1, 7, 21, 45),\n",
       " datetime.datetime(2009, 1, 7, 22, 0),\n",
       " datetime.datetime(2009, 1, 7, 22, 15),\n",
       " datetime.datetime(2009, 1, 7, 22, 30),\n",
       " datetime.datetime(2009, 1, 7, 22, 45),\n",
       " datetime.datetime(2009, 1, 7, 23, 0),\n",
       " datetime.datetime(2009, 1, 7, 23, 15),\n",
       " datetime.datetime(2009, 1, 7, 23, 30),\n",
       " datetime.datetime(2009, 1, 7, 23, 45),\n",
       " datetime.datetime(2009, 1, 8, 0, 0),\n",
       " datetime.datetime(2009, 1, 8, 0, 15),\n",
       " datetime.datetime(2009, 1, 8, 0, 30),\n",
       " datetime.datetime(2009, 1, 8, 0, 45),\n",
       " datetime.datetime(2009, 1, 8, 1, 0),\n",
       " datetime.datetime(2009, 1, 8, 1, 15),\n",
       " datetime.datetime(2009, 1, 8, 1, 30),\n",
       " datetime.datetime(2009, 1, 8, 1, 45),\n",
       " datetime.datetime(2009, 1, 8, 2, 0),\n",
       " datetime.datetime(2009, 1, 8, 2, 15),\n",
       " datetime.datetime(2009, 1, 8, 2, 30),\n",
       " datetime.datetime(2009, 1, 8, 2, 45),\n",
       " datetime.datetime(2009, 1, 8, 3, 0),\n",
       " datetime.datetime(2009, 1, 8, 3, 15),\n",
       " datetime.datetime(2009, 1, 8, 3, 30),\n",
       " datetime.datetime(2009, 1, 8, 3, 45),\n",
       " datetime.datetime(2009, 1, 8, 4, 0),\n",
       " datetime.datetime(2009, 1, 8, 4, 15),\n",
       " datetime.datetime(2009, 1, 8, 4, 30),\n",
       " datetime.datetime(2009, 1, 8, 4, 45),\n",
       " datetime.datetime(2009, 1, 8, 5, 0),\n",
       " datetime.datetime(2009, 1, 8, 5, 15),\n",
       " datetime.datetime(2009, 1, 8, 5, 30),\n",
       " datetime.datetime(2009, 1, 8, 5, 45),\n",
       " datetime.datetime(2009, 1, 8, 6, 0),\n",
       " datetime.datetime(2009, 1, 8, 6, 15),\n",
       " datetime.datetime(2009, 1, 8, 6, 30),\n",
       " datetime.datetime(2009, 1, 8, 6, 45),\n",
       " datetime.datetime(2009, 1, 8, 7, 0),\n",
       " datetime.datetime(2009, 1, 8, 7, 15),\n",
       " datetime.datetime(2009, 1, 8, 7, 30),\n",
       " datetime.datetime(2009, 1, 8, 7, 45),\n",
       " datetime.datetime(2009, 1, 8, 8, 0),\n",
       " datetime.datetime(2009, 1, 8, 8, 15),\n",
       " datetime.datetime(2009, 1, 8, 8, 30),\n",
       " datetime.datetime(2009, 1, 8, 8, 45),\n",
       " datetime.datetime(2009, 1, 8, 9, 0),\n",
       " datetime.datetime(2009, 1, 8, 9, 15),\n",
       " datetime.datetime(2009, 1, 8, 9, 30),\n",
       " datetime.datetime(2009, 1, 8, 9, 45),\n",
       " datetime.datetime(2009, 1, 8, 10, 0),\n",
       " datetime.datetime(2009, 1, 8, 10, 15),\n",
       " datetime.datetime(2009, 1, 8, 10, 30),\n",
       " datetime.datetime(2009, 1, 8, 10, 45),\n",
       " datetime.datetime(2009, 1, 8, 11, 0),\n",
       " datetime.datetime(2009, 1, 8, 11, 15),\n",
       " datetime.datetime(2009, 1, 8, 11, 30),\n",
       " datetime.datetime(2009, 1, 8, 11, 45),\n",
       " datetime.datetime(2009, 1, 8, 12, 0),\n",
       " datetime.datetime(2009, 1, 8, 12, 15),\n",
       " datetime.datetime(2009, 1, 8, 12, 30),\n",
       " datetime.datetime(2009, 1, 8, 12, 45),\n",
       " datetime.datetime(2009, 1, 8, 13, 0),\n",
       " datetime.datetime(2009, 1, 8, 13, 15),\n",
       " datetime.datetime(2009, 1, 8, 13, 30),\n",
       " datetime.datetime(2009, 1, 8, 13, 45),\n",
       " datetime.datetime(2009, 1, 8, 14, 0),\n",
       " datetime.datetime(2009, 1, 8, 14, 15),\n",
       " datetime.datetime(2009, 1, 8, 14, 30),\n",
       " datetime.datetime(2009, 1, 8, 14, 45),\n",
       " datetime.datetime(2009, 1, 8, 15, 0),\n",
       " datetime.datetime(2009, 1, 8, 15, 15),\n",
       " datetime.datetime(2009, 1, 8, 15, 30),\n",
       " datetime.datetime(2009, 1, 8, 15, 45),\n",
       " datetime.datetime(2009, 1, 8, 16, 0),\n",
       " datetime.datetime(2009, 1, 8, 16, 15),\n",
       " datetime.datetime(2009, 1, 8, 16, 30),\n",
       " datetime.datetime(2009, 1, 8, 16, 45),\n",
       " datetime.datetime(2009, 1, 8, 17, 0),\n",
       " datetime.datetime(2009, 1, 8, 17, 15),\n",
       " datetime.datetime(2009, 1, 8, 17, 30),\n",
       " datetime.datetime(2009, 1, 8, 17, 45),\n",
       " datetime.datetime(2009, 1, 8, 18, 0),\n",
       " datetime.datetime(2009, 1, 8, 18, 15),\n",
       " datetime.datetime(2009, 1, 8, 18, 30),\n",
       " datetime.datetime(2009, 1, 8, 18, 45),\n",
       " datetime.datetime(2009, 1, 8, 19, 0),\n",
       " datetime.datetime(2009, 1, 8, 19, 15),\n",
       " datetime.datetime(2009, 1, 8, 19, 30),\n",
       " datetime.datetime(2009, 1, 8, 19, 45),\n",
       " datetime.datetime(2009, 1, 8, 20, 0),\n",
       " datetime.datetime(2009, 1, 8, 20, 15),\n",
       " datetime.datetime(2009, 1, 8, 20, 30),\n",
       " datetime.datetime(2009, 1, 8, 20, 45),\n",
       " datetime.datetime(2009, 1, 8, 21, 0),\n",
       " datetime.datetime(2009, 1, 8, 21, 15),\n",
       " datetime.datetime(2009, 1, 8, 21, 30),\n",
       " datetime.datetime(2009, 1, 8, 21, 45),\n",
       " datetime.datetime(2009, 1, 8, 22, 0),\n",
       " datetime.datetime(2009, 1, 8, 22, 15),\n",
       " datetime.datetime(2009, 1, 8, 22, 30),\n",
       " datetime.datetime(2009, 1, 8, 22, 45),\n",
       " datetime.datetime(2009, 1, 8, 23, 0),\n",
       " datetime.datetime(2009, 1, 8, 23, 15),\n",
       " datetime.datetime(2009, 1, 8, 23, 30),\n",
       " datetime.datetime(2009, 1, 8, 23, 45),\n",
       " datetime.datetime(2009, 1, 9, 0, 0),\n",
       " datetime.datetime(2009, 1, 9, 0, 15),\n",
       " datetime.datetime(2009, 1, 9, 0, 30),\n",
       " datetime.datetime(2009, 1, 9, 0, 45),\n",
       " datetime.datetime(2009, 1, 9, 1, 0),\n",
       " datetime.datetime(2009, 1, 9, 1, 15),\n",
       " datetime.datetime(2009, 1, 9, 1, 30),\n",
       " datetime.datetime(2009, 1, 9, 1, 45),\n",
       " datetime.datetime(2009, 1, 9, 2, 0),\n",
       " datetime.datetime(2009, 1, 9, 2, 15),\n",
       " datetime.datetime(2009, 1, 9, 2, 30),\n",
       " datetime.datetime(2009, 1, 9, 2, 45),\n",
       " datetime.datetime(2009, 1, 9, 3, 0),\n",
       " datetime.datetime(2009, 1, 9, 3, 15),\n",
       " datetime.datetime(2009, 1, 9, 3, 30),\n",
       " datetime.datetime(2009, 1, 9, 3, 45),\n",
       " datetime.datetime(2009, 1, 9, 4, 0),\n",
       " datetime.datetime(2009, 1, 9, 4, 15),\n",
       " datetime.datetime(2009, 1, 9, 4, 30),\n",
       " datetime.datetime(2009, 1, 9, 4, 45),\n",
       " datetime.datetime(2009, 1, 9, 5, 0),\n",
       " datetime.datetime(2009, 1, 9, 5, 15),\n",
       " datetime.datetime(2009, 1, 9, 5, 30),\n",
       " datetime.datetime(2009, 1, 9, 5, 45),\n",
       " datetime.datetime(2009, 1, 9, 6, 0),\n",
       " datetime.datetime(2009, 1, 9, 6, 15),\n",
       " datetime.datetime(2009, 1, 9, 6, 30),\n",
       " datetime.datetime(2009, 1, 9, 6, 45),\n",
       " datetime.datetime(2009, 1, 9, 7, 0),\n",
       " datetime.datetime(2009, 1, 9, 7, 15),\n",
       " datetime.datetime(2009, 1, 9, 7, 30),\n",
       " datetime.datetime(2009, 1, 9, 7, 45),\n",
       " datetime.datetime(2009, 1, 9, 8, 0),\n",
       " datetime.datetime(2009, 1, 9, 8, 15),\n",
       " datetime.datetime(2009, 1, 9, 8, 30),\n",
       " datetime.datetime(2009, 1, 9, 8, 45),\n",
       " datetime.datetime(2009, 1, 9, 9, 0),\n",
       " datetime.datetime(2009, 1, 9, 9, 15),\n",
       " datetime.datetime(2009, 1, 9, 9, 30),\n",
       " datetime.datetime(2009, 1, 9, 9, 45),\n",
       " datetime.datetime(2009, 1, 9, 10, 0),\n",
       " datetime.datetime(2009, 1, 9, 10, 15),\n",
       " datetime.datetime(2009, 1, 9, 10, 30),\n",
       " datetime.datetime(2009, 1, 9, 10, 45),\n",
       " datetime.datetime(2009, 1, 9, 11, 0),\n",
       " datetime.datetime(2009, 1, 9, 11, 15),\n",
       " datetime.datetime(2009, 1, 9, 11, 30),\n",
       " datetime.datetime(2009, 1, 9, 11, 45),\n",
       " datetime.datetime(2009, 1, 9, 12, 0),\n",
       " datetime.datetime(2009, 1, 9, 12, 15),\n",
       " datetime.datetime(2009, 1, 9, 12, 30),\n",
       " datetime.datetime(2009, 1, 9, 12, 45),\n",
       " datetime.datetime(2009, 1, 9, 13, 0),\n",
       " datetime.datetime(2009, 1, 9, 13, 15),\n",
       " datetime.datetime(2009, 1, 9, 13, 30),\n",
       " datetime.datetime(2009, 1, 9, 13, 45),\n",
       " datetime.datetime(2009, 1, 9, 14, 0),\n",
       " datetime.datetime(2009, 1, 9, 14, 15),\n",
       " datetime.datetime(2009, 1, 9, 14, 30),\n",
       " datetime.datetime(2009, 1, 9, 14, 45),\n",
       " datetime.datetime(2009, 1, 9, 15, 0),\n",
       " datetime.datetime(2009, 1, 9, 15, 15),\n",
       " datetime.datetime(2009, 1, 9, 15, 30),\n",
       " datetime.datetime(2009, 1, 9, 15, 45),\n",
       " datetime.datetime(2009, 1, 9, 16, 0),\n",
       " datetime.datetime(2009, 1, 9, 16, 15),\n",
       " datetime.datetime(2009, 1, 9, 16, 30),\n",
       " datetime.datetime(2009, 1, 9, 16, 45),\n",
       " datetime.datetime(2009, 1, 9, 17, 0),\n",
       " datetime.datetime(2009, 1, 9, 17, 15),\n",
       " datetime.datetime(2009, 1, 9, 17, 30),\n",
       " datetime.datetime(2009, 1, 9, 17, 45),\n",
       " datetime.datetime(2009, 1, 9, 18, 0),\n",
       " datetime.datetime(2009, 1, 9, 18, 15),\n",
       " datetime.datetime(2009, 1, 9, 18, 30),\n",
       " datetime.datetime(2009, 1, 9, 18, 45),\n",
       " datetime.datetime(2009, 1, 9, 19, 0),\n",
       " datetime.datetime(2009, 1, 9, 19, 15),\n",
       " datetime.datetime(2009, 1, 9, 19, 30),\n",
       " datetime.datetime(2009, 1, 9, 19, 45),\n",
       " datetime.datetime(2009, 1, 9, 20, 0),\n",
       " datetime.datetime(2009, 1, 9, 20, 15),\n",
       " datetime.datetime(2009, 1, 9, 20, 30),\n",
       " datetime.datetime(2009, 1, 9, 20, 45),\n",
       " datetime.datetime(2009, 1, 9, 21, 0),\n",
       " datetime.datetime(2009, 1, 9, 21, 15),\n",
       " datetime.datetime(2009, 1, 9, 21, 30),\n",
       " datetime.datetime(2009, 1, 9, 21, 45),\n",
       " datetime.datetime(2009, 1, 9, 22, 0),\n",
       " datetime.datetime(2009, 1, 9, 22, 15),\n",
       " datetime.datetime(2009, 1, 9, 22, 30),\n",
       " datetime.datetime(2009, 1, 9, 22, 45),\n",
       " datetime.datetime(2009, 1, 9, 23, 0),\n",
       " datetime.datetime(2009, 1, 9, 23, 15),\n",
       " datetime.datetime(2009, 1, 9, 23, 30),\n",
       " datetime.datetime(2009, 1, 9, 23, 45),\n",
       " datetime.datetime(2009, 1, 10, 0, 0),\n",
       " datetime.datetime(2009, 1, 10, 0, 15),\n",
       " datetime.datetime(2009, 1, 10, 0, 30),\n",
       " datetime.datetime(2009, 1, 10, 0, 45),\n",
       " datetime.datetime(2009, 1, 10, 1, 0),\n",
       " datetime.datetime(2009, 1, 10, 1, 15),\n",
       " datetime.datetime(2009, 1, 10, 1, 30),\n",
       " datetime.datetime(2009, 1, 10, 1, 45),\n",
       " datetime.datetime(2009, 1, 10, 2, 0),\n",
       " datetime.datetime(2009, 1, 10, 2, 15),\n",
       " datetime.datetime(2009, 1, 10, 2, 30),\n",
       " datetime.datetime(2009, 1, 10, 2, 45),\n",
       " datetime.datetime(2009, 1, 10, 3, 0),\n",
       " datetime.datetime(2009, 1, 10, 3, 15),\n",
       " datetime.datetime(2009, 1, 10, 3, 30),\n",
       " datetime.datetime(2009, 1, 10, 3, 45),\n",
       " datetime.datetime(2009, 1, 10, 4, 0),\n",
       " datetime.datetime(2009, 1, 10, 4, 15),\n",
       " datetime.datetime(2009, 1, 10, 4, 30),\n",
       " datetime.datetime(2009, 1, 10, 4, 45),\n",
       " datetime.datetime(2009, 1, 10, 5, 0),\n",
       " datetime.datetime(2009, 1, 10, 5, 15),\n",
       " datetime.datetime(2009, 1, 10, 5, 30),\n",
       " datetime.datetime(2009, 1, 10, 5, 45),\n",
       " datetime.datetime(2009, 1, 10, 6, 0),\n",
       " datetime.datetime(2009, 1, 10, 6, 15),\n",
       " datetime.datetime(2009, 1, 10, 6, 30),\n",
       " datetime.datetime(2009, 1, 10, 6, 45),\n",
       " datetime.datetime(2009, 1, 10, 7, 0),\n",
       " datetime.datetime(2009, 1, 10, 7, 15),\n",
       " datetime.datetime(2009, 1, 10, 7, 30),\n",
       " datetime.datetime(2009, 1, 10, 7, 45),\n",
       " datetime.datetime(2009, 1, 10, 8, 0),\n",
       " datetime.datetime(2009, 1, 10, 8, 15),\n",
       " datetime.datetime(2009, 1, 10, 8, 30),\n",
       " datetime.datetime(2009, 1, 10, 8, 45),\n",
       " datetime.datetime(2009, 1, 10, 9, 0),\n",
       " datetime.datetime(2009, 1, 10, 9, 15),\n",
       " datetime.datetime(2009, 1, 10, 9, 30),\n",
       " datetime.datetime(2009, 1, 10, 9, 45),\n",
       " datetime.datetime(2009, 1, 10, 10, 0),\n",
       " datetime.datetime(2009, 1, 10, 10, 15),\n",
       " datetime.datetime(2009, 1, 10, 10, 30),\n",
       " datetime.datetime(2009, 1, 10, 10, 45),\n",
       " datetime.datetime(2009, 1, 10, 11, 0),\n",
       " datetime.datetime(2009, 1, 10, 11, 15),\n",
       " datetime.datetime(2009, 1, 10, 11, 30),\n",
       " datetime.datetime(2009, 1, 10, 11, 45),\n",
       " datetime.datetime(2009, 1, 10, 12, 0),\n",
       " datetime.datetime(2009, 1, 10, 12, 15),\n",
       " datetime.datetime(2009, 1, 10, 12, 30),\n",
       " datetime.datetime(2009, 1, 10, 12, 45),\n",
       " datetime.datetime(2009, 1, 10, 13, 0),\n",
       " datetime.datetime(2009, 1, 10, 13, 15),\n",
       " datetime.datetime(2009, 1, 10, 13, 30),\n",
       " datetime.datetime(2009, 1, 10, 13, 45),\n",
       " datetime.datetime(2009, 1, 10, 14, 0),\n",
       " datetime.datetime(2009, 1, 10, 14, 15),\n",
       " datetime.datetime(2009, 1, 10, 14, 30),\n",
       " datetime.datetime(2009, 1, 10, 14, 45),\n",
       " datetime.datetime(2009, 1, 10, 15, 0),\n",
       " datetime.datetime(2009, 1, 10, 15, 15),\n",
       " datetime.datetime(2009, 1, 10, 15, 30),\n",
       " datetime.datetime(2009, 1, 10, 15, 45),\n",
       " datetime.datetime(2009, 1, 10, 16, 0),\n",
       " datetime.datetime(2009, 1, 10, 16, 15),\n",
       " datetime.datetime(2009, 1, 10, 16, 30),\n",
       " datetime.datetime(2009, 1, 10, 16, 45),\n",
       " datetime.datetime(2009, 1, 10, 17, 0),\n",
       " datetime.datetime(2009, 1, 10, 17, 15),\n",
       " datetime.datetime(2009, 1, 10, 17, 30),\n",
       " datetime.datetime(2009, 1, 10, 17, 45),\n",
       " datetime.datetime(2009, 1, 10, 18, 0),\n",
       " datetime.datetime(2009, 1, 10, 18, 15),\n",
       " datetime.datetime(2009, 1, 10, 18, 30),\n",
       " datetime.datetime(2009, 1, 10, 18, 45),\n",
       " datetime.datetime(2009, 1, 10, 19, 0),\n",
       " datetime.datetime(2009, 1, 10, 19, 15),\n",
       " datetime.datetime(2009, 1, 10, 19, 30),\n",
       " datetime.datetime(2009, 1, 10, 19, 45),\n",
       " datetime.datetime(2009, 1, 10, 20, 0),\n",
       " datetime.datetime(2009, 1, 10, 20, 15),\n",
       " datetime.datetime(2009, 1, 10, 20, 30),\n",
       " datetime.datetime(2009, 1, 10, 20, 45),\n",
       " datetime.datetime(2009, 1, 10, 21, 0),\n",
       " datetime.datetime(2009, 1, 10, 21, 15),\n",
       " datetime.datetime(2009, 1, 10, 21, 30),\n",
       " datetime.datetime(2009, 1, 10, 21, 45),\n",
       " datetime.datetime(2009, 1, 10, 22, 0),\n",
       " datetime.datetime(2009, 1, 10, 22, 15),\n",
       " datetime.datetime(2009, 1, 10, 22, 30),\n",
       " datetime.datetime(2009, 1, 10, 22, 45),\n",
       " datetime.datetime(2009, 1, 10, 23, 0),\n",
       " datetime.datetime(2009, 1, 10, 23, 15),\n",
       " datetime.datetime(2009, 1, 10, 23, 30),\n",
       " datetime.datetime(2009, 1, 10, 23, 45),\n",
       " datetime.datetime(2009, 1, 11, 0, 0),\n",
       " datetime.datetime(2009, 1, 11, 0, 15),\n",
       " datetime.datetime(2009, 1, 11, 0, 30),\n",
       " datetime.datetime(2009, 1, 11, 0, 45),\n",
       " datetime.datetime(2009, 1, 11, 1, 0),\n",
       " datetime.datetime(2009, 1, 11, 1, 15),\n",
       " datetime.datetime(2009, 1, 11, 1, 30),\n",
       " datetime.datetime(2009, 1, 11, 1, 45),\n",
       " datetime.datetime(2009, 1, 11, 2, 0),\n",
       " datetime.datetime(2009, 1, 11, 2, 15),\n",
       " datetime.datetime(2009, 1, 11, 2, 30),\n",
       " datetime.datetime(2009, 1, 11, 2, 45),\n",
       " datetime.datetime(2009, 1, 11, 3, 0),\n",
       " datetime.datetime(2009, 1, 11, 3, 15),\n",
       " datetime.datetime(2009, 1, 11, 3, 30),\n",
       " datetime.datetime(2009, 1, 11, 3, 45),\n",
       " datetime.datetime(2009, 1, 11, 4, 0),\n",
       " datetime.datetime(2009, 1, 11, 4, 15),\n",
       " datetime.datetime(2009, 1, 11, 4, 30),\n",
       " datetime.datetime(2009, 1, 11, 4, 45),\n",
       " datetime.datetime(2009, 1, 11, 5, 0),\n",
       " datetime.datetime(2009, 1, 11, 5, 15),\n",
       " datetime.datetime(2009, 1, 11, 5, 30),\n",
       " datetime.datetime(2009, 1, 11, 5, 45),\n",
       " datetime.datetime(2009, 1, 11, 6, 0),\n",
       " datetime.datetime(2009, 1, 11, 6, 15),\n",
       " datetime.datetime(2009, 1, 11, 6, 30),\n",
       " datetime.datetime(2009, 1, 11, 6, 45),\n",
       " datetime.datetime(2009, 1, 11, 7, 0),\n",
       " datetime.datetime(2009, 1, 11, 7, 15),\n",
       " datetime.datetime(2009, 1, 11, 7, 30),\n",
       " datetime.datetime(2009, 1, 11, 7, 45),\n",
       " datetime.datetime(2009, 1, 11, 8, 0),\n",
       " datetime.datetime(2009, 1, 11, 8, 15),\n",
       " datetime.datetime(2009, 1, 11, 8, 30),\n",
       " datetime.datetime(2009, 1, 11, 8, 45),\n",
       " datetime.datetime(2009, 1, 11, 9, 0),\n",
       " datetime.datetime(2009, 1, 11, 9, 15),\n",
       " datetime.datetime(2009, 1, 11, 9, 30),\n",
       " datetime.datetime(2009, 1, 11, 9, 45),\n",
       " ...]"
      ]
     },
     "execution_count": 12,
     "metadata": {},
     "output_type": "execute_result"
    }
   ],
   "source": [
    "times"
   ]
  },
  {
   "cell_type": "code",
   "execution_count": null,
   "metadata": {},
   "outputs": [],
   "source": []
  },
  {
   "cell_type": "code",
   "execution_count": 1,
   "metadata": {},
   "outputs": [
    {
     "ename": "NameError",
     "evalue": "name 'os' is not defined",
     "output_type": "error",
     "traceback": [
      "\u001b[1;31m---------------------------------------------------------------------------\u001b[0m",
      "\u001b[1;31mNameError\u001b[0m                                 Traceback (most recent call last)",
      "\u001b[1;32m<ipython-input-1-2de96b888c41>\u001b[0m in \u001b[0;36m<module>\u001b[1;34m()\u001b[0m\n\u001b[0;32m     13\u001b[0m \u001b[1;33m\u001b[0m\u001b[0m\n\u001b[0;32m     14\u001b[0m \u001b[0mDATA_DIR\u001b[0m \u001b[1;33m=\u001b[0m \u001b[1;34mr\"C:\\Users\\User\\OneDrive\\GIZ\\Internship\\seb_test_ring\\CVSmaker\\smallData\"\u001b[0m\u001b[1;33m\u001b[0m\u001b[0m\n\u001b[1;32m---> 15\u001b[1;33m \u001b[0mfilelist\u001b[0m \u001b[1;33m=\u001b[0m \u001b[0mos\u001b[0m\u001b[1;33m.\u001b[0m\u001b[0mlistdir\u001b[0m\u001b[1;33m(\u001b[0m\u001b[0mDATA_DIR\u001b[0m\u001b[1;33m)\u001b[0m\u001b[1;33m\u001b[0m\u001b[0m\n\u001b[0m\u001b[0;32m     16\u001b[0m \u001b[0mfiles_nc\u001b[0m\u001b[1;33m=\u001b[0m\u001b[1;33m[\u001b[0m\u001b[0mDATA_DIR\u001b[0m\u001b[1;33m+\u001b[0m\u001b[1;34m\"\\\\\"\u001b[0m\u001b[1;33m+\u001b[0m\u001b[0mi\u001b[0m \u001b[1;32mfor\u001b[0m \u001b[0mi\u001b[0m \u001b[1;32min\u001b[0m \u001b[0mfilelist\u001b[0m \u001b[1;32mif\u001b[0m \u001b[0mi\u001b[0m\u001b[1;33m.\u001b[0m\u001b[0mendswith\u001b[0m\u001b[1;33m(\u001b[0m\u001b[1;34m'.nc'\u001b[0m\u001b[1;33m)\u001b[0m\u001b[1;33m]\u001b[0m\u001b[1;33m\u001b[0m\u001b[0m\n\u001b[0;32m     17\u001b[0m \u001b[1;33m\u001b[0m\u001b[0m\n",
      "\u001b[1;31mNameError\u001b[0m: name 'os' is not defined"
     ]
    }
   ],
   "source": [
    "\n",
    "\n",
    "lat =[]\n",
    "lon=[]\n",
    "#data=[]\n",
    "time=[]\n",
    "\n",
    "HGT=[50,80,100,150]\n",
    "speed=['A<','B<','C<','D<','E<']\n",
    "\n",
    "DATA = []\n",
    "\n",
    "\n",
    "DATA_DIR = r\"C:\\Users\\User\\OneDrive\\GIZ\\Internship\\seb_test_ring\\CVSmaker\\smallData\"\n",
    "filelist = os.listdir(DATA_DIR)\n",
    "files_nc=[DATA_DIR+\"\\\\\"+i for i in filelist if i.endswith('.nc')]\n",
    "\n",
    "print (len(files_nc))\n",
    "print ((files_nc))\n",
    "\n",
    "for Net in files_nc:\n",
    "    root = Dataset(Net)\n",
    "    lat.append(float(root.variables[\"XLAT\"][0]))\n",
    "    lon.append(float(root.variables[\"XLONG\"][0]))\n",
    "    print('ONE')\n",
    "\n",
    "    SPDarray = []\n",
    "\n",
    "    for i in np.arange(0, 4):\n",
    "        WindDri = np.array(root[\"WDRO\"][:, i:i + 1]).flatten()\n",
    "        WindSpeed = np.array(root[\"WSPD\"][:, i:i + 1]).flatten()\n",
    "        windLen = len(WindDri)\n",
    "#         print (len(WindDri))\n",
    "#         print (len(WindSpeed))\n",
    "#         print(f'the cont g is {contg}')\n",
    "#         print(f'the cont l is {i+1}')\n",
    "\n",
    "\n",
    "        N = []; NNW = []; NW = []; WNW = []\n",
    "        W = []; WSW = []; SW = []; SSW = []\n",
    "        S = []; SSE = []; SE = []; ESE = []\n",
    "        E = []; ENE = []; NE = []; NNE = []\n",
    "\n",
    "        cont = 0\n",
    "\n",
    "        for i in WindDri:\n",
    "            if 360 - 11.25 <= i or i < 11.25 + 22.5 * 0:\n",
    "                N.append(WindSpeed[cont])\n",
    "            elif i < 11.25 + 22.5 * 1:\n",
    "                NNW.append(WindSpeed[cont])\n",
    "            elif i < 11.25 + 22.5 * 2:\n",
    "                NW.append(WindSpeed[cont])\n",
    "            elif i < 11.25 + 22.5 * 3:\n",
    "                WNW.append(WindSpeed[cont])\n",
    "\n",
    "            elif i < 11.25 + 22.5 * 4:\n",
    "                W.append(WindSpeed[cont])\n",
    "            elif i < 11.25 + 22.5 * 5:\n",
    "                WSW.append(WindSpeed[cont])\n",
    "            elif i < 11.25 + 22.5 * 6:\n",
    "                SW.append(WindSpeed[cont])\n",
    "            elif i < 11.25 + 22.5 * 7:\n",
    "                SSW.append(WindSpeed[cont])\n",
    "\n",
    "\n",
    "            elif i < 11.25 + 22.5 * 8:\n",
    "                S.append(WindSpeed[cont])\n",
    "            elif i < 11.25 + 22.5 * 9:\n",
    "                SSE.append(WindSpeed[cont])\n",
    "            elif i < 11.25 + 22.5 * 10:\n",
    "                SE.append(WindSpeed[cont])\n",
    "            elif i < 11.25 + 22.5 * 11:\n",
    "                ESE.append(WindSpeed[cont])\n",
    "\n",
    "\n",
    "            elif i < 11.25 + 22.5 * 12:\n",
    "                E.append(WindSpeed[cont])\n",
    "            elif i < 11.25 + 22.5 * 13:\n",
    "                ENE.append(WindSpeed[cont])\n",
    "            elif i < 11.25 + 22.5 * 14:\n",
    "                NE.append(WindSpeed[cont])\n",
    "            elif i < 11.25 + 22.5 * 15:\n",
    "                NNE.append(WindSpeed[cont])\n",
    "\n",
    "            cont += 1\n",
    "            \n",
    "        N = sorted(N)\n",
    "        NNW = sorted(NNW)\n",
    "        NW = sorted(NW)\n",
    "        WNW = sorted(WNW)\n",
    "\n",
    "        W = sorted(W)\n",
    "        WSW = sorted(WSW)\n",
    "        SW = sorted(SW)\n",
    "        SSW = sorted(SSW)\n",
    "\n",
    "        S = sorted(S)\n",
    "        SSE = sorted(SSE)\n",
    "        SE = sorted(SE)\n",
    "        ESE = sorted(ESE)\n",
    "\n",
    "        E = sorted(E)\n",
    "        ENE = sorted(ENE)\n",
    "        NE = sorted(NE)\n",
    "        NNE = sorted(NNE)\n",
    "\n",
    "        a = 2.5    ###### Change\n",
    "        b = 5      ###### Change\n",
    "        c = 7.5    ###### Change\n",
    "        d = 10     ###### Change\n",
    "        e = 12.5   ###### Change\n",
    "\n",
    "        #print(f\"The len of N is {len(N)}\")\n",
    "        NspdA = len(N) - 1 - bisect.bisect_left(N, a)  # length start at 1 but bisect returns index\n",
    "        NspdB = len(N) - 1 - bisect.bisect_left(N, b)\n",
    "        NspdC = len(N) - 1 - bisect.bisect_left(N, c)\n",
    "        NspdD = len(N) - 1 - bisect.bisect_left(N, d)\n",
    "        NspdE = len(N) - 1 - bisect.bisect_left(N, e)\n",
    "\n",
    "        #print(f\"The len of N is {len(NNW)}\")\n",
    "        NNWspdA = len(NNW) - 1 - bisect.bisect_left(NNW, a)  # length start at 1 but bisect returns index\n",
    "        NNWspdB = len(NNW) - 1 - bisect.bisect_left(NNW, b)\n",
    "        NNWspdC = len(NNW) - 1 - bisect.bisect_left(NNW, c)\n",
    "        NNWspdD = len(NNW) - 1 - bisect.bisect_left(NNW, d)\n",
    "        NNWspdE = len(NNW) - 1 - bisect.bisect_left(NNW, e)\n",
    "\n",
    "        #print(f\"The len of N is {len(NW)}\")\n",
    "        NWspdA = len(NW) - 1 - bisect.bisect_left(NW, a)  # length start at 1 but bisect returns index\n",
    "        NWspdB = len(NW) - 1 - bisect.bisect_left(NW, b)\n",
    "        NWspdC = len(NW) - 1 - bisect.bisect_left(NW, c)\n",
    "        NWspdD = len(NW) - 1 - bisect.bisect_left(NW, d)\n",
    "        NWspdE = len(NW) - 1 - bisect.bisect_left(NW, e)\n",
    "\n",
    "        #print(f\"The len of N is {len(WNW)}\")\n",
    "        WNWspdA = len(WNW) - 1 - bisect.bisect_left(WNW, a)  # length start at 1 but bisect returns index\n",
    "        WNWspdB = len(WNW) - 1 - bisect.bisect_left(WNW, b)\n",
    "        WNWspdC = len(WNW) - 1 - bisect.bisect_left(WNW, c)\n",
    "        WNWspdD = len(WNW) - 1 - bisect.bisect_left(WNW, d)\n",
    "        WNWspdE = len(WNW) - 1 - bisect.bisect_left(WNW, e)\n",
    "\n",
    "        #print(f\"The len of W is {len(W)}\")\n",
    "        WspdA = len(W) - 1 - bisect.bisect_left(W, a)  # length start at 1 but bisect returns index\n",
    "        WspdB = len(W) - 1 - bisect.bisect_left(W, b)\n",
    "        WspdC = len(W) - 1 - bisect.bisect_left(W, c)\n",
    "        WspdD = len(W) - 1 - bisect.bisect_left(W, d)\n",
    "        WspdE = len(W) - 1 - bisect.bisect_left(W, e)\n",
    "\n",
    "        #print(f\"The len of W is {len(WSW)}\")\n",
    "        WSWspdA = len(WSW) - 1 - bisect.bisect_left(WSW, a)  # length start at 1 but bisect returns index\n",
    "        WSWspdB = len(WSW) - 1 - bisect.bisect_left(WSW, b)\n",
    "        WSWspdC = len(WSW) - 1 - bisect.bisect_left(WSW, c)\n",
    "        WSWspdD = len(WSW) - 1 - bisect.bisect_left(WSW, d)\n",
    "        WSWspdE = len(WSW) - 1 - bisect.bisect_left(WSW, e)\n",
    "\n",
    "        #print(f\"The len of W is {len(SW)}\")\n",
    "        SWspdA = len(SW) - 1 - bisect.bisect_left(SW, a)  # length start at 1 but bisect returns index\n",
    "        SWspdB = len(SW) - 1 - bisect.bisect_left(SW, b)\n",
    "        SWspdC = len(SW) - 1 - bisect.bisect_left(SW, c)\n",
    "        SWspdD = len(SW) - 1 - bisect.bisect_left(SW, d)\n",
    "        SWspdE = len(SW) - 1 - bisect.bisect_left(SW, e)\n",
    "\n",
    "        #print(f\"The len of W is {len(SSW)}\")\n",
    "        SSWspdA = len(SSW) - 1 - bisect.bisect_left(SSW, a)  # length start at 1 but bisect returns index\n",
    "        SSWspdB = len(SSW) - 1 - bisect.bisect_left(SSW, b)\n",
    "        SSWspdC = len(SSW) - 1 - bisect.bisect_left(SSW, c)\n",
    "        SSWspdD = len(SSW) - 1 - bisect.bisect_left(SSW, d)\n",
    "        SSWspdE = len(SSW) - 1 - bisect.bisect_left(SSW, e)\n",
    "\n",
    "        #print(f\"The len of S is {len(S)}\")\n",
    "        SspdA = len(S) - 1 - bisect.bisect_left(S, a)  # length start at 1 but bisect returns index\n",
    "        SspdB = len(S) - 1 - bisect.bisect_left(S, b)\n",
    "        SspdC = len(S) - 1 - bisect.bisect_left(S, c)\n",
    "        SspdD = len(S) - 1 - bisect.bisect_left(S, d)\n",
    "        SspdE = len(S) - 1 - bisect.bisect_left(S, e)\n",
    "\n",
    "        #print(f\"The len of S is {len(SSE)}\")\n",
    "        SSEspdA = len(SSE) - 1 - bisect.bisect_left(SSE, a)  # length start at 1 but bisect returns index\n",
    "        SSEspdB = len(SSE) - 1 - bisect.bisect_left(SSE, b)\n",
    "        SSEspdC = len(SSE) - 1 - bisect.bisect_left(SSE, c)\n",
    "        SSEspdD = len(SSE) - 1 - bisect.bisect_left(SSE, d)\n",
    "        SSEspdE = len(SSE) - 1 - bisect.bisect_left(SSE, e)\n",
    "\n",
    "        #print(f\"The len of S is {len(SE)}\")\n",
    "        SEspdA = len(SE) - 1 - bisect.bisect_left(SE, a)  # length start at 1 but bisect returns index\n",
    "        SEspdB = len(SE) - 1 - bisect.bisect_left(SE, b)\n",
    "        SEspdC = len(SE) - 1 - bisect.bisect_left(SE, c)\n",
    "        SEspdD = len(SE) - 1 - bisect.bisect_left(SE, d)\n",
    "        SEspdE = len(SE) - 1 - bisect.bisect_left(SE, e)\n",
    "\n",
    "        #print(f\"The len of S is {len(ESE)}\")\n",
    "        ESEspdA = len(ESE) - 1 - bisect.bisect_left(ESE, a)  # length start at 1 but bisect returns index\n",
    "        ESEspdB = len(ESE) - 1 - bisect.bisect_left(ESE, b)\n",
    "        ESEspdC = len(ESE) - 1 - bisect.bisect_left(ESE, c)\n",
    "        ESEspdD = len(ESE) - 1 - bisect.bisect_left(ESE, d)\n",
    "        ESEspdE = len(ESE) - 1 - bisect.bisect_left(ESE, e)\n",
    "\n",
    "        #print(f\"The len of E is {len(E)}\")\n",
    "        EspdA = len(E) - 1 - bisect.bisect_left(E, a)  # length start at 1 but bisect returns index\n",
    "        EspdB = len(E) - 1 - bisect.bisect_left(E, b)\n",
    "        EspdC = len(E) - 1 - bisect.bisect_left(E, c)\n",
    "        EspdD = len(E) - 1 - bisect.bisect_left(E, d)\n",
    "        EspdE = len(E) - 1 - bisect.bisect_left(E, e)\n",
    "\n",
    "        #print(f\"The len of E is {len(ENE)}\")\n",
    "        ENEspdA = len(ENE) - 1 - bisect.bisect_left(ENE, a)  # length start at 1 but bisect returns index\n",
    "        ENEspdB = len(ENE) - 1 - bisect.bisect_left(ENE, b)\n",
    "        ENEspdC = len(ENE) - 1 - bisect.bisect_left(ENE, c)\n",
    "        ENEspdD = len(ENE) - 1 - bisect.bisect_left(ENE, d)\n",
    "        ENEspdE = len(ENE) - 1 - bisect.bisect_left(ENE, e)\n",
    "\n",
    "        #print(f\"The len of E is {len(NE)}\")\n",
    "        NEspdA = len(NE) - 1 - bisect.bisect_left(NE, a)  # length start at 1 but bisect returns index\n",
    "        NEspdB = len(NE) - 1 - bisect.bisect_left(NE, b)\n",
    "        NEspdC = len(NE) - 1 - bisect.bisect_left(NE, c)\n",
    "        NEspdD = len(NE) - 1 - bisect.bisect_left(NE, d)\n",
    "        NEspdE = len(NE) - 1 - bisect.bisect_left(NE, e)\n",
    "\n",
    "        #print(f\"The len of E is {len(NNE)}\")\n",
    "        NNEspdA = len(NNE) - 1 - bisect.bisect_left(NNE, a)  # length start at 1 but bisect returns index\n",
    "        NNEspdB = len(NNE) - 1 - bisect.bisect_left(NNE, b)\n",
    "        NNEspdC = len(NNE) - 1 - bisect.bisect_left(NNE, c)\n",
    "        NNEspdD = len(NNE) - 1 - bisect.bisect_left(NNE, d)\n",
    "        NNEspdE = len(NNE) - 1 - bisect.bisect_left(NNE, e)\n",
    "\n",
    "        SPDA = np.array(\n",
    "            [NspdA, NNWspdA, NWspdA, WNWspdA, WspdA, WSWspdA, SWspdA, SSWspdA, SspdA, SSEspdA, SEspdA, ESEspdA, EspdA,\n",
    "             ENEspdA, NEspdA, NNEspdA, ]) / windLen * 100\n",
    "        SPDB = np.array(\n",
    "            [NspdB, NNWspdB, NWspdB, WNWspdB, WspdB, WSWspdB, SWspdB, SSWspdB, SspdB, SSEspdB, SEspdB, ESEspdB, EspdB,\n",
    "             ENEspdB, NEspdB, NNEspdB, ]) / windLen * 100\n",
    "        SPDC = np.array(\n",
    "            [NspdC, NNWspdC, NWspdC, WNWspdC, WspdC, WSWspdC, SWspdC, SSWspdC, SspdC, SSEspdC, SEspdC, ESEspdC, EspdC,\n",
    "             ENEspdC, NEspdC, NNEspdC, ]) / windLen * 100\n",
    "        SPDD = np.array(\n",
    "            [NspdD, NNWspdD, NWspdD, WNWspdD, WspdD, WSWspdD, SWspdD, SSWspdD, SspdD, SSEspdD, SEspdD, ESEspdD, EspdD,\n",
    "             ENEspdD, NEspdD, NNEspdD, ]) / windLen * 100\n",
    "        SPDE = np.array(\n",
    "            [NspdE, NNWspdE, NWspdE, WNWspdE, WspdE, WSWspdE, SWspdE, SSWspdE, SspdE, SSEspdE, SEspdE, ESEspdE, EspdE,\n",
    "             ENEspdE, NEspdE, NNEspdE, ]) / windLen * 100\n",
    "\n",
    "        SPD=np.array([SPDA,SPDB,SPDC,SPDD,SPDE])\n",
    "        SPDarray.append(SPD)\n",
    "        print(\"Two\")\n",
    "\n",
    "\n",
    "    DATA.append(SPDarray)\n",
    "\n",
    "\n",
    "\n",
    "\n",
    "\n",
    "print(np.shape(np.array(DATA)))\n",
    "\n",
    "\n",
    "\n"
   ]
  },
  {
   "cell_type": "code",
   "execution_count": null,
   "metadata": {},
   "outputs": [],
   "source": []
  },
  {
   "cell_type": "code",
   "execution_count": null,
   "metadata": {},
   "outputs": [],
   "source": [
    "np.round(DATA,3)"
   ]
  },
  {
   "cell_type": "code",
   "execution_count": null,
   "metadata": {},
   "outputs": [],
   "source": [
    "(3, 4, 5, 16)"
   ]
  },
  {
   "cell_type": "code",
   "execution_count": null,
   "metadata": {},
   "outputs": [],
   "source": [
    "np.shape(DATA[1][1][0])"
   ]
  },
  {
   "cell_type": "code",
   "execution_count": null,
   "metadata": {},
   "outputs": [],
   "source": [
    "DATA[1][1][0]"
   ]
  },
  {
   "cell_type": "code",
   "execution_count": null,
   "metadata": {},
   "outputs": [],
   "source": [
    "DATA[2][3][0]"
   ]
  },
  {
   "cell_type": "code",
   "execution_count": null,
   "metadata": {},
   "outputs": [],
   "source": [
    "print(len(N))"
   ]
  },
  {
   "cell_type": "code",
   "execution_count": null,
   "metadata": {},
   "outputs": [],
   "source": [
    "np.shape(DATA)"
   ]
  },
  {
   "cell_type": "code",
   "execution_count": null,
   "metadata": {},
   "outputs": [],
   "source": []
  },
  {
   "cell_type": "code",
   "execution_count": null,
   "metadata": {},
   "outputs": [],
   "source": [
    "(len(N)-1-bisect.bisect_right(N, a)) / windLen * 100"
   ]
  },
  {
   "cell_type": "code",
   "execution_count": null,
   "metadata": {},
   "outputs": [],
   "source": [
    "NspdA/len(N)"
   ]
  },
  {
   "cell_type": "code",
   "execution_count": null,
   "metadata": {},
   "outputs": [],
   "source": [
    "NspdA / windLen * 100"
   ]
  },
  {
   "cell_type": "code",
   "execution_count": null,
   "metadata": {},
   "outputs": [],
   "source": []
  },
  {
   "cell_type": "code",
   "execution_count": null,
   "metadata": {},
   "outputs": [],
   "source": []
  },
  {
   "cell_type": "code",
   "execution_count": null,
   "metadata": {},
   "outputs": [],
   "source": []
  },
  {
   "cell_type": "code",
   "execution_count": null,
   "metadata": {},
   "outputs": [],
   "source": []
  },
  {
   "cell_type": "code",
   "execution_count": null,
   "metadata": {},
   "outputs": [],
   "source": []
  },
  {
   "cell_type": "code",
   "execution_count": null,
   "metadata": {},
   "outputs": [],
   "source": [
    "\n",
    "\n",
    "lat =[]\n",
    "lon=[]\n",
    "#data=[]\n",
    "time=[]\n",
    "\n",
    "HGT=[50,80,100,150]\n",
    "speed=['A<','B<','C<','D<','E<']\n",
    "\n",
    "DATA = []\n",
    "\n",
    "\n",
    "\n",
    "root = Dataset(Net)\n",
    "lat.append(float(root.variables[\"XLAT\"][0]))\n",
    "lon.append(float(root.variables[\"XLONG\"][0]))\n",
    "print('ONE')\n",
    "\n",
    "SPDarray = []\n",
    "\n",
    "for i in np.arange(0, 4):\n",
    "    WindDri = np.array(root[\"WDRO\"][:, i:i + 1]).flatten()\n",
    "    WindSpeed = np.array(root[\"WSPD\"][:, i:i + 1]).flatten()\n",
    "    windLen = len(WindDri)\n",
    "#         print (len(WindDri))\n",
    "#         print (len(WindSpeed))\n",
    "#         print(f'the cont g is {contg}')\n",
    "#         print(f'the cont l is {i+1}')\n",
    "\n",
    "\n",
    "    N = []; NNW = []; NW = []; WNW = []\n",
    "    W = []; WSW = []; SW = []; SSW = []\n",
    "    S = []; SSE = []; SE = []; ESE = []\n",
    "    E = []; ENE = []; NE = []; NNE = []\n",
    "\n",
    "    cont = 0\n",
    "\n",
    "    for i in WindDri:\n",
    "        if 360 - 11.25 <= i or i < 11.25 + 22.5 * 0:\n",
    "            N.append(WindSpeed[cont])\n",
    "        elif i < 11.25 + 22.5 * 1:\n",
    "            NNW.append(WindSpeed[cont])\n",
    "        elif i < 11.25 + 22.5 * 2:\n",
    "            NW.append(WindSpeed[cont])\n",
    "        elif i < 11.25 + 22.5 * 3:\n",
    "            WNW.append(WindSpeed[cont])\n",
    "\n",
    "        elif i < 11.25 + 22.5 * 4:\n",
    "            W.append(WindSpeed[cont])\n",
    "        elif i < 11.25 + 22.5 * 5:\n",
    "            WSW.append(WindSpeed[cont])\n",
    "        elif i < 11.25 + 22.5 * 6:\n",
    "            SW.append(WindSpeed[cont])\n",
    "        elif i < 11.25 + 22.5 * 7:\n",
    "            SSW.append(WindSpeed[cont])\n",
    "\n",
    "\n",
    "        elif i < 11.25 + 22.5 * 8:\n",
    "            S.append(WindSpeed[cont])\n",
    "        elif i < 11.25 + 22.5 * 9:\n",
    "            SSE.append(WindSpeed[cont])\n",
    "        elif i < 11.25 + 22.5 * 10:\n",
    "            SE.append(WindSpeed[cont])\n",
    "        elif i < 11.25 + 22.5 * 11:\n",
    "            ESE.append(WindSpeed[cont])\n",
    "\n",
    "\n",
    "        elif i < 11.25 + 22.5 * 12:\n",
    "            E.append(WindSpeed[cont])\n",
    "        elif i < 11.25 + 22.5 * 13:\n",
    "            ENE.append(WindSpeed[cont])\n",
    "        elif i < 11.25 + 22.5 * 14:\n",
    "            NE.append(WindSpeed[cont])\n",
    "        elif i < 11.25 + 22.5 * 15:\n",
    "            NNE.append(WindSpeed[cont])\n",
    "\n",
    "        cont += 1\n",
    "\n",
    "    N = sorted(N)\n",
    "    NNW = sorted(NNW)\n",
    "    NW = sorted(NW)\n",
    "    WNW = sorted(WNW)\n",
    "\n",
    "    W = sorted(W)\n",
    "    WSW = sorted(WSW)\n",
    "    SW = sorted(SW)\n",
    "    SSW = sorted(SSW)\n",
    "\n",
    "    S = sorted(S)\n",
    "    SSE = sorted(SSE)\n",
    "    SE = sorted(SE)\n",
    "    ESE = sorted(ESE)\n",
    "\n",
    "    E = sorted(E)\n",
    "    ENE = sorted(ENE)\n",
    "    NE = sorted(NE)\n",
    "    NNE = sorted(NNE)\n",
    "\n",
    "    a = 2.5    ###### Change\n",
    "    b = 5      ###### Change\n",
    "    c = 7.5    ###### Change\n",
    "    d = 10     ###### Change\n",
    "    e = 12.5   ###### Change\n",
    "\n",
    "    #print(f\"The len of N is {len(N)}\")\n",
    "    NspdA = len(N) - 1 - bisect.bisect_left(N, a)  # length start at 1 but bisect returns index\n",
    "    NspdB = len(N) - 1 - bisect.bisect_left(N, b)\n",
    "    NspdC = len(N) - 1 - bisect.bisect_left(N, c)\n",
    "    NspdD = len(N) - 1 - bisect.bisect_left(N, d)\n",
    "    NspdE = len(N) - 1 - bisect.bisect_left(N, e)\n",
    "\n",
    "    #print(f\"The len of N is {len(NNW)}\")\n",
    "    NNWspdA = len(NNW) - 1 - bisect.bisect_left(NNW, a)  # length start at 1 but bisect returns index\n",
    "    NNWspdB = len(NNW) - 1 - bisect.bisect_left(NNW, b)\n",
    "    NNWspdC = len(NNW) - 1 - bisect.bisect_left(NNW, c)\n",
    "    NNWspdD = len(NNW) - 1 - bisect.bisect_left(NNW, d)\n",
    "    NNWspdE = len(NNW) - 1 - bisect.bisect_left(NNW, e)\n",
    "\n",
    "    #print(f\"The len of N is {len(NW)}\")\n",
    "    NWspdA = len(NW) - 1 - bisect.bisect_left(NW, a)  # length start at 1 but bisect returns index\n",
    "    NWspdB = len(NW) - 1 - bisect.bisect_left(NW, b)\n",
    "    NWspdC = len(NW) - 1 - bisect.bisect_left(NW, c)\n",
    "    NWspdD = len(NW) - 1 - bisect.bisect_left(NW, d)\n",
    "    NWspdE = len(NW) - 1 - bisect.bisect_left(NW, e)\n",
    "\n",
    "    #print(f\"The len of N is {len(WNW)}\")\n",
    "    WNWspdA = len(WNW) - 1 - bisect.bisect_left(WNW, a)  # length start at 1 but bisect returns index\n",
    "    WNWspdB = len(WNW) - 1 - bisect.bisect_left(WNW, b)\n",
    "    WNWspdC = len(WNW) - 1 - bisect.bisect_left(WNW, c)\n",
    "    WNWspdD = len(WNW) - 1 - bisect.bisect_left(WNW, d)\n",
    "    WNWspdE = len(WNW) - 1 - bisect.bisect_left(WNW, e)\n",
    "\n",
    "    #print(f\"The len of W is {len(W)}\")\n",
    "    WspdA = len(W) - 1 - bisect.bisect_left(W, a)  # length start at 1 but bisect returns index\n",
    "    WspdB = len(W) - 1 - bisect.bisect_left(W, b)\n",
    "    WspdC = len(W) - 1 - bisect.bisect_left(W, c)\n",
    "    WspdD = len(W) - 1 - bisect.bisect_left(W, d)\n",
    "    WspdE = len(W) - 1 - bisect.bisect_left(W, e)\n",
    "\n",
    "    #print(f\"The len of W is {len(WSW)}\")\n",
    "    WSWspdA = len(WSW) - 1 - bisect.bisect_left(WSW, a)  # length start at 1 but bisect returns index\n",
    "    WSWspdB = len(WSW) - 1 - bisect.bisect_left(WSW, b)\n",
    "    WSWspdC = len(WSW) - 1 - bisect.bisect_left(WSW, c)\n",
    "    WSWspdD = len(WSW) - 1 - bisect.bisect_left(WSW, d)\n",
    "    WSWspdE = len(WSW) - 1 - bisect.bisect_left(WSW, e)\n",
    "\n",
    "    #print(f\"The len of W is {len(SW)}\")\n",
    "    SWspdA = len(SW) - 1 - bisect.bisect_left(SW, a)  # length start at 1 but bisect returns index\n",
    "    SWspdB = len(SW) - 1 - bisect.bisect_left(SW, b)\n",
    "    SWspdC = len(SW) - 1 - bisect.bisect_left(SW, c)\n",
    "    SWspdD = len(SW) - 1 - bisect.bisect_left(SW, d)\n",
    "    SWspdE = len(SW) - 1 - bisect.bisect_left(SW, e)\n",
    "\n",
    "    #print(f\"The len of W is {len(SSW)}\")\n",
    "    SSWspdA = len(SSW) - 1 - bisect.bisect_left(SSW, a)  # length start at 1 but bisect returns index\n",
    "    SSWspdB = len(SSW) - 1 - bisect.bisect_left(SSW, b)\n",
    "    SSWspdC = len(SSW) - 1 - bisect.bisect_left(SSW, c)\n",
    "    SSWspdD = len(SSW) - 1 - bisect.bisect_left(SSW, d)\n",
    "    SSWspdE = len(SSW) - 1 - bisect.bisect_left(SSW, e)\n",
    "\n",
    "    #print(f\"The len of S is {len(S)}\")\n",
    "    SspdA = len(S) - 1 - bisect.bisect_left(S, a)  # length start at 1 but bisect returns index\n",
    "    SspdB = len(S) - 1 - bisect.bisect_left(S, b)\n",
    "    SspdC = len(S) - 1 - bisect.bisect_left(S, c)\n",
    "    SspdD = len(S) - 1 - bisect.bisect_left(S, d)\n",
    "    SspdE = len(S) - 1 - bisect.bisect_left(S, e)\n",
    "\n",
    "    #print(f\"The len of S is {len(SSE)}\")\n",
    "    SSEspdA = len(SSE) - 1 - bisect.bisect_left(SSE, a)  # length start at 1 but bisect returns index\n",
    "    SSEspdB = len(SSE) - 1 - bisect.bisect_left(SSE, b)\n",
    "    SSEspdC = len(SSE) - 1 - bisect.bisect_left(SSE, c)\n",
    "    SSEspdD = len(SSE) - 1 - bisect.bisect_left(SSE, d)\n",
    "    SSEspdE = len(SSE) - 1 - bisect.bisect_left(SSE, e)\n",
    "\n",
    "    #print(f\"The len of S is {len(SE)}\")\n",
    "    SEspdA = len(SE) - 1 - bisect.bisect_left(SE, a)  # length start at 1 but bisect returns index\n",
    "    SEspdB = len(SE) - 1 - bisect.bisect_left(SE, b)\n",
    "    SEspdC = len(SE) - 1 - bisect.bisect_left(SE, c)\n",
    "    SEspdD = len(SE) - 1 - bisect.bisect_left(SE, d)\n",
    "    SEspdE = len(SE) - 1 - bisect.bisect_left(SE, e)\n",
    "\n",
    "    #print(f\"The len of S is {len(ESE)}\")\n",
    "    ESEspdA = len(ESE) - 1 - bisect.bisect_left(ESE, a)  # length start at 1 but bisect returns index\n",
    "    ESEspdB = len(ESE) - 1 - bisect.bisect_left(ESE, b)\n",
    "    ESEspdC = len(ESE) - 1 - bisect.bisect_left(ESE, c)\n",
    "    ESEspdD = len(ESE) - 1 - bisect.bisect_left(ESE, d)\n",
    "    ESEspdE = len(ESE) - 1 - bisect.bisect_left(ESE, e)\n",
    "\n",
    "    #print(f\"The len of E is {len(E)}\")\n",
    "    EspdA = len(E) - 1 - bisect.bisect_left(E, a)  # length start at 1 but bisect returns index\n",
    "    EspdB = len(E) - 1 - bisect.bisect_left(E, b)\n",
    "    EspdC = len(E) - 1 - bisect.bisect_left(E, c)\n",
    "    EspdD = len(E) - 1 - bisect.bisect_left(E, d)\n",
    "    EspdE = len(E) - 1 - bisect.bisect_left(E, e)\n",
    "\n",
    "    #print(f\"The len of E is {len(ENE)}\")\n",
    "    ENEspdA = len(ENE) - 1 - bisect.bisect_left(ENE, a)  # length start at 1 but bisect returns index\n",
    "    ENEspdB = len(ENE) - 1 - bisect.bisect_left(ENE, b)\n",
    "    ENEspdC = len(ENE) - 1 - bisect.bisect_left(ENE, c)\n",
    "    ENEspdD = len(ENE) - 1 - bisect.bisect_left(ENE, d)\n",
    "    ENEspdE = len(ENE) - 1 - bisect.bisect_left(ENE, e)\n",
    "\n",
    "    #print(f\"The len of E is {len(NE)}\")\n",
    "    NEspdA = len(NE) - 1 - bisect.bisect_left(NE, a)  # length start at 1 but bisect returns index\n",
    "    NEspdB = len(NE) - 1 - bisect.bisect_left(NE, b)\n",
    "    NEspdC = len(NE) - 1 - bisect.bisect_left(NE, c)\n",
    "    NEspdD = len(NE) - 1 - bisect.bisect_left(NE, d)\n",
    "    NEspdE = len(NE) - 1 - bisect.bisect_left(NE, e)\n",
    "\n",
    "    #print(f\"The len of E is {len(NNE)}\")\n",
    "    NNEspdA = len(NNE) - 1 - bisect.bisect_left(NNE, a)  # length start at 1 but bisect returns index\n",
    "    NNEspdB = len(NNE) - 1 - bisect.bisect_left(NNE, b)\n",
    "    NNEspdC = len(NNE) - 1 - bisect.bisect_left(NNE, c)\n",
    "    NNEspdD = len(NNE) - 1 - bisect.bisect_left(NNE, d)\n",
    "    NNEspdE = len(NNE) - 1 - bisect.bisect_left(NNE, e)\n",
    "\n",
    "    SPDA = np.array(\n",
    "        [NspdA, NNWspdA, NWspdA, WNWspdA, WspdA, WSWspdA, SWspdA, SSWspdA, SspdA, SSEspdA, SEspdA, ESEspdA, EspdA,\n",
    "         ENEspdA, NEspdA, NNEspdA, ]) / windLen * 100\n",
    "    SPDB = np.array(\n",
    "        [NspdB, NNWspdB, NWspdB, WNWspdB, WspdB, WSWspdB, SWspdB, SSWspdB, SspdB, SSEspdB, SEspdB, ESEspdB, EspdB,\n",
    "         ENEspdB, NEspdB, NNEspdB, ]) / windLen * 100\n",
    "    SPDC = np.array(\n",
    "        [NspdC, NNWspdC, NWspdC, WNWspdC, WspdC, WSWspdC, SWspdC, SSWspdC, SspdC, SSEspdC, SEspdC, ESEspdC, EspdC,\n",
    "         ENEspdC, NEspdC, NNEspdC, ]) / windLen * 100\n",
    "    SPDD = np.array(\n",
    "        [NspdD, NNWspdD, NWspdD, WNWspdD, WspdD, WSWspdD, SWspdD, SSWspdD, SspdD, SSEspdD, SEspdD, ESEspdD, EspdD,\n",
    "         ENEspdD, NEspdD, NNEspdD, ]) / windLen * 100\n",
    "    SPDE = np.array(\n",
    "        [NspdE, NNWspdE, NWspdE, WNWspdE, WspdE, WSWspdE, SWspdE, SSWspdE, SspdE, SSEspdE, SEspdE, ESEspdE, EspdE,\n",
    "         ENEspdE, NEspdE, NNEspdE, ]) / windLen * 100\n",
    "\n",
    "    SPD=np.array([SPDA,SPDB,SPDC,SPDD,SPDE])\n",
    "    SPDarray.append(SPD)\n",
    "    print(\"Two\")\n",
    "\n",
    "\n",
    "DATA.append(SPDarray)\n",
    "\n",
    "\n",
    "\n"
   ]
  },
  {
   "cell_type": "code",
   "execution_count": null,
   "metadata": {},
   "outputs": [],
   "source": []
  },
  {
   "cell_type": "code",
   "execution_count": null,
   "metadata": {},
   "outputs": [],
   "source": []
  },
  {
   "cell_type": "code",
   "execution_count": null,
   "metadata": {},
   "outputs": [],
   "source": []
  },
  {
   "cell_type": "code",
   "execution_count": null,
   "metadata": {},
   "outputs": [],
   "source": []
  },
  {
   "cell_type": "code",
   "execution_count": 14,
   "metadata": {},
   "outputs": [],
   "source": [
    "HGT=[50,80,100,150]\n",
    "speed=['A<','B<','C<','D<','E<']\n",
    "\n",
    "DATA = []\n",
    "\n",
    "\n",
    "DATA_DIR = r\"C:\\Users\\User\\OneDrive\\GIZ\\Internship\\seb_test_ring\\CVSmaker\\smallData\\test\"\n",
    "filelist = os.listdir(DATA_DIR)\n",
    "files_nc=[DATA_DIR+\"\\\\\"+i for i in filelist if i.endswith('.nc')]"
   ]
  },
  {
   "cell_type": "code",
   "execution_count": 15,
   "metadata": {},
   "outputs": [
    {
     "data": {
      "text/plain": [
       "[]"
      ]
     },
     "execution_count": 15,
     "metadata": {},
     "output_type": "execute_result"
    }
   ],
   "source": [
    "files_nc"
   ]
  },
  {
   "cell_type": "code",
   "execution_count": null,
   "metadata": {},
   "outputs": [],
   "source": []
  },
  {
   "cell_type": "code",
   "execution_count": 7,
   "metadata": {},
   "outputs": [],
   "source": [
    "df=xr.open_dataset('C:\\\\Users\\\\User\\\\OneDrive\\\\GIZ\\\\Internship\\\\seb_test_ring\\\\CVSmaker\\\\smallData\\\\windTS_20.588S_31.659E.nc')"
   ]
  },
  {
   "cell_type": "code",
   "execution_count": 17,
   "metadata": {},
   "outputs": [
    {
     "data": {
      "text/plain": [
       "<xarray.DataArray 'WDRO' (Time: 175296, lev: 4, point: 1)>\n",
       "[701184 values with dtype=float32]\n",
       "Dimensions without coordinates: Time, lev, point\n",
       "Attributes:\n",
       "    long_name:  wind direction\n",
       "    units:      degrees"
      ]
     },
     "execution_count": 17,
     "metadata": {},
     "output_type": "execute_result"
    }
   ],
   "source": [
    "df['WDRO']"
   ]
  },
  {
   "cell_type": "code",
   "execution_count": 41,
   "metadata": {},
   "outputs": [
    {
     "data": {
      "text/plain": [
       "<xarray.Dataset>\n",
       "Dimensions:  (Time: 175296, lev: 4, point: 1)\n",
       "Dimensions without coordinates: Time, lev, point\n",
       "Data variables:\n",
       "    Times    (Time) |S19 ...\n",
       "    LEVS     (lev) float32 ...\n",
       "    HGT      (point) float32 ...\n",
       "    XLAND    (point) float32 ...\n",
       "    XLAT     (point) float32 ...\n",
       "    XLONG    (point) float32 ...\n",
       "    ALPHA    (point) float32 ...\n",
       "    X        (point) float32 ...\n",
       "    Y        (point) float32 ...\n",
       "    WSPD     (Time, lev, point) float32 ...\n",
       "    WDRO     (Time, lev, point) float32 ...\n",
       "    RHO      (Time, lev, point) float32 ...\n",
       "    TKE      (Time, lev, point) float32 ...\n",
       "    T2       (Time, point) float32 ...\n",
       "    SWD      (Time, point) float32 ...\n",
       "Attributes:\n",
       "    history:  Sun Jul  5 17:22:03 2015: ./ncatted -a history,global,d,, -a nc..."
      ]
     },
     "execution_count": 41,
     "metadata": {},
     "output_type": "execute_result"
    }
   ],
   "source": [
    "df"
   ]
  },
  {
   "cell_type": "code",
   "execution_count": null,
   "metadata": {},
   "outputs": [],
   "source": []
  },
  {
   "cell_type": "code",
   "execution_count": 43,
   "metadata": {},
   "outputs": [
    {
     "data": {
      "text/plain": [
       "['DATA']"
      ]
     },
     "execution_count": 43,
     "metadata": {},
     "output_type": "execute_result"
    }
   ],
   "source": [
    "DATA_DIR = r\"C:\\Users\\User\\OneDrive\\GIZ\\Internship\\seb_test_ring\\TestDATA_wind\"\n",
    "filelist = os.listdir(DATA_DIR)\n",
    "filelist"
   ]
  },
  {
   "cell_type": "code",
   "execution_count": 44,
   "metadata": {},
   "outputs": [
    {
     "name": "stdout",
     "output_type": "stream",
     "text": [
      "C:\\Users\\User\\OneDrive\\GIZ\\Internship\\seb_test_ring\\TestDATA_wind\\DATA\n",
      "The Dir is DATA \n",
      "--- 0.001981973648071289 seconds ---\n",
      "['windTS_20.588S_31.659E.nc', 'windTS_20.601S_31.613E.nc', 'windTS_20.613S_31.566E.nc', 'windTS_20.625S_31.520E.nc', 'windTS_20.632S_31.672E.nc', 'windTS_20.638S_31.474E.nc', 'windTS_20.644S_31.626E.nc', 'windTS_20.650S_31.428E.nc', 'windTS_20.656S_31.580E.nc', 'windTS_20.662S_31.381E.nc', 'windTS_20.669S_31.533E.nc', 'windTS_20.674S_31.335E.nc', 'windTS_20.675S_31.685E.nc', 'windTS_20.681S_31.487E.nc', 'windTS_20.687S_31.288E.nc', 'windTS_20.687S_31.639E.nc', 'windTS_20.693S_31.441E.nc', 'windTS_20.699S_31.242E.nc', 'windTS_20.700S_31.593E.nc', 'windTS_20.706S_31.394E.nc', 'windTS_20.711S_31.196E.nc', 'windTS_20.712S_31.546E.nc', 'windTS_20.718S_31.348E.nc', 'windTS_20.718S_31.699E.nc']\n",
      "NET 0.06883406639099121 seconds ---\n",
      "NET 0.1376199722290039 seconds ---\n",
      "NET 0.2233901023864746 seconds ---\n",
      "NET 0.3201308250427246 seconds ---\n",
      "NET 0.40091753005981445 seconds ---\n",
      "NET 0.4826991558074951 seconds ---\n",
      "NET 0.5495181083679199 seconds ---\n",
      "NET 0.6113510131835938 seconds ---\n",
      "NET 0.6741864681243896 seconds ---\n",
      "NET 0.7479867935180664 seconds ---\n",
      "NET 0.8187997341156006 seconds ---\n",
      "NET 0.8896057605743408 seconds ---\n",
      "NET 0.9564344882965088 seconds ---\n",
      "NET 1.0332214832305908 seconds ---\n",
      "NET 1.108022689819336 seconds ---\n",
      "NET 1.182821273803711 seconds ---\n",
      "NET 1.2486460208892822 seconds ---\n",
      "NET 1.3154683113098145 seconds ---\n",
      "NET 1.3882744312286377 seconds ---\n",
      "NET 1.4590845108032227 seconds ---\n",
      "NET 1.5418651103973389 seconds ---\n",
      "NET 1.6316208839416504 seconds ---\n",
      "NET 1.7233779430389404 seconds ---\n",
      "NET 1.821120023727417 seconds ---\n",
      "done\n"
     ]
    }
   ],
   "source": [
    "\n",
    "ID = []\n",
    "lat = []\n",
    "lon = []\n",
    "DATA_WSPD = []\n",
    "DATA_WDRO = []\n",
    "\n",
    "cont = 0\n",
    "\n",
    "start_time = time.time()\n",
    "for Safrica in filelist:\n",
    "    Safricafile = os.path.join(DATA_DIR, Safrica)\n",
    "    print(Safricafile)\n",
    "    filelist = os.listdir(Safricafile)\n",
    "    files_nc = [i for i in filelist if i.endswith('.nc')]\n",
    "    print(f\"The Dir is {Safrica} \")\n",
    "    print(\"--- %s seconds ---\" % (time.time() - start_time))\n",
    "    print(files_nc)\n",
    "    \n",
    "    for Net in files_nc:\n",
    "#         print(Safricafile + '\\\\' +Net)\n",
    "#         root = Dataset(os.path.join(Safricafile, Net))\n",
    "        \n",
    "        root = Dataset(Safricafile + '\\\\' +Net)\n",
    "        lat.append(float(root.variables[\"XLAT\"][0]))\n",
    "        lon.append((root.variables[\"XLONG\"][0]))\n",
    "\n",
    "        speedlist = root.variables['WSPD']\n",
    "        DATA_WSPD.append(reshape3to2(np.array(speedlist)))\n",
    "        \n",
    "        directionlist = root.variables['WDRO']\n",
    "        DATA_WDRO.append(reshape3to2(np.array(directionlist)))\n",
    "        \n",
    "        \n",
    "        ID.append(cont)\n",
    "        cont += 1\n",
    "    ####################################################\n",
    "\n",
    "        print(f\"NET {(time.time() - start_time)} seconds ---\")\n",
    "        \n",
    "        \n",
    "\n",
    "\n",
    "\n",
    "print(\"done\")"
   ]
  },
  {
   "cell_type": "code",
   "execution_count": null,
   "metadata": {},
   "outputs": [],
   "source": []
  },
  {
   "cell_type": "code",
   "execution_count": 46,
   "metadata": {},
   "outputs": [
    {
     "data": {
      "text/plain": [
       "(24, 175296, 4)"
      ]
     },
     "execution_count": 46,
     "metadata": {},
     "output_type": "execute_result"
    }
   ],
   "source": [
    "np.shape(DATA_WSPD)"
   ]
  },
  {
   "cell_type": "code",
   "execution_count": 47,
   "metadata": {},
   "outputs": [
    {
     "data": {
      "text/plain": [
       "24"
      ]
     },
     "execution_count": 47,
     "metadata": {},
     "output_type": "execute_result"
    }
   ],
   "source": [
    "len(ID)"
   ]
  },
  {
   "cell_type": "code",
   "execution_count": 53,
   "metadata": {},
   "outputs": [],
   "source": [
    "        \n",
    "        \n",
    "\n",
    "da = xr.Dataset({\n",
    "                    \"WSPD\":([\"ID\", 'time', 'hgt'],DATA_WSPD,),\n",
    "                    \"WDRO\":([\"ID\", 'time', 'hgt'],DATA_WDRO)\n",
    "                \n",
    "                },\n",
    "\n",
    "               coords={\n",
    "                   \"lat\": xr.DataArray(\n",
    "                       lat,\n",
    "                       name=\"lat\",\n",
    "                       dims=[\"ID\"],\n",
    "                       attrs={'units': \"one\"}\n",
    "                   ),\n",
    "\n",
    "                   \"lon\": ([\"ID\"], lon),\n",
    "\n",
    "                   'time': times,\n",
    "\n",
    "                   'hgt': HGT,\n",
    "                   'ID':ID,\n",
    "               },\n",
    "            )"
   ]
  },
  {
   "cell_type": "code",
   "execution_count": 52,
   "metadata": {},
   "outputs": [
    {
     "data": {
      "text/plain": [
       "<xarray.Dataset>\n",
       "Dimensions:  (ID: 24, hgt: 4, time: 175296)\n",
       "Coordinates:\n",
       "    lat      (ID) float64 -20.59 -20.6 -20.61 -20.63 ... -20.71 -20.72 -20.72\n",
       "    lon      (ID) float32 31.659058 31.612762 31.566467 ... 31.3479 31.69867\n",
       "  * time     (time) datetime64[ns] 2009-01-01 ... 2013-12-31T23:45:00\n",
       "  * hgt      (hgt) int32 50 80 100 150\n",
       "  * ID       (ID) int32 0 1 2 3 4 5 6 7 8 9 10 ... 14 15 16 17 18 19 20 21 22 23\n",
       "Data variables:\n",
       "    WSPD     (ID, time, hgt) float32 2.8188803 3.338661 ... 9.720393 10.88998\n",
       "    WDRO     (ID, time, hgt) float32 199.47174 192.50078 ... 131.1882 130.39304"
      ]
     },
     "execution_count": 52,
     "metadata": {},
     "output_type": "execute_result"
    }
   ],
   "source": [
    "da"
   ]
  },
  {
   "cell_type": "code",
   "execution_count": null,
   "metadata": {},
   "outputs": [],
   "source": []
  },
  {
   "cell_type": "code",
   "execution_count": null,
   "metadata": {},
   "outputs": [],
   "source": []
  },
  {
   "cell_type": "code",
   "execution_count": 56,
   "metadata": {},
   "outputs": [],
   "source": [
    "timecut1='2010-10'\n",
    "timecut2='2010-11'\n",
    "\n",
    "\n",
    "# time = da.sel(time='2010-01')['time']\n",
    "time=da.sel(time=slice('2010-10','2010-11'))['time']\n",
    "WSPD=da.sel(time=slice('2010-10','2010-11'))['WSPD']\n",
    "WDRO=da.sel(time=slice('2010-10','2010-11'))['WDRO']"
   ]
  },
  {
   "cell_type": "code",
   "execution_count": null,
   "metadata": {},
   "outputs": [],
   "source": []
  },
  {
   "cell_type": "code",
   "execution_count": 64,
   "metadata": {},
   "outputs": [
    {
     "data": {
      "text/plain": [
       "5856"
      ]
     },
     "execution_count": 64,
     "metadata": {},
     "output_type": "execute_result"
    }
   ],
   "source": [
    "len(WSPD.sel(ID=1,hgt=50))"
   ]
  },
  {
   "cell_type": "code",
   "execution_count": 69,
   "metadata": {},
   "outputs": [
    {
     "data": {
      "text/plain": [
       "<xarray.DataArray 'WDRO' ()>\n",
       "array(347.00558, dtype=float32)\n",
       "Coordinates:\n",
       "    lat      float64 -20.6\n",
       "    lon      float32 31.612762\n",
       "    time     datetime64[ns] 2010-10-01\n",
       "    hgt      int32 50\n",
       "    ID       int32 1"
      ]
     },
     "execution_count": 69,
     "metadata": {},
     "output_type": "execute_result"
    }
   ],
   "source": [
    "WDRO.sel(ID=1,hgt=50)[0]"
   ]
  },
  {
   "cell_type": "code",
   "execution_count": null,
   "metadata": {},
   "outputs": [],
   "source": []
  },
  {
   "cell_type": "code",
   "execution_count": 171,
   "metadata": {},
   "outputs": [],
   "source": [
    "\n",
    "\n",
    "lat =[]\n",
    "lon=[]\n",
    "#data=[]\n",
    "time=[]\n",
    "\n",
    "HGT=[50,80,100,150]\n",
    "speed=['A<','B<','C<','D<','E<']\n",
    "\n",
    "DATA = []\n",
    "\n",
    "def rose(IDpoint, DAspeed, DAdir):\n",
    "    print(\"Start\")\n",
    "    \n",
    "    \n",
    "    a = 2.5  ###### Change\n",
    "    b = 5  ###### Change\n",
    "    c = 7.5  ###### Change\n",
    "    d = 10  ###### Change\n",
    "    e = 12.5  ###### Change\n",
    "\n",
    "#     Dictionary={'cut':[a,b,c,d,e]}\n",
    "    Dictionary=OrderedDict ()\n",
    "\n",
    "    windLen = len(DAspeed.isel(ID=0, hgt=0))\n",
    "    # HGT=[50,80,100,150]\n",
    "    for j in [50, 80, 100, 150]:\n",
    "        print(f'On {j}')\n",
    "        WindSpeed = np.array(DAspeed.sel(ID=1, hgt=j))  # np.array(WSPD.sel(ID=1,hgt=50))\n",
    "        WindDri = np.array(DAdir.sel(ID=1, hgt=j))  # np.array(WSPD.sel(ID=1,hgt=50))\n",
    "\n",
    "        N = [];NNW = [];NW = [];WNW = []\n",
    "        W = [];WSW = [];SW = [];SSW = []\n",
    "        S = [];SSE = [];SE = [];ESE = []\n",
    "        E = [];ENE = [];NE = [];NNE = []\n",
    "\n",
    "        cont = 0\n",
    "\n",
    "        for i in WindDri:\n",
    "            if 360 - 11.25 <= i or i < 11.25 + 22.5 * 0:\n",
    "                N.append(WindSpeed[cont])\n",
    "            elif i < 11.25 + 22.5 * 1:\n",
    "                NNW.append(WindSpeed[cont])\n",
    "            elif i < 11.25 + 22.5 * 2:\n",
    "                NW.append(WindSpeed[cont])\n",
    "            elif i < 11.25 + 22.5 * 3:\n",
    "                WNW.append(WindSpeed[cont])\n",
    "\n",
    "            elif i < 11.25 + 22.5 * 4:\n",
    "                W.append(WindSpeed[cont])\n",
    "            elif i < 11.25 + 22.5 * 5:\n",
    "                WSW.append(WindSpeed[cont])\n",
    "            elif i < 11.25 + 22.5 * 6:\n",
    "                SW.append(WindSpeed[cont])\n",
    "            elif i < 11.25 + 22.5 * 7:\n",
    "                SSW.append(WindSpeed[cont])\n",
    "\n",
    "\n",
    "            elif i < 11.25 + 22.5 * 8:\n",
    "                S.append(WindSpeed[cont])\n",
    "            elif i < 11.25 + 22.5 * 9:\n",
    "                SSE.append(WindSpeed[cont])\n",
    "            elif i < 11.25 + 22.5 * 10:\n",
    "                SE.append(WindSpeed[cont])\n",
    "            elif i < 11.25 + 22.5 * 11:\n",
    "                ESE.append(WindSpeed[cont])\n",
    "\n",
    "\n",
    "            elif i < 11.25 + 22.5 * 12:\n",
    "                E.append(WindSpeed[cont])\n",
    "            elif i < 11.25 + 22.5 * 13:\n",
    "                ENE.append(WindSpeed[cont])\n",
    "            elif i < 11.25 + 22.5 * 14:\n",
    "                NE.append(WindSpeed[cont])\n",
    "            elif i < 11.25 + 22.5 * 15:\n",
    "                NNE.append(WindSpeed[cont])\n",
    "\n",
    "            cont += 1\n",
    "\n",
    "        N = sorted(N)\n",
    "        NNW = sorted(NNW)\n",
    "        NW = sorted(NW)\n",
    "        WNW = sorted(WNW)\n",
    "\n",
    "        W = sorted(W)\n",
    "        WSW = sorted(WSW)\n",
    "        SW = sorted(SW)\n",
    "        SSW = sorted(SSW)\n",
    "\n",
    "        S = sorted(S)\n",
    "        SSE = sorted(SSE)\n",
    "        SE = sorted(SE)\n",
    "        ESE = sorted(ESE)\n",
    "\n",
    "        E = sorted(E)\n",
    "        ENE = sorted(ENE)\n",
    "        NE = sorted(NE)\n",
    "        NNE = sorted(NNE)\n",
    "\n",
    "\n",
    "        # print(f\"The len of N is {len(N)}\")\n",
    "        NspdA = len(N) - 1 - bisect.bisect_left(N, a)  # length start at 1 but bisect returns index\n",
    "        NspdB = len(N) - 1 - bisect.bisect_left(N, b)\n",
    "        NspdC = len(N) - 1 - bisect.bisect_left(N, c)\n",
    "        NspdD = len(N) - 1 - bisect.bisect_left(N, d)\n",
    "        NspdE = len(N) - 1 - bisect.bisect_left(N, e)\n",
    "\n",
    "        # print(f\"The len of N is {len(NNW)}\")\n",
    "        NNWspdA = len(NNW) - 1 - bisect.bisect_left(NNW, a)  # length start at 1 but bisect returns index\n",
    "        NNWspdB = len(NNW) - 1 - bisect.bisect_left(NNW, b)\n",
    "        NNWspdC = len(NNW) - 1 - bisect.bisect_left(NNW, c)\n",
    "        NNWspdD = len(NNW) - 1 - bisect.bisect_left(NNW, d)\n",
    "        NNWspdE = len(NNW) - 1 - bisect.bisect_left(NNW, e)\n",
    "\n",
    "        # print(f\"The len of N is {len(NW)}\")\n",
    "        NWspdA = len(NW) - 1 - bisect.bisect_left(NW, a)  # length start at 1 but bisect returns index\n",
    "        NWspdB = len(NW) - 1 - bisect.bisect_left(NW, b)\n",
    "        NWspdC = len(NW) - 1 - bisect.bisect_left(NW, c)\n",
    "        NWspdD = len(NW) - 1 - bisect.bisect_left(NW, d)\n",
    "        NWspdE = len(NW) - 1 - bisect.bisect_left(NW, e)\n",
    "\n",
    "        # print(f\"The len of N is {len(WNW)}\")\n",
    "        WNWspdA = len(WNW) - 1 - bisect.bisect_left(WNW, a)  # length start at 1 but bisect returns index\n",
    "        WNWspdB = len(WNW) - 1 - bisect.bisect_left(WNW, b)\n",
    "        WNWspdC = len(WNW) - 1 - bisect.bisect_left(WNW, c)\n",
    "        WNWspdD = len(WNW) - 1 - bisect.bisect_left(WNW, d)\n",
    "        WNWspdE = len(WNW) - 1 - bisect.bisect_left(WNW, e)\n",
    "\n",
    "        # print(f\"The len of W is {len(W)}\")\n",
    "        WspdA = len(W) - 1 - bisect.bisect_left(W, a)  # length start at 1 but bisect returns index\n",
    "        WspdB = len(W) - 1 - bisect.bisect_left(W, b)\n",
    "        WspdC = len(W) - 1 - bisect.bisect_left(W, c)\n",
    "        WspdD = len(W) - 1 - bisect.bisect_left(W, d)\n",
    "        WspdE = len(W) - 1 - bisect.bisect_left(W, e)\n",
    "\n",
    "        # print(f\"The len of W is {len(WSW)}\")\n",
    "        WSWspdA = len(WSW) - 1 - bisect.bisect_left(WSW, a)  # length start at 1 but bisect returns index\n",
    "        WSWspdB = len(WSW) - 1 - bisect.bisect_left(WSW, b)\n",
    "        WSWspdC = len(WSW) - 1 - bisect.bisect_left(WSW, c)\n",
    "        WSWspdD = len(WSW) - 1 - bisect.bisect_left(WSW, d)\n",
    "        WSWspdE = len(WSW) - 1 - bisect.bisect_left(WSW, e)\n",
    "\n",
    "        # print(f\"The len of W is {len(SW)}\")\n",
    "        SWspdA = len(SW) - 1 - bisect.bisect_left(SW, a)  # length start at 1 but bisect returns index\n",
    "        SWspdB = len(SW) - 1 - bisect.bisect_left(SW, b)\n",
    "        SWspdC = len(SW) - 1 - bisect.bisect_left(SW, c)\n",
    "        SWspdD = len(SW) - 1 - bisect.bisect_left(SW, d)\n",
    "        SWspdE = len(SW) - 1 - bisect.bisect_left(SW, e)\n",
    "\n",
    "        # print(f\"The len of W is {len(SSW)}\")\n",
    "        SSWspdA = len(SSW) - 1 - bisect.bisect_left(SSW, a)  # length start at 1 but bisect returns index\n",
    "        SSWspdB = len(SSW) - 1 - bisect.bisect_left(SSW, b)\n",
    "        SSWspdC = len(SSW) - 1 - bisect.bisect_left(SSW, c)\n",
    "        SSWspdD = len(SSW) - 1 - bisect.bisect_left(SSW, d)\n",
    "        SSWspdE = len(SSW) - 1 - bisect.bisect_left(SSW, e)\n",
    "\n",
    "        # print(f\"The len of S is {len(S)}\")\n",
    "        SspdA = len(S) - 1 - bisect.bisect_left(S, a)  # length start at 1 but bisect returns index\n",
    "        SspdB = len(S) - 1 - bisect.bisect_left(S, b)\n",
    "        SspdC = len(S) - 1 - bisect.bisect_left(S, c)\n",
    "        SspdD = len(S) - 1 - bisect.bisect_left(S, d)\n",
    "        SspdE = len(S) - 1 - bisect.bisect_left(S, e)\n",
    "\n",
    "        # print(f\"The len of S is {len(SSE)}\")\n",
    "        SSEspdA = len(SSE) - 1 - bisect.bisect_left(SSE, a)  # length start at 1 but bisect returns index\n",
    "        SSEspdB = len(SSE) - 1 - bisect.bisect_left(SSE, b)\n",
    "        SSEspdC = len(SSE) - 1 - bisect.bisect_left(SSE, c)\n",
    "        SSEspdD = len(SSE) - 1 - bisect.bisect_left(SSE, d)\n",
    "        SSEspdE = len(SSE) - 1 - bisect.bisect_left(SSE, e)\n",
    "\n",
    "        # print(f\"The len of S is {len(SE)}\")\n",
    "        SEspdA = len(SE) - 1 - bisect.bisect_left(SE, a)  # length start at 1 but bisect returns index\n",
    "        SEspdB = len(SE) - 1 - bisect.bisect_left(SE, b)\n",
    "        SEspdC = len(SE) - 1 - bisect.bisect_left(SE, c)\n",
    "        SEspdD = len(SE) - 1 - bisect.bisect_left(SE, d)\n",
    "        SEspdE = len(SE) - 1 - bisect.bisect_left(SE, e)\n",
    "\n",
    "        # print(f\"The len of S is {len(ESE)}\")\n",
    "        ESEspdA = len(ESE) - 1 - bisect.bisect_left(ESE, a)  # length start at 1 but bisect returns index\n",
    "        ESEspdB = len(ESE) - 1 - bisect.bisect_left(ESE, b)\n",
    "        ESEspdC = len(ESE) - 1 - bisect.bisect_left(ESE, c)\n",
    "        ESEspdD = len(ESE) - 1 - bisect.bisect_left(ESE, d)\n",
    "        ESEspdE = len(ESE) - 1 - bisect.bisect_left(ESE, e)\n",
    "\n",
    "        # print(f\"The len of E is {len(E)}\")\n",
    "        EspdA = len(E) - 1 - bisect.bisect_left(E, a)  # length start at 1 but bisect returns index\n",
    "        EspdB = len(E) - 1 - bisect.bisect_left(E, b)\n",
    "        EspdC = len(E) - 1 - bisect.bisect_left(E, c)\n",
    "        EspdD = len(E) - 1 - bisect.bisect_left(E, d)\n",
    "        EspdE = len(E) - 1 - bisect.bisect_left(E, e)\n",
    "\n",
    "        # print(f\"The len of E is {len(ENE)}\")\n",
    "        ENEspdA = len(ENE) - 1 - bisect.bisect_left(ENE, a)  # length start at 1 but bisect returns index\n",
    "        ENEspdB = len(ENE) - 1 - bisect.bisect_left(ENE, b)\n",
    "        ENEspdC = len(ENE) - 1 - bisect.bisect_left(ENE, c)\n",
    "        ENEspdD = len(ENE) - 1 - bisect.bisect_left(ENE, d)\n",
    "        ENEspdE = len(ENE) - 1 - bisect.bisect_left(ENE, e)\n",
    "\n",
    "        # print(f\"The len of E is {len(NE)}\")\n",
    "        NEspdA = len(NE) - 1 - bisect.bisect_left(NE, a)  # length start at 1 but bisect returns index\n",
    "        NEspdB = len(NE) - 1 - bisect.bisect_left(NE, b)\n",
    "        NEspdC = len(NE) - 1 - bisect.bisect_left(NE, c)\n",
    "        NEspdD = len(NE) - 1 - bisect.bisect_left(NE, d)\n",
    "        NEspdE = len(NE) - 1 - bisect.bisect_left(NE, e)\n",
    "\n",
    "        # print(f\"The len of E is {len(NNE)}\")\n",
    "        NNEspdA = len(NNE) - 1 - bisect.bisect_left(NNE, a)  # length start at 1 but bisect returns index\n",
    "        NNEspdB = len(NNE) - 1 - bisect.bisect_left(NNE, b)\n",
    "        NNEspdC = len(NNE) - 1 - bisect.bisect_left(NNE, c)\n",
    "        NNEspdD = len(NNE) - 1 - bisect.bisect_left(NNE, d)\n",
    "        NNEspdE = len(NNE) - 1 - bisect.bisect_left(NNE, e)\n",
    "\n",
    "        SPDA = np.array(\n",
    "            [NspdA, NNWspdA, NWspdA, WNWspdA, WspdA, WSWspdA, SWspdA, SSWspdA, SspdA, SSEspdA, SEspdA, ESEspdA, EspdA,\n",
    "             ENEspdA, NEspdA, NNEspdA, ]) / windLen * 100\n",
    "        SPDB = np.array(\n",
    "            [NspdB, NNWspdB, NWspdB, WNWspdB, WspdB, WSWspdB, SWspdB, SSWspdB, SspdB, SSEspdB, SEspdB, ESEspdB, EspdB,\n",
    "             ENEspdB, NEspdB, NNEspdB, ]) / windLen * 100\n",
    "        SPDC = np.array(\n",
    "            [NspdC, NNWspdC, NWspdC, WNWspdC, WspdC, WSWspdC, SWspdC, SSWspdC, SspdC, SSEspdC, SEspdC, ESEspdC, EspdC,\n",
    "             ENEspdC, NEspdC, NNEspdC, ]) / windLen * 100\n",
    "        SPDD = np.array(\n",
    "            [NspdD, NNWspdD, NWspdD, WNWspdD, WspdD, WSWspdD, SWspdD, SSWspdD, SspdD, SSEspdD, SEspdD, ESEspdD, EspdD,\n",
    "             ENEspdD, NEspdD, NNEspdD, ]) / windLen * 100\n",
    "        SPDE = np.array(\n",
    "            [NspdE, NNWspdE, NWspdE, WNWspdE, WspdE, WSWspdE, SWspdE, SSWspdE, SspdE, SSEspdE, SEspdE, ESEspdE, EspdE,\n",
    "             ENEspdE, NEspdE, NNEspdE, ]) / windLen * 100\n",
    "\n",
    "        SPD = {a:SPDA, b:SPDB, c:SPDC, d:SPDD, e:SPDE}\n",
    "\n",
    "        Dictionary.update({str(j): SPD})\n",
    "\n",
    "    return Dictionary\n",
    "\n",
    "\n",
    "\n"
   ]
  },
  {
   "cell_type": "code",
   "execution_count": null,
   "metadata": {},
   "outputs": [],
   "source": []
  },
  {
   "cell_type": "code",
   "execution_count": 172,
   "metadata": {},
   "outputs": [
    {
     "name": "stdout",
     "output_type": "stream",
     "text": [
      "Start\n",
      "On 50\n",
      "On 80\n",
      "On 100\n",
      "On 150\n"
     ]
    }
   ],
   "source": [
    "x=rose(1, WSPD, WDRO)"
   ]
  },
  {
   "cell_type": "code",
   "execution_count": 173,
   "metadata": {},
   "outputs": [
    {
     "name": "stdout",
     "output_type": "stream",
     "text": [
      "4\n",
      "()\n"
     ]
    }
   ],
   "source": [
    "print(len(x))\n",
    "print(np.shape(x[\"50\"]))"
   ]
  },
  {
   "cell_type": "code",
   "execution_count": 174,
   "metadata": {},
   "outputs": [
    {
     "data": {
      "text/plain": [
       "array([ 7.547814,  6.506148,  5.157104,  7.838115, 14.856557, 18.69877 ,\n",
       "       11.116803,  5.122951,  3.842213,  1.741803,  0.631831,  0.580601,\n",
       "        0.153689,  0.153689,  0.768443,  3.449454])"
      ]
     },
     "execution_count": 174,
     "metadata": {},
     "output_type": "execute_result"
    }
   ],
   "source": [
    "(x[\"50\"][2.5])"
   ]
  },
  {
   "cell_type": "code",
   "execution_count": 175,
   "metadata": {},
   "outputs": [
    {
     "data": {
      "text/plain": [
       "dict_keys([2.5, 5, 7.5, 10, 12.5])"
      ]
     },
     "execution_count": 175,
     "metadata": {},
     "output_type": "execute_result"
    }
   ],
   "source": [
    "x[\"50\"].keys()"
   ]
  },
  {
   "cell_type": "code",
   "execution_count": null,
   "metadata": {},
   "outputs": [],
   "source": []
  },
  {
   "cell_type": "code",
   "execution_count": null,
   "metadata": {},
   "outputs": [],
   "source": []
  },
  {
   "cell_type": "code",
   "execution_count": 176,
   "metadata": {},
   "outputs": [],
   "source": [
    "for i in x:\n",
    "    print(i)\n",
    "    for j in x[i].keys():\n",
    "        print(j)\n",
    "        print(x[i][j])\n",
    "        print(len(x[i][j]))\n",
    "    print(\"\")\n",
    "    #print (x[i])"
   ]
  },
  {
   "cell_type": "code",
   "execution_count": null,
   "metadata": {},
   "outputs": [],
   "source": [
    "print(range())"
   ]
  },
  {
   "cell_type": "code",
   "execution_count": 91,
   "metadata": {},
   "outputs": [],
   "source": [
    "Names=[\"N\",\"NNE\",\"NE\",\"ENE\",\"E\",\"ESE\",\"SE\",\"SSE\",\"S\",\"SSW\",\"SW\",\"WSW\",\"W\",\"WNW\",\"NW\",\"NNW\"]"
   ]
  },
  {
   "cell_type": "code",
   "execution_count": 102,
   "metadata": {},
   "outputs": [
    {
     "data": {
      "text/plain": [
       "array([[ 7.547814e+00,  6.506148e+00,  5.157104e+00,  7.838115e+00,\n",
       "         1.485656e+01,  1.869877e+01,  1.111680e+01,  5.122951e+00,\n",
       "         3.842213e+00,  1.741803e+00,  6.318306e-01,  5.806011e-01,\n",
       "         1.536885e-01,  1.536885e-01,  7.684426e-01,  3.449454e+00],\n",
       "       [ 5.720628e+00,  4.081284e+00,  2.937158e+00,  3.927596e+00,\n",
       "         8.452869e+00,  1.186817e+01,  5.925546e+00,  2.851776e+00,\n",
       "         1.451503e+00,  4.439891e-01,  1.536885e-01,  2.732240e-01,\n",
       "         0.000000e+00, -1.707650e-02,  2.390710e-01,  2.595628e+00],\n",
       "       [ 3.125000e+00,  1.229508e+00,  4.269126e-01,  4.098361e-01,\n",
       "         1.571038e+00,  2.663934e+00,  6.830601e-01,  7.172131e-01,\n",
       "         3.927596e-01,  1.707650e-02,  1.024590e-01,  1.536885e-01,\n",
       "        -1.707650e-02, -1.707650e-02, -1.707650e-02,  1.007514e+00],\n",
       "       [ 5.635246e-01,  1.878415e-01,  6.830601e-02, -1.707650e-02,\n",
       "        -1.707650e-02,  2.049180e-01,  6.830601e-02,  1.366120e-01,\n",
       "         3.415301e-02,  0.000000e+00,  8.538251e-02, -1.707650e-02,\n",
       "        -1.707650e-02, -1.707650e-02, -1.707650e-02, -1.707650e-02],\n",
       "       [-1.707650e-02, -1.707650e-02, -1.707650e-02, -1.707650e-02,\n",
       "        -1.707650e-02, -1.707650e-02, -1.707650e-02,  5.122951e-02,\n",
       "        -1.707650e-02, -1.707650e-02, -1.707650e-02, -1.707650e-02,\n",
       "        -1.707650e-02, -1.707650e-02, -1.707650e-02, -1.707650e-02]])"
      ]
     },
     "execution_count": 102,
     "metadata": {},
     "output_type": "execute_result"
    }
   ],
   "source": [
    "x[\"50\"]"
   ]
  },
  {
   "cell_type": "code",
   "execution_count": null,
   "metadata": {},
   "outputs": [],
   "source": []
  },
  {
   "cell_type": "code",
   "execution_count": 191,
   "metadata": {},
   "outputs": [
    {
     "name": "stdout",
     "output_type": "stream",
     "text": [
      "mean\n",
      "hey\n"
     ]
    }
   ],
   "source": [
    "\n",
    "\n",
    "print('mean')\n",
    "\n",
    "hgtPLot = [50, 80, 100, 150]\n",
    "\n",
    "\n",
    "RoseColour=['rgb(18, 0, 57)','rgb(77, 0, 153)','rgb(102, 0, 204)','rgb(128, 0, 255)','rgb(153, 51, 255)']\n",
    "Rosetraces = []\n",
    "cont=0\n",
    "\n",
    "\n",
    "for j in reversed(list(x[\"50\"].keys())):\n",
    "#         print(j)\n",
    "#         print(x[i][j])\n",
    "\n",
    "#         print(\"\")\n",
    "    Rosetraces.append(\n",
    "        go.Barpolar(\n",
    "                    r=x[i][j],\n",
    "                    name=f'Greater {j} m/s',\n",
    "                    marker_color=RoseColour[cont],\n",
    "                    theta=Names,\n",
    "                        ),\n",
    "    )\n",
    "    cont+=1\n",
    "#print(f\"NET {(time.time() - start_time)} seconds ---\")\n",
    "\n",
    "Roselayout=dict(#go.Layout(\n",
    "                    title='Wind Speed Distribution in Laurel, NE',\n",
    "                    font_size=16,\n",
    "                    legend_font_size=16,\n",
    "                    polar_radialaxis_ticksuffix='%',\n",
    "                    polar_angularaxis_rotation=90,\n",
    "                )#) \n",
    "\n",
    "    \n",
    "# print(traces)\n",
    "# print(f\"NET {(time.time() - start_time)} seconds ---\")\n",
    "print(\"hey\")\n",
    "figure4 = go.Figure(data=Rosetraces,layout=Roselayout)\n"
   ]
  },
  {
   "cell_type": "code",
   "execution_count": 192,
   "metadata": {},
   "outputs": [
    {
     "data": {
      "application/vnd.plotly.v1+json": {
       "config": {
        "plotlyServerURL": "https://plot.ly"
       },
       "data": [
        {
         "marker": {
          "color": "rgb(18, 0, 57)"
         },
         "name": "Greater 12.5 m/s",
         "r": [
          1.605191256830601,
          0.700136612021858,
          0.1366120218579235,
          0.01707650273224044,
          -0.01707650273224044,
          0.08538251366120218,
          0.06830601092896176,
          0.1366120218579235,
          -0.01707650273224044,
          0,
          0.01707650273224044,
          -0.01707650273224044,
          -0.01707650273224044,
          -0.01707650273224044,
          -0.01707650273224044,
          0.06830601092896176
         ],
         "theta": [
          "N",
          "NNE",
          "NE",
          "ENE",
          "E",
          "ESE",
          "SE",
          "SSE",
          "S",
          "SSW",
          "SW",
          "WSW",
          "W",
          "WNW",
          "NW",
          "NNW"
         ],
         "type": "barpolar"
        },
        {
         "marker": {
          "color": "rgb(77, 0, 153)"
         },
         "name": "Greater 10 m/s",
         "r": [
          3.568989071038251,
          1.5539617486338797,
          0.6147540983606558,
          1.092896174863388,
          2.783469945355191,
          0.9904371584699454,
          0.4610655737704918,
          0.4098360655737705,
          0.17076502732240437,
          0,
          0.10245901639344263,
          0.10245901639344263,
          -0.01707650273224044,
          -0.01707650273224044,
          -0.01707650273224044,
          0.3756830601092896
         ],
         "theta": [
          "N",
          "NNE",
          "NE",
          "ENE",
          "E",
          "ESE",
          "SE",
          "SSE",
          "S",
          "SSW",
          "SW",
          "WSW",
          "W",
          "WNW",
          "NW",
          "NNW"
         ],
         "type": "barpolar"
        },
        {
         "marker": {
          "color": "rgb(102, 0, 204)"
         },
         "name": "Greater 7.5 m/s",
         "r": [
          5.959699453551912,
          4.149590163934426,
          2.0150273224043715,
          3.483606557377049,
          7.889344262295082,
          6.420765027322404,
          1.6564207650273226,
          1.2465846994535519,
          0.5293715846994536,
          0.10245901639344263,
          0.10245901639344263,
          0.17076502732240437,
          -0.01707650273224044,
          0.15368852459016394,
          0.22199453551912568,
          0.9392076502732241
         ],
         "theta": [
          "N",
          "NNE",
          "NE",
          "ENE",
          "E",
          "ESE",
          "SE",
          "SSE",
          "S",
          "SSW",
          "SW",
          "WSW",
          "W",
          "WNW",
          "NW",
          "NNW"
         ],
         "type": "barpolar"
        },
        {
         "marker": {
          "color": "rgb(128, 0, 255)"
         },
         "name": "Greater 5 m/s",
         "r": [
          7.41120218579235,
          6.352459016393443,
          3.773907103825137,
          6.847677595628415,
          11.782786885245903,
          15.112704918032788,
          7.462431693989072,
          3.3640710382513666,
          1.7588797814207648,
          0.6318306010928962,
          0.15368852459016394,
          0.3244535519125683,
          -0.01707650273224044,
          0.1878415300546448,
          0.29030054644808745,
          1.5539617486338797
         ],
         "theta": [
          "N",
          "NNE",
          "NE",
          "ENE",
          "E",
          "ESE",
          "SE",
          "SSE",
          "S",
          "SSW",
          "SW",
          "WSW",
          "W",
          "WNW",
          "NW",
          "NNW"
         ],
         "type": "barpolar"
        },
        {
         "marker": {
          "color": "rgb(153, 51, 255)"
         },
         "name": "Greater 2.5 m/s",
         "r": [
          8.299180327868852,
          7.377049180327869,
          5.344945355191257,
          10.16051912568306,
          15.573770491803279,
          19.09153005464481,
          10.382513661202186,
          5.362021857923497,
          3.8422131147540983,
          1.5881147540983607,
          0.665983606557377,
          0.5635245901639344,
          0.10245901639344263,
          0.3927595628415301,
          0.665983606557377,
          1.8954918032786885
         ],
         "theta": [
          "N",
          "NNE",
          "NE",
          "ENE",
          "E",
          "ESE",
          "SE",
          "SSE",
          "S",
          "SSW",
          "SW",
          "WSW",
          "W",
          "WNW",
          "NW",
          "NNW"
         ],
         "type": "barpolar"
        }
       ],
       "layout": {
        "font": {
         "size": 16
        },
        "legend": {
         "font": {
          "size": 16
         }
        },
        "polar": {
         "angularaxis": {
          "rotation": 90
         },
         "radialaxis": {
          "ticksuffix": "%"
         }
        },
        "template": {
         "data": {
          "bar": [
           {
            "error_x": {
             "color": "#2a3f5f"
            },
            "error_y": {
             "color": "#2a3f5f"
            },
            "marker": {
             "line": {
              "color": "#E5ECF6",
              "width": 0.5
             }
            },
            "type": "bar"
           }
          ],
          "barpolar": [
           {
            "marker": {
             "line": {
              "color": "#E5ECF6",
              "width": 0.5
             }
            },
            "type": "barpolar"
           }
          ],
          "carpet": [
           {
            "aaxis": {
             "endlinecolor": "#2a3f5f",
             "gridcolor": "white",
             "linecolor": "white",
             "minorgridcolor": "white",
             "startlinecolor": "#2a3f5f"
            },
            "baxis": {
             "endlinecolor": "#2a3f5f",
             "gridcolor": "white",
             "linecolor": "white",
             "minorgridcolor": "white",
             "startlinecolor": "#2a3f5f"
            },
            "type": "carpet"
           }
          ],
          "choropleth": [
           {
            "colorbar": {
             "outlinewidth": 0,
             "ticks": ""
            },
            "type": "choropleth"
           }
          ],
          "contour": [
           {
            "colorbar": {
             "outlinewidth": 0,
             "ticks": ""
            },
            "colorscale": [
             [
              0,
              "#0d0887"
             ],
             [
              0.1111111111111111,
              "#46039f"
             ],
             [
              0.2222222222222222,
              "#7201a8"
             ],
             [
              0.3333333333333333,
              "#9c179e"
             ],
             [
              0.4444444444444444,
              "#bd3786"
             ],
             [
              0.5555555555555556,
              "#d8576b"
             ],
             [
              0.6666666666666666,
              "#ed7953"
             ],
             [
              0.7777777777777778,
              "#fb9f3a"
             ],
             [
              0.8888888888888888,
              "#fdca26"
             ],
             [
              1,
              "#f0f921"
             ]
            ],
            "type": "contour"
           }
          ],
          "contourcarpet": [
           {
            "colorbar": {
             "outlinewidth": 0,
             "ticks": ""
            },
            "type": "contourcarpet"
           }
          ],
          "heatmap": [
           {
            "colorbar": {
             "outlinewidth": 0,
             "ticks": ""
            },
            "colorscale": [
             [
              0,
              "#0d0887"
             ],
             [
              0.1111111111111111,
              "#46039f"
             ],
             [
              0.2222222222222222,
              "#7201a8"
             ],
             [
              0.3333333333333333,
              "#9c179e"
             ],
             [
              0.4444444444444444,
              "#bd3786"
             ],
             [
              0.5555555555555556,
              "#d8576b"
             ],
             [
              0.6666666666666666,
              "#ed7953"
             ],
             [
              0.7777777777777778,
              "#fb9f3a"
             ],
             [
              0.8888888888888888,
              "#fdca26"
             ],
             [
              1,
              "#f0f921"
             ]
            ],
            "type": "heatmap"
           }
          ],
          "heatmapgl": [
           {
            "colorbar": {
             "outlinewidth": 0,
             "ticks": ""
            },
            "colorscale": [
             [
              0,
              "#0d0887"
             ],
             [
              0.1111111111111111,
              "#46039f"
             ],
             [
              0.2222222222222222,
              "#7201a8"
             ],
             [
              0.3333333333333333,
              "#9c179e"
             ],
             [
              0.4444444444444444,
              "#bd3786"
             ],
             [
              0.5555555555555556,
              "#d8576b"
             ],
             [
              0.6666666666666666,
              "#ed7953"
             ],
             [
              0.7777777777777778,
              "#fb9f3a"
             ],
             [
              0.8888888888888888,
              "#fdca26"
             ],
             [
              1,
              "#f0f921"
             ]
            ],
            "type": "heatmapgl"
           }
          ],
          "histogram": [
           {
            "marker": {
             "colorbar": {
              "outlinewidth": 0,
              "ticks": ""
             }
            },
            "type": "histogram"
           }
          ],
          "histogram2d": [
           {
            "colorbar": {
             "outlinewidth": 0,
             "ticks": ""
            },
            "colorscale": [
             [
              0,
              "#0d0887"
             ],
             [
              0.1111111111111111,
              "#46039f"
             ],
             [
              0.2222222222222222,
              "#7201a8"
             ],
             [
              0.3333333333333333,
              "#9c179e"
             ],
             [
              0.4444444444444444,
              "#bd3786"
             ],
             [
              0.5555555555555556,
              "#d8576b"
             ],
             [
              0.6666666666666666,
              "#ed7953"
             ],
             [
              0.7777777777777778,
              "#fb9f3a"
             ],
             [
              0.8888888888888888,
              "#fdca26"
             ],
             [
              1,
              "#f0f921"
             ]
            ],
            "type": "histogram2d"
           }
          ],
          "histogram2dcontour": [
           {
            "colorbar": {
             "outlinewidth": 0,
             "ticks": ""
            },
            "colorscale": [
             [
              0,
              "#0d0887"
             ],
             [
              0.1111111111111111,
              "#46039f"
             ],
             [
              0.2222222222222222,
              "#7201a8"
             ],
             [
              0.3333333333333333,
              "#9c179e"
             ],
             [
              0.4444444444444444,
              "#bd3786"
             ],
             [
              0.5555555555555556,
              "#d8576b"
             ],
             [
              0.6666666666666666,
              "#ed7953"
             ],
             [
              0.7777777777777778,
              "#fb9f3a"
             ],
             [
              0.8888888888888888,
              "#fdca26"
             ],
             [
              1,
              "#f0f921"
             ]
            ],
            "type": "histogram2dcontour"
           }
          ],
          "mesh3d": [
           {
            "colorbar": {
             "outlinewidth": 0,
             "ticks": ""
            },
            "type": "mesh3d"
           }
          ],
          "parcoords": [
           {
            "line": {
             "colorbar": {
              "outlinewidth": 0,
              "ticks": ""
             }
            },
            "type": "parcoords"
           }
          ],
          "scatter": [
           {
            "marker": {
             "colorbar": {
              "outlinewidth": 0,
              "ticks": ""
             }
            },
            "type": "scatter"
           }
          ],
          "scatter3d": [
           {
            "line": {
             "colorbar": {
              "outlinewidth": 0,
              "ticks": ""
             }
            },
            "marker": {
             "colorbar": {
              "outlinewidth": 0,
              "ticks": ""
             }
            },
            "type": "scatter3d"
           }
          ],
          "scattercarpet": [
           {
            "marker": {
             "colorbar": {
              "outlinewidth": 0,
              "ticks": ""
             }
            },
            "type": "scattercarpet"
           }
          ],
          "scattergeo": [
           {
            "marker": {
             "colorbar": {
              "outlinewidth": 0,
              "ticks": ""
             }
            },
            "type": "scattergeo"
           }
          ],
          "scattergl": [
           {
            "marker": {
             "colorbar": {
              "outlinewidth": 0,
              "ticks": ""
             }
            },
            "type": "scattergl"
           }
          ],
          "scattermapbox": [
           {
            "marker": {
             "colorbar": {
              "outlinewidth": 0,
              "ticks": ""
             }
            },
            "type": "scattermapbox"
           }
          ],
          "scatterpolar": [
           {
            "marker": {
             "colorbar": {
              "outlinewidth": 0,
              "ticks": ""
             }
            },
            "type": "scatterpolar"
           }
          ],
          "scatterpolargl": [
           {
            "marker": {
             "colorbar": {
              "outlinewidth": 0,
              "ticks": ""
             }
            },
            "type": "scatterpolargl"
           }
          ],
          "scatterternary": [
           {
            "marker": {
             "colorbar": {
              "outlinewidth": 0,
              "ticks": ""
             }
            },
            "type": "scatterternary"
           }
          ],
          "surface": [
           {
            "colorbar": {
             "outlinewidth": 0,
             "ticks": ""
            },
            "colorscale": [
             [
              0,
              "#0d0887"
             ],
             [
              0.1111111111111111,
              "#46039f"
             ],
             [
              0.2222222222222222,
              "#7201a8"
             ],
             [
              0.3333333333333333,
              "#9c179e"
             ],
             [
              0.4444444444444444,
              "#bd3786"
             ],
             [
              0.5555555555555556,
              "#d8576b"
             ],
             [
              0.6666666666666666,
              "#ed7953"
             ],
             [
              0.7777777777777778,
              "#fb9f3a"
             ],
             [
              0.8888888888888888,
              "#fdca26"
             ],
             [
              1,
              "#f0f921"
             ]
            ],
            "type": "surface"
           }
          ],
          "table": [
           {
            "cells": {
             "fill": {
              "color": "#EBF0F8"
             },
             "line": {
              "color": "white"
             }
            },
            "header": {
             "fill": {
              "color": "#C8D4E3"
             },
             "line": {
              "color": "white"
             }
            },
            "type": "table"
           }
          ]
         },
         "layout": {
          "annotationdefaults": {
           "arrowcolor": "#2a3f5f",
           "arrowhead": 0,
           "arrowwidth": 1
          },
          "colorscale": {
           "diverging": [
            [
             0,
             "#8e0152"
            ],
            [
             0.1,
             "#c51b7d"
            ],
            [
             0.2,
             "#de77ae"
            ],
            [
             0.3,
             "#f1b6da"
            ],
            [
             0.4,
             "#fde0ef"
            ],
            [
             0.5,
             "#f7f7f7"
            ],
            [
             0.6,
             "#e6f5d0"
            ],
            [
             0.7,
             "#b8e186"
            ],
            [
             0.8,
             "#7fbc41"
            ],
            [
             0.9,
             "#4d9221"
            ],
            [
             1,
             "#276419"
            ]
           ],
           "sequential": [
            [
             0,
             "#0d0887"
            ],
            [
             0.1111111111111111,
             "#46039f"
            ],
            [
             0.2222222222222222,
             "#7201a8"
            ],
            [
             0.3333333333333333,
             "#9c179e"
            ],
            [
             0.4444444444444444,
             "#bd3786"
            ],
            [
             0.5555555555555556,
             "#d8576b"
            ],
            [
             0.6666666666666666,
             "#ed7953"
            ],
            [
             0.7777777777777778,
             "#fb9f3a"
            ],
            [
             0.8888888888888888,
             "#fdca26"
            ],
            [
             1,
             "#f0f921"
            ]
           ],
           "sequentialminus": [
            [
             0,
             "#0d0887"
            ],
            [
             0.1111111111111111,
             "#46039f"
            ],
            [
             0.2222222222222222,
             "#7201a8"
            ],
            [
             0.3333333333333333,
             "#9c179e"
            ],
            [
             0.4444444444444444,
             "#bd3786"
            ],
            [
             0.5555555555555556,
             "#d8576b"
            ],
            [
             0.6666666666666666,
             "#ed7953"
            ],
            [
             0.7777777777777778,
             "#fb9f3a"
            ],
            [
             0.8888888888888888,
             "#fdca26"
            ],
            [
             1,
             "#f0f921"
            ]
           ]
          },
          "colorway": [
           "#636efa",
           "#EF553B",
           "#00cc96",
           "#ab63fa",
           "#FFA15A",
           "#19d3f3",
           "#FF6692",
           "#B6E880",
           "#FF97FF",
           "#FECB52"
          ],
          "font": {
           "color": "#2a3f5f"
          },
          "geo": {
           "bgcolor": "white",
           "lakecolor": "white",
           "landcolor": "#E5ECF6",
           "showlakes": true,
           "showland": true,
           "subunitcolor": "white"
          },
          "hoverlabel": {
           "align": "left"
          },
          "hovermode": "closest",
          "mapbox": {
           "style": "light"
          },
          "paper_bgcolor": "white",
          "plot_bgcolor": "#E5ECF6",
          "polar": {
           "angularaxis": {
            "gridcolor": "white",
            "linecolor": "white",
            "ticks": ""
           },
           "bgcolor": "#E5ECF6",
           "radialaxis": {
            "gridcolor": "white",
            "linecolor": "white",
            "ticks": ""
           }
          },
          "scene": {
           "xaxis": {
            "backgroundcolor": "#E5ECF6",
            "gridcolor": "white",
            "gridwidth": 2,
            "linecolor": "white",
            "showbackground": true,
            "ticks": "",
            "zerolinecolor": "white"
           },
           "yaxis": {
            "backgroundcolor": "#E5ECF6",
            "gridcolor": "white",
            "gridwidth": 2,
            "linecolor": "white",
            "showbackground": true,
            "ticks": "",
            "zerolinecolor": "white"
           },
           "zaxis": {
            "backgroundcolor": "#E5ECF6",
            "gridcolor": "white",
            "gridwidth": 2,
            "linecolor": "white",
            "showbackground": true,
            "ticks": "",
            "zerolinecolor": "white"
           }
          },
          "shapedefaults": {
           "line": {
            "color": "#2a3f5f"
           }
          },
          "ternary": {
           "aaxis": {
            "gridcolor": "white",
            "linecolor": "white",
            "ticks": ""
           },
           "baxis": {
            "gridcolor": "white",
            "linecolor": "white",
            "ticks": ""
           },
           "bgcolor": "#E5ECF6",
           "caxis": {
            "gridcolor": "white",
            "linecolor": "white",
            "ticks": ""
           }
          },
          "title": {
           "x": 0.05
          },
          "xaxis": {
           "automargin": true,
           "gridcolor": "white",
           "linecolor": "white",
           "ticks": "",
           "zerolinecolor": "white",
           "zerolinewidth": 2
          },
          "yaxis": {
           "automargin": true,
           "gridcolor": "white",
           "linecolor": "white",
           "ticks": "",
           "zerolinecolor": "white",
           "zerolinewidth": 2
          }
         }
        },
        "title": {
         "text": "Wind Speed Distribution in Laurel, NE"
        }
       }
      },
      "text/html": [
       "<div>\n",
       "        \n",
       "        \n",
       "            <div id=\"b49e145c-d80c-4233-8da6-1fdc87c48b31\" class=\"plotly-graph-div\" style=\"height:525px; width:100%;\"></div>\n",
       "            <script type=\"text/javascript\">\n",
       "                require([\"plotly\"], function(Plotly) {\n",
       "                    window.PLOTLYENV=window.PLOTLYENV || {};\n",
       "                    \n",
       "                if (document.getElementById(\"b49e145c-d80c-4233-8da6-1fdc87c48b31\")) {\n",
       "                    Plotly.newPlot(\n",
       "                        'b49e145c-d80c-4233-8da6-1fdc87c48b31',\n",
       "                        [{\"marker\": {\"color\": \"rgb(18, 0, 57)\"}, \"name\": \"Greater 12.5 m/s\", \"r\": [1.605191256830601, 0.700136612021858, 0.1366120218579235, 0.01707650273224044, -0.01707650273224044, 0.08538251366120218, 0.06830601092896176, 0.1366120218579235, -0.01707650273224044, 0.0, 0.01707650273224044, -0.01707650273224044, -0.01707650273224044, -0.01707650273224044, -0.01707650273224044, 0.06830601092896176], \"theta\": [\"N\", \"NNE\", \"NE\", \"ENE\", \"E\", \"ESE\", \"SE\", \"SSE\", \"S\", \"SSW\", \"SW\", \"WSW\", \"W\", \"WNW\", \"NW\", \"NNW\"], \"type\": \"barpolar\"}, {\"marker\": {\"color\": \"rgb(77, 0, 153)\"}, \"name\": \"Greater 10 m/s\", \"r\": [3.568989071038251, 1.5539617486338797, 0.6147540983606558, 1.092896174863388, 2.783469945355191, 0.9904371584699454, 0.4610655737704918, 0.4098360655737705, 0.17076502732240437, 0.0, 0.10245901639344263, 0.10245901639344263, -0.01707650273224044, -0.01707650273224044, -0.01707650273224044, 0.3756830601092896], \"theta\": [\"N\", \"NNE\", \"NE\", \"ENE\", \"E\", \"ESE\", \"SE\", \"SSE\", \"S\", \"SSW\", \"SW\", \"WSW\", \"W\", \"WNW\", \"NW\", \"NNW\"], \"type\": \"barpolar\"}, {\"marker\": {\"color\": \"rgb(102, 0, 204)\"}, \"name\": \"Greater 7.5 m/s\", \"r\": [5.959699453551912, 4.149590163934426, 2.0150273224043715, 3.483606557377049, 7.889344262295082, 6.420765027322404, 1.6564207650273226, 1.2465846994535519, 0.5293715846994536, 0.10245901639344263, 0.10245901639344263, 0.17076502732240437, -0.01707650273224044, 0.15368852459016394, 0.22199453551912568, 0.9392076502732241], \"theta\": [\"N\", \"NNE\", \"NE\", \"ENE\", \"E\", \"ESE\", \"SE\", \"SSE\", \"S\", \"SSW\", \"SW\", \"WSW\", \"W\", \"WNW\", \"NW\", \"NNW\"], \"type\": \"barpolar\"}, {\"marker\": {\"color\": \"rgb(128, 0, 255)\"}, \"name\": \"Greater 5 m/s\", \"r\": [7.41120218579235, 6.352459016393443, 3.773907103825137, 6.847677595628415, 11.782786885245903, 15.112704918032788, 7.462431693989072, 3.3640710382513666, 1.7588797814207648, 0.6318306010928962, 0.15368852459016394, 0.3244535519125683, -0.01707650273224044, 0.1878415300546448, 0.29030054644808745, 1.5539617486338797], \"theta\": [\"N\", \"NNE\", \"NE\", \"ENE\", \"E\", \"ESE\", \"SE\", \"SSE\", \"S\", \"SSW\", \"SW\", \"WSW\", \"W\", \"WNW\", \"NW\", \"NNW\"], \"type\": \"barpolar\"}, {\"marker\": {\"color\": \"rgb(153, 51, 255)\"}, \"name\": \"Greater 2.5 m/s\", \"r\": [8.299180327868852, 7.377049180327869, 5.344945355191257, 10.16051912568306, 15.573770491803279, 19.09153005464481, 10.382513661202186, 5.362021857923497, 3.8422131147540983, 1.5881147540983607, 0.665983606557377, 0.5635245901639344, 0.10245901639344263, 0.3927595628415301, 0.665983606557377, 1.8954918032786885], \"theta\": [\"N\", \"NNE\", \"NE\", \"ENE\", \"E\", \"ESE\", \"SE\", \"SSE\", \"S\", \"SSW\", \"SW\", \"WSW\", \"W\", \"WNW\", \"NW\", \"NNW\"], \"type\": \"barpolar\"}],\n",
       "                        {\"font\": {\"size\": 16}, \"legend\": {\"font\": {\"size\": 16}}, \"polar\": {\"angularaxis\": {\"rotation\": 90}, \"radialaxis\": {\"ticksuffix\": \"%\"}}, \"template\": {\"data\": {\"bar\": [{\"error_x\": {\"color\": \"#2a3f5f\"}, \"error_y\": {\"color\": \"#2a3f5f\"}, \"marker\": {\"line\": {\"color\": \"#E5ECF6\", \"width\": 0.5}}, \"type\": \"bar\"}], \"barpolar\": [{\"marker\": {\"line\": {\"color\": \"#E5ECF6\", \"width\": 0.5}}, \"type\": \"barpolar\"}], \"carpet\": [{\"aaxis\": {\"endlinecolor\": \"#2a3f5f\", \"gridcolor\": \"white\", \"linecolor\": \"white\", \"minorgridcolor\": \"white\", \"startlinecolor\": \"#2a3f5f\"}, \"baxis\": {\"endlinecolor\": \"#2a3f5f\", \"gridcolor\": \"white\", \"linecolor\": \"white\", \"minorgridcolor\": \"white\", \"startlinecolor\": \"#2a3f5f\"}, \"type\": \"carpet\"}], \"choropleth\": [{\"colorbar\": {\"outlinewidth\": 0, \"ticks\": \"\"}, \"type\": \"choropleth\"}], \"contour\": [{\"colorbar\": {\"outlinewidth\": 0, \"ticks\": \"\"}, \"colorscale\": [[0.0, \"#0d0887\"], [0.1111111111111111, \"#46039f\"], [0.2222222222222222, \"#7201a8\"], [0.3333333333333333, \"#9c179e\"], [0.4444444444444444, \"#bd3786\"], [0.5555555555555556, \"#d8576b\"], [0.6666666666666666, \"#ed7953\"], [0.7777777777777778, \"#fb9f3a\"], [0.8888888888888888, \"#fdca26\"], [1.0, \"#f0f921\"]], \"type\": \"contour\"}], \"contourcarpet\": [{\"colorbar\": {\"outlinewidth\": 0, \"ticks\": \"\"}, \"type\": \"contourcarpet\"}], \"heatmap\": [{\"colorbar\": {\"outlinewidth\": 0, \"ticks\": \"\"}, \"colorscale\": [[0.0, \"#0d0887\"], [0.1111111111111111, \"#46039f\"], [0.2222222222222222, \"#7201a8\"], [0.3333333333333333, \"#9c179e\"], [0.4444444444444444, \"#bd3786\"], [0.5555555555555556, \"#d8576b\"], [0.6666666666666666, \"#ed7953\"], [0.7777777777777778, \"#fb9f3a\"], [0.8888888888888888, \"#fdca26\"], [1.0, \"#f0f921\"]], \"type\": \"heatmap\"}], \"heatmapgl\": [{\"colorbar\": {\"outlinewidth\": 0, \"ticks\": \"\"}, \"colorscale\": [[0.0, \"#0d0887\"], [0.1111111111111111, \"#46039f\"], [0.2222222222222222, \"#7201a8\"], [0.3333333333333333, \"#9c179e\"], [0.4444444444444444, \"#bd3786\"], [0.5555555555555556, \"#d8576b\"], [0.6666666666666666, \"#ed7953\"], [0.7777777777777778, \"#fb9f3a\"], [0.8888888888888888, \"#fdca26\"], [1.0, \"#f0f921\"]], \"type\": \"heatmapgl\"}], \"histogram\": [{\"marker\": {\"colorbar\": {\"outlinewidth\": 0, \"ticks\": \"\"}}, \"type\": \"histogram\"}], \"histogram2d\": [{\"colorbar\": {\"outlinewidth\": 0, \"ticks\": \"\"}, \"colorscale\": [[0.0, \"#0d0887\"], [0.1111111111111111, \"#46039f\"], [0.2222222222222222, \"#7201a8\"], [0.3333333333333333, \"#9c179e\"], [0.4444444444444444, \"#bd3786\"], [0.5555555555555556, \"#d8576b\"], [0.6666666666666666, \"#ed7953\"], [0.7777777777777778, \"#fb9f3a\"], [0.8888888888888888, \"#fdca26\"], [1.0, \"#f0f921\"]], \"type\": \"histogram2d\"}], \"histogram2dcontour\": [{\"colorbar\": {\"outlinewidth\": 0, \"ticks\": \"\"}, \"colorscale\": [[0.0, \"#0d0887\"], [0.1111111111111111, \"#46039f\"], [0.2222222222222222, \"#7201a8\"], [0.3333333333333333, \"#9c179e\"], [0.4444444444444444, \"#bd3786\"], [0.5555555555555556, \"#d8576b\"], [0.6666666666666666, \"#ed7953\"], [0.7777777777777778, \"#fb9f3a\"], [0.8888888888888888, \"#fdca26\"], [1.0, \"#f0f921\"]], \"type\": \"histogram2dcontour\"}], \"mesh3d\": [{\"colorbar\": {\"outlinewidth\": 0, \"ticks\": \"\"}, \"type\": \"mesh3d\"}], \"parcoords\": [{\"line\": {\"colorbar\": {\"outlinewidth\": 0, \"ticks\": \"\"}}, \"type\": \"parcoords\"}], \"scatter\": [{\"marker\": {\"colorbar\": {\"outlinewidth\": 0, \"ticks\": \"\"}}, \"type\": \"scatter\"}], \"scatter3d\": [{\"line\": {\"colorbar\": {\"outlinewidth\": 0, \"ticks\": \"\"}}, \"marker\": {\"colorbar\": {\"outlinewidth\": 0, \"ticks\": \"\"}}, \"type\": \"scatter3d\"}], \"scattercarpet\": [{\"marker\": {\"colorbar\": {\"outlinewidth\": 0, \"ticks\": \"\"}}, \"type\": \"scattercarpet\"}], \"scattergeo\": [{\"marker\": {\"colorbar\": {\"outlinewidth\": 0, \"ticks\": \"\"}}, \"type\": \"scattergeo\"}], \"scattergl\": [{\"marker\": {\"colorbar\": {\"outlinewidth\": 0, \"ticks\": \"\"}}, \"type\": \"scattergl\"}], \"scattermapbox\": [{\"marker\": {\"colorbar\": {\"outlinewidth\": 0, \"ticks\": \"\"}}, \"type\": \"scattermapbox\"}], \"scatterpolar\": [{\"marker\": {\"colorbar\": {\"outlinewidth\": 0, \"ticks\": \"\"}}, \"type\": \"scatterpolar\"}], \"scatterpolargl\": [{\"marker\": {\"colorbar\": {\"outlinewidth\": 0, \"ticks\": \"\"}}, \"type\": \"scatterpolargl\"}], \"scatterternary\": [{\"marker\": {\"colorbar\": {\"outlinewidth\": 0, \"ticks\": \"\"}}, \"type\": \"scatterternary\"}], \"surface\": [{\"colorbar\": {\"outlinewidth\": 0, \"ticks\": \"\"}, \"colorscale\": [[0.0, \"#0d0887\"], [0.1111111111111111, \"#46039f\"], [0.2222222222222222, \"#7201a8\"], [0.3333333333333333, \"#9c179e\"], [0.4444444444444444, \"#bd3786\"], [0.5555555555555556, \"#d8576b\"], [0.6666666666666666, \"#ed7953\"], [0.7777777777777778, \"#fb9f3a\"], [0.8888888888888888, \"#fdca26\"], [1.0, \"#f0f921\"]], \"type\": \"surface\"}], \"table\": [{\"cells\": {\"fill\": {\"color\": \"#EBF0F8\"}, \"line\": {\"color\": \"white\"}}, \"header\": {\"fill\": {\"color\": \"#C8D4E3\"}, \"line\": {\"color\": \"white\"}}, \"type\": \"table\"}]}, \"layout\": {\"annotationdefaults\": {\"arrowcolor\": \"#2a3f5f\", \"arrowhead\": 0, \"arrowwidth\": 1}, \"colorscale\": {\"diverging\": [[0, \"#8e0152\"], [0.1, \"#c51b7d\"], [0.2, \"#de77ae\"], [0.3, \"#f1b6da\"], [0.4, \"#fde0ef\"], [0.5, \"#f7f7f7\"], [0.6, \"#e6f5d0\"], [0.7, \"#b8e186\"], [0.8, \"#7fbc41\"], [0.9, \"#4d9221\"], [1, \"#276419\"]], \"sequential\": [[0.0, \"#0d0887\"], [0.1111111111111111, \"#46039f\"], [0.2222222222222222, \"#7201a8\"], [0.3333333333333333, \"#9c179e\"], [0.4444444444444444, \"#bd3786\"], [0.5555555555555556, \"#d8576b\"], [0.6666666666666666, \"#ed7953\"], [0.7777777777777778, \"#fb9f3a\"], [0.8888888888888888, \"#fdca26\"], [1.0, \"#f0f921\"]], \"sequentialminus\": [[0.0, \"#0d0887\"], [0.1111111111111111, \"#46039f\"], [0.2222222222222222, \"#7201a8\"], [0.3333333333333333, \"#9c179e\"], [0.4444444444444444, \"#bd3786\"], [0.5555555555555556, \"#d8576b\"], [0.6666666666666666, \"#ed7953\"], [0.7777777777777778, \"#fb9f3a\"], [0.8888888888888888, \"#fdca26\"], [1.0, \"#f0f921\"]]}, \"colorway\": [\"#636efa\", \"#EF553B\", \"#00cc96\", \"#ab63fa\", \"#FFA15A\", \"#19d3f3\", \"#FF6692\", \"#B6E880\", \"#FF97FF\", \"#FECB52\"], \"font\": {\"color\": \"#2a3f5f\"}, \"geo\": {\"bgcolor\": \"white\", \"lakecolor\": \"white\", \"landcolor\": \"#E5ECF6\", \"showlakes\": true, \"showland\": true, \"subunitcolor\": \"white\"}, \"hoverlabel\": {\"align\": \"left\"}, \"hovermode\": \"closest\", \"mapbox\": {\"style\": \"light\"}, \"paper_bgcolor\": \"white\", \"plot_bgcolor\": \"#E5ECF6\", \"polar\": {\"angularaxis\": {\"gridcolor\": \"white\", \"linecolor\": \"white\", \"ticks\": \"\"}, \"bgcolor\": \"#E5ECF6\", \"radialaxis\": {\"gridcolor\": \"white\", \"linecolor\": \"white\", \"ticks\": \"\"}}, \"scene\": {\"xaxis\": {\"backgroundcolor\": \"#E5ECF6\", \"gridcolor\": \"white\", \"gridwidth\": 2, \"linecolor\": \"white\", \"showbackground\": true, \"ticks\": \"\", \"zerolinecolor\": \"white\"}, \"yaxis\": {\"backgroundcolor\": \"#E5ECF6\", \"gridcolor\": \"white\", \"gridwidth\": 2, \"linecolor\": \"white\", \"showbackground\": true, \"ticks\": \"\", \"zerolinecolor\": \"white\"}, \"zaxis\": {\"backgroundcolor\": \"#E5ECF6\", \"gridcolor\": \"white\", \"gridwidth\": 2, \"linecolor\": \"white\", \"showbackground\": true, \"ticks\": \"\", \"zerolinecolor\": \"white\"}}, \"shapedefaults\": {\"line\": {\"color\": \"#2a3f5f\"}}, \"ternary\": {\"aaxis\": {\"gridcolor\": \"white\", \"linecolor\": \"white\", \"ticks\": \"\"}, \"baxis\": {\"gridcolor\": \"white\", \"linecolor\": \"white\", \"ticks\": \"\"}, \"bgcolor\": \"#E5ECF6\", \"caxis\": {\"gridcolor\": \"white\", \"linecolor\": \"white\", \"ticks\": \"\"}}, \"title\": {\"x\": 0.05}, \"xaxis\": {\"automargin\": true, \"gridcolor\": \"white\", \"linecolor\": \"white\", \"ticks\": \"\", \"zerolinecolor\": \"white\", \"zerolinewidth\": 2}, \"yaxis\": {\"automargin\": true, \"gridcolor\": \"white\", \"linecolor\": \"white\", \"ticks\": \"\", \"zerolinecolor\": \"white\", \"zerolinewidth\": 2}}}, \"title\": {\"text\": \"Wind Speed Distribution in Laurel, NE\"}},\n",
       "                        {\"responsive\": true}\n",
       "                    ).then(function(){\n",
       "                            \n",
       "var gd = document.getElementById('b49e145c-d80c-4233-8da6-1fdc87c48b31');\n",
       "var x = new MutationObserver(function (mutations, observer) {{\n",
       "        var display = window.getComputedStyle(gd).display;\n",
       "        if (!display || display === 'none') {{\n",
       "            console.log([gd, 'removed!']);\n",
       "            Plotly.purge(gd);\n",
       "            observer.disconnect();\n",
       "        }}\n",
       "}});\n",
       "\n",
       "// Listen for the removal of the full notebook cells\n",
       "var notebookContainer = gd.closest('#notebook-container');\n",
       "if (notebookContainer) {{\n",
       "    x.observe(notebookContainer, {childList: true});\n",
       "}}\n",
       "\n",
       "// Listen for the clearing of the current output cell\n",
       "var outputEl = gd.closest('.output');\n",
       "if (outputEl) {{\n",
       "    x.observe(outputEl, {childList: true});\n",
       "}}\n",
       "\n",
       "                        })\n",
       "                };\n",
       "                });\n",
       "            </script>\n",
       "        </div>"
      ]
     },
     "metadata": {},
     "output_type": "display_data"
    }
   ],
   "source": [
    "figure4.show()"
   ]
  },
  {
   "cell_type": "code",
   "execution_count": null,
   "metadata": {},
   "outputs": [],
   "source": []
  },
  {
   "cell_type": "code",
   "execution_count": null,
   "metadata": {},
   "outputs": [],
   "source": []
  },
  {
   "cell_type": "code",
   "execution_count": 188,
   "metadata": {},
   "outputs": [
    {
     "name": "stdout",
     "output_type": "stream",
     "text": [
      "mean\n",
      "hey\n"
     ]
    }
   ],
   "source": [
    "\n",
    "\n",
    "print('mean')\n",
    "\n",
    "hgtPLot = [50, 80, 100, 150]\n",
    "\n",
    "\n",
    "RoseColour=['rgb(18, 0, 57)','rgb(77, 0, 153)','rgb(102, 0, 204)','rgb(128, 0, 255)','rgb(153, 51, 255)']\n",
    "Rosetraces = []\n",
    "cont=0\n",
    "\n",
    "\n",
    "for j in reversed(list(x[\"50\"].keys())):\n",
    "#         print(j)\n",
    "#         print(x[i][j])\n",
    "\n",
    "#         print(\"\")\n",
    "    Rosetraces.append(\n",
    "        go.Barpolar(\n",
    "                    r=x[i][j],\n",
    "                    name=f'Greater {j} m/s',\n",
    "                    marker_color=RoseColour[cont],\n",
    "                    theta=Names,\n",
    "                        ),\n",
    "    )\n",
    "    cont+=1\n",
    "#print(f\"NET {(time.time() - start_time)} seconds ---\")\n",
    "\n",
    "Roselayout=dict(#go.Layout(\n",
    "                    title='Wind Speed Distribution in Laurel, NE',\n",
    "                    font_size=16,\n",
    "                    legend_font_size=16,\n",
    "                    polar_radialaxis_ticksuffix='%',\n",
    "                    polar_angularaxis_rotation=90,\n",
    "                )#) \n",
    "\n",
    "    \n",
    "# print(traces)\n",
    "# print(f\"NET {(time.time() - start_time)} seconds ---\")\n",
    "print(\"hey\")\n",
    "figure4 = go.Figure(data=Rosetraces,layout=Roselayout)\n"
   ]
  },
  {
   "cell_type": "code",
   "execution_count": null,
   "metadata": {},
   "outputs": [],
   "source": []
  },
  {
   "cell_type": "code",
   "execution_count": 1,
   "metadata": {},
   "outputs": [],
   "source": [
    "import xarray as xr"
   ]
  },
  {
   "cell_type": "code",
   "execution_count": 3,
   "metadata": {},
   "outputs": [
    {
     "ename": "OSError",
     "evalue": "[Errno -90] NetCDF: file not found: b'https://raw.githubusercontent.com/Futile21/testCSV/master/AllCoTurb.nc'",
     "output_type": "error",
     "traceback": [
      "\u001b[1;31m---------------------------------------------------------------------------\u001b[0m",
      "\u001b[1;31mKeyError\u001b[0m                                  Traceback (most recent call last)",
      "\u001b[1;32m~\\Anaconda3\\lib\\site-packages\\xarray\\backends\\file_manager.py\u001b[0m in \u001b[0;36m_acquire_with_cache_info\u001b[1;34m(self, needs_lock)\u001b[0m\n\u001b[0;32m    197\u001b[0m             \u001b[1;32mtry\u001b[0m\u001b[1;33m:\u001b[0m\u001b[1;33m\u001b[0m\u001b[1;33m\u001b[0m\u001b[0m\n\u001b[1;32m--> 198\u001b[1;33m                 \u001b[0mfile\u001b[0m \u001b[1;33m=\u001b[0m \u001b[0mself\u001b[0m\u001b[1;33m.\u001b[0m\u001b[0m_cache\u001b[0m\u001b[1;33m[\u001b[0m\u001b[0mself\u001b[0m\u001b[1;33m.\u001b[0m\u001b[0m_key\u001b[0m\u001b[1;33m]\u001b[0m\u001b[1;33m\u001b[0m\u001b[1;33m\u001b[0m\u001b[0m\n\u001b[0m\u001b[0;32m    199\u001b[0m             \u001b[1;32mexcept\u001b[0m \u001b[0mKeyError\u001b[0m\u001b[1;33m:\u001b[0m\u001b[1;33m\u001b[0m\u001b[1;33m\u001b[0m\u001b[0m\n",
      "\u001b[1;32m~\\Anaconda3\\lib\\site-packages\\xarray\\backends\\lru_cache.py\u001b[0m in \u001b[0;36m__getitem__\u001b[1;34m(self, key)\u001b[0m\n\u001b[0;32m     52\u001b[0m         \u001b[1;32mwith\u001b[0m \u001b[0mself\u001b[0m\u001b[1;33m.\u001b[0m\u001b[0m_lock\u001b[0m\u001b[1;33m:\u001b[0m\u001b[1;33m\u001b[0m\u001b[1;33m\u001b[0m\u001b[0m\n\u001b[1;32m---> 53\u001b[1;33m             \u001b[0mvalue\u001b[0m \u001b[1;33m=\u001b[0m \u001b[0mself\u001b[0m\u001b[1;33m.\u001b[0m\u001b[0m_cache\u001b[0m\u001b[1;33m[\u001b[0m\u001b[0mkey\u001b[0m\u001b[1;33m]\u001b[0m\u001b[1;33m\u001b[0m\u001b[1;33m\u001b[0m\u001b[0m\n\u001b[0m\u001b[0;32m     54\u001b[0m             \u001b[0mself\u001b[0m\u001b[1;33m.\u001b[0m\u001b[0m_cache\u001b[0m\u001b[1;33m.\u001b[0m\u001b[0mmove_to_end\u001b[0m\u001b[1;33m(\u001b[0m\u001b[0mkey\u001b[0m\u001b[1;33m)\u001b[0m\u001b[1;33m\u001b[0m\u001b[1;33m\u001b[0m\u001b[0m\n",
      "\u001b[1;31mKeyError\u001b[0m: [<class 'netCDF4._netCDF4.Dataset'>, ('https://raw.githubusercontent.com/Futile21/testCSV/master/AllCoTurb.nc',), 'r', (('clobber', True), ('diskless', False), ('format', 'NETCDF4'), ('persist', False))]",
      "\nDuring handling of the above exception, another exception occurred:\n",
      "\u001b[1;31mOSError\u001b[0m                                   Traceback (most recent call last)",
      "\u001b[1;32m<ipython-input-3-0403301667a2>\u001b[0m in \u001b[0;36m<module>\u001b[1;34m\u001b[0m\n\u001b[1;32m----> 1\u001b[1;33m \u001b[0mda6\u001b[0m\u001b[1;33m=\u001b[0m\u001b[0mxr\u001b[0m\u001b[1;33m.\u001b[0m\u001b[0mopen_dataset\u001b[0m\u001b[1;33m(\u001b[0m\u001b[1;34mr'https://raw.githubusercontent.com/Futile21/testCSV/master/AllCoTurb.nc'\u001b[0m\u001b[1;33m)\u001b[0m\u001b[1;33m\u001b[0m\u001b[1;33m\u001b[0m\u001b[0m\n\u001b[0m",
      "\u001b[1;32m~\\Anaconda3\\lib\\site-packages\\xarray\\backends\\api.py\u001b[0m in \u001b[0;36mopen_dataset\u001b[1;34m(filename_or_obj, group, decode_cf, mask_and_scale, decode_times, autoclose, concat_characters, decode_coords, engine, chunks, lock, cache, drop_variables, backend_kwargs, use_cftime)\u001b[0m\n\u001b[0;32m    497\u001b[0m         \u001b[1;32mif\u001b[0m \u001b[0mengine\u001b[0m \u001b[1;33m==\u001b[0m \u001b[1;34m\"netcdf4\"\u001b[0m\u001b[1;33m:\u001b[0m\u001b[1;33m\u001b[0m\u001b[1;33m\u001b[0m\u001b[0m\n\u001b[0;32m    498\u001b[0m             store = backends.NetCDF4DataStore.open(\n\u001b[1;32m--> 499\u001b[1;33m                 \u001b[0mfilename_or_obj\u001b[0m\u001b[1;33m,\u001b[0m \u001b[0mgroup\u001b[0m\u001b[1;33m=\u001b[0m\u001b[0mgroup\u001b[0m\u001b[1;33m,\u001b[0m \u001b[0mlock\u001b[0m\u001b[1;33m=\u001b[0m\u001b[0mlock\u001b[0m\u001b[1;33m,\u001b[0m \u001b[1;33m**\u001b[0m\u001b[0mbackend_kwargs\u001b[0m\u001b[1;33m\u001b[0m\u001b[1;33m\u001b[0m\u001b[0m\n\u001b[0m\u001b[0;32m    500\u001b[0m             )\n\u001b[0;32m    501\u001b[0m         \u001b[1;32melif\u001b[0m \u001b[0mengine\u001b[0m \u001b[1;33m==\u001b[0m \u001b[1;34m\"scipy\"\u001b[0m\u001b[1;33m:\u001b[0m\u001b[1;33m\u001b[0m\u001b[1;33m\u001b[0m\u001b[0m\n",
      "\u001b[1;32m~\\Anaconda3\\lib\\site-packages\\xarray\\backends\\netCDF4_.py\u001b[0m in \u001b[0;36mopen\u001b[1;34m(cls, filename, mode, format, group, clobber, diskless, persist, lock, lock_maker, autoclose)\u001b[0m\n\u001b[0;32m    355\u001b[0m             \u001b[0mnetCDF4\u001b[0m\u001b[1;33m.\u001b[0m\u001b[0mDataset\u001b[0m\u001b[1;33m,\u001b[0m \u001b[0mfilename\u001b[0m\u001b[1;33m,\u001b[0m \u001b[0mmode\u001b[0m\u001b[1;33m=\u001b[0m\u001b[0mmode\u001b[0m\u001b[1;33m,\u001b[0m \u001b[0mkwargs\u001b[0m\u001b[1;33m=\u001b[0m\u001b[0mkwargs\u001b[0m\u001b[1;33m\u001b[0m\u001b[1;33m\u001b[0m\u001b[0m\n\u001b[0;32m    356\u001b[0m         )\n\u001b[1;32m--> 357\u001b[1;33m         \u001b[1;32mreturn\u001b[0m \u001b[0mcls\u001b[0m\u001b[1;33m(\u001b[0m\u001b[0mmanager\u001b[0m\u001b[1;33m,\u001b[0m \u001b[0mgroup\u001b[0m\u001b[1;33m=\u001b[0m\u001b[0mgroup\u001b[0m\u001b[1;33m,\u001b[0m \u001b[0mmode\u001b[0m\u001b[1;33m=\u001b[0m\u001b[0mmode\u001b[0m\u001b[1;33m,\u001b[0m \u001b[0mlock\u001b[0m\u001b[1;33m=\u001b[0m\u001b[0mlock\u001b[0m\u001b[1;33m,\u001b[0m \u001b[0mautoclose\u001b[0m\u001b[1;33m=\u001b[0m\u001b[0mautoclose\u001b[0m\u001b[1;33m)\u001b[0m\u001b[1;33m\u001b[0m\u001b[1;33m\u001b[0m\u001b[0m\n\u001b[0m\u001b[0;32m    358\u001b[0m \u001b[1;33m\u001b[0m\u001b[0m\n\u001b[0;32m    359\u001b[0m     \u001b[1;32mdef\u001b[0m \u001b[0m_acquire\u001b[0m\u001b[1;33m(\u001b[0m\u001b[0mself\u001b[0m\u001b[1;33m,\u001b[0m \u001b[0mneeds_lock\u001b[0m\u001b[1;33m=\u001b[0m\u001b[1;32mTrue\u001b[0m\u001b[1;33m)\u001b[0m\u001b[1;33m:\u001b[0m\u001b[1;33m\u001b[0m\u001b[1;33m\u001b[0m\u001b[0m\n",
      "\u001b[1;32m~\\Anaconda3\\lib\\site-packages\\xarray\\backends\\netCDF4_.py\u001b[0m in \u001b[0;36m__init__\u001b[1;34m(self, manager, group, mode, lock, autoclose)\u001b[0m\n\u001b[0;32m    311\u001b[0m         \u001b[0mself\u001b[0m\u001b[1;33m.\u001b[0m\u001b[0m_group\u001b[0m \u001b[1;33m=\u001b[0m \u001b[0mgroup\u001b[0m\u001b[1;33m\u001b[0m\u001b[1;33m\u001b[0m\u001b[0m\n\u001b[0;32m    312\u001b[0m         \u001b[0mself\u001b[0m\u001b[1;33m.\u001b[0m\u001b[0m_mode\u001b[0m \u001b[1;33m=\u001b[0m \u001b[0mmode\u001b[0m\u001b[1;33m\u001b[0m\u001b[1;33m\u001b[0m\u001b[0m\n\u001b[1;32m--> 313\u001b[1;33m         \u001b[0mself\u001b[0m\u001b[1;33m.\u001b[0m\u001b[0mformat\u001b[0m \u001b[1;33m=\u001b[0m \u001b[0mself\u001b[0m\u001b[1;33m.\u001b[0m\u001b[0mds\u001b[0m\u001b[1;33m.\u001b[0m\u001b[0mdata_model\u001b[0m\u001b[1;33m\u001b[0m\u001b[1;33m\u001b[0m\u001b[0m\n\u001b[0m\u001b[0;32m    314\u001b[0m         \u001b[0mself\u001b[0m\u001b[1;33m.\u001b[0m\u001b[0m_filename\u001b[0m \u001b[1;33m=\u001b[0m \u001b[0mself\u001b[0m\u001b[1;33m.\u001b[0m\u001b[0mds\u001b[0m\u001b[1;33m.\u001b[0m\u001b[0mfilepath\u001b[0m\u001b[1;33m(\u001b[0m\u001b[1;33m)\u001b[0m\u001b[1;33m\u001b[0m\u001b[1;33m\u001b[0m\u001b[0m\n\u001b[0;32m    315\u001b[0m         \u001b[0mself\u001b[0m\u001b[1;33m.\u001b[0m\u001b[0mis_remote\u001b[0m \u001b[1;33m=\u001b[0m \u001b[0mis_remote_uri\u001b[0m\u001b[1;33m(\u001b[0m\u001b[0mself\u001b[0m\u001b[1;33m.\u001b[0m\u001b[0m_filename\u001b[0m\u001b[1;33m)\u001b[0m\u001b[1;33m\u001b[0m\u001b[1;33m\u001b[0m\u001b[0m\n",
      "\u001b[1;32m~\\Anaconda3\\lib\\site-packages\\xarray\\backends\\netCDF4_.py\u001b[0m in \u001b[0;36mds\u001b[1;34m(self)\u001b[0m\n\u001b[0;32m    364\u001b[0m     \u001b[1;33m@\u001b[0m\u001b[0mproperty\u001b[0m\u001b[1;33m\u001b[0m\u001b[1;33m\u001b[0m\u001b[0m\n\u001b[0;32m    365\u001b[0m     \u001b[1;32mdef\u001b[0m \u001b[0mds\u001b[0m\u001b[1;33m(\u001b[0m\u001b[0mself\u001b[0m\u001b[1;33m)\u001b[0m\u001b[1;33m:\u001b[0m\u001b[1;33m\u001b[0m\u001b[1;33m\u001b[0m\u001b[0m\n\u001b[1;32m--> 366\u001b[1;33m         \u001b[1;32mreturn\u001b[0m \u001b[0mself\u001b[0m\u001b[1;33m.\u001b[0m\u001b[0m_acquire\u001b[0m\u001b[1;33m(\u001b[0m\u001b[1;33m)\u001b[0m\u001b[1;33m\u001b[0m\u001b[1;33m\u001b[0m\u001b[0m\n\u001b[0m\u001b[0;32m    367\u001b[0m \u001b[1;33m\u001b[0m\u001b[0m\n\u001b[0;32m    368\u001b[0m     \u001b[1;32mdef\u001b[0m \u001b[0mopen_store_variable\u001b[0m\u001b[1;33m(\u001b[0m\u001b[0mself\u001b[0m\u001b[1;33m,\u001b[0m \u001b[0mname\u001b[0m\u001b[1;33m,\u001b[0m \u001b[0mvar\u001b[0m\u001b[1;33m)\u001b[0m\u001b[1;33m:\u001b[0m\u001b[1;33m\u001b[0m\u001b[1;33m\u001b[0m\u001b[0m\n",
      "\u001b[1;32m~\\Anaconda3\\lib\\site-packages\\xarray\\backends\\netCDF4_.py\u001b[0m in \u001b[0;36m_acquire\u001b[1;34m(self, needs_lock)\u001b[0m\n\u001b[0;32m    358\u001b[0m \u001b[1;33m\u001b[0m\u001b[0m\n\u001b[0;32m    359\u001b[0m     \u001b[1;32mdef\u001b[0m \u001b[0m_acquire\u001b[0m\u001b[1;33m(\u001b[0m\u001b[0mself\u001b[0m\u001b[1;33m,\u001b[0m \u001b[0mneeds_lock\u001b[0m\u001b[1;33m=\u001b[0m\u001b[1;32mTrue\u001b[0m\u001b[1;33m)\u001b[0m\u001b[1;33m:\u001b[0m\u001b[1;33m\u001b[0m\u001b[1;33m\u001b[0m\u001b[0m\n\u001b[1;32m--> 360\u001b[1;33m         \u001b[1;32mwith\u001b[0m \u001b[0mself\u001b[0m\u001b[1;33m.\u001b[0m\u001b[0m_manager\u001b[0m\u001b[1;33m.\u001b[0m\u001b[0macquire_context\u001b[0m\u001b[1;33m(\u001b[0m\u001b[0mneeds_lock\u001b[0m\u001b[1;33m)\u001b[0m \u001b[1;32mas\u001b[0m \u001b[0mroot\u001b[0m\u001b[1;33m:\u001b[0m\u001b[1;33m\u001b[0m\u001b[1;33m\u001b[0m\u001b[0m\n\u001b[0m\u001b[0;32m    361\u001b[0m             \u001b[0mds\u001b[0m \u001b[1;33m=\u001b[0m \u001b[0m_nc4_require_group\u001b[0m\u001b[1;33m(\u001b[0m\u001b[0mroot\u001b[0m\u001b[1;33m,\u001b[0m \u001b[0mself\u001b[0m\u001b[1;33m.\u001b[0m\u001b[0m_group\u001b[0m\u001b[1;33m,\u001b[0m \u001b[0mself\u001b[0m\u001b[1;33m.\u001b[0m\u001b[0m_mode\u001b[0m\u001b[1;33m)\u001b[0m\u001b[1;33m\u001b[0m\u001b[1;33m\u001b[0m\u001b[0m\n\u001b[0;32m    362\u001b[0m         \u001b[1;32mreturn\u001b[0m \u001b[0mds\u001b[0m\u001b[1;33m\u001b[0m\u001b[1;33m\u001b[0m\u001b[0m\n",
      "\u001b[1;32m~\\Anaconda3\\lib\\contextlib.py\u001b[0m in \u001b[0;36m__enter__\u001b[1;34m(self)\u001b[0m\n\u001b[0;32m    110\u001b[0m         \u001b[1;32mdel\u001b[0m \u001b[0mself\u001b[0m\u001b[1;33m.\u001b[0m\u001b[0margs\u001b[0m\u001b[1;33m,\u001b[0m \u001b[0mself\u001b[0m\u001b[1;33m.\u001b[0m\u001b[0mkwds\u001b[0m\u001b[1;33m,\u001b[0m \u001b[0mself\u001b[0m\u001b[1;33m.\u001b[0m\u001b[0mfunc\u001b[0m\u001b[1;33m\u001b[0m\u001b[1;33m\u001b[0m\u001b[0m\n\u001b[0;32m    111\u001b[0m         \u001b[1;32mtry\u001b[0m\u001b[1;33m:\u001b[0m\u001b[1;33m\u001b[0m\u001b[1;33m\u001b[0m\u001b[0m\n\u001b[1;32m--> 112\u001b[1;33m             \u001b[1;32mreturn\u001b[0m \u001b[0mnext\u001b[0m\u001b[1;33m(\u001b[0m\u001b[0mself\u001b[0m\u001b[1;33m.\u001b[0m\u001b[0mgen\u001b[0m\u001b[1;33m)\u001b[0m\u001b[1;33m\u001b[0m\u001b[1;33m\u001b[0m\u001b[0m\n\u001b[0m\u001b[0;32m    113\u001b[0m         \u001b[1;32mexcept\u001b[0m \u001b[0mStopIteration\u001b[0m\u001b[1;33m:\u001b[0m\u001b[1;33m\u001b[0m\u001b[1;33m\u001b[0m\u001b[0m\n\u001b[0;32m    114\u001b[0m             \u001b[1;32mraise\u001b[0m \u001b[0mRuntimeError\u001b[0m\u001b[1;33m(\u001b[0m\u001b[1;34m\"generator didn't yield\"\u001b[0m\u001b[1;33m)\u001b[0m \u001b[1;32mfrom\u001b[0m \u001b[1;32mNone\u001b[0m\u001b[1;33m\u001b[0m\u001b[1;33m\u001b[0m\u001b[0m\n",
      "\u001b[1;32m~\\Anaconda3\\lib\\site-packages\\xarray\\backends\\file_manager.py\u001b[0m in \u001b[0;36macquire_context\u001b[1;34m(self, needs_lock)\u001b[0m\n\u001b[0;32m    184\u001b[0m     \u001b[1;32mdef\u001b[0m \u001b[0macquire_context\u001b[0m\u001b[1;33m(\u001b[0m\u001b[0mself\u001b[0m\u001b[1;33m,\u001b[0m \u001b[0mneeds_lock\u001b[0m\u001b[1;33m=\u001b[0m\u001b[1;32mTrue\u001b[0m\u001b[1;33m)\u001b[0m\u001b[1;33m:\u001b[0m\u001b[1;33m\u001b[0m\u001b[1;33m\u001b[0m\u001b[0m\n\u001b[0;32m    185\u001b[0m         \u001b[1;34m\"\"\"Context manager for acquiring a file.\"\"\"\u001b[0m\u001b[1;33m\u001b[0m\u001b[1;33m\u001b[0m\u001b[0m\n\u001b[1;32m--> 186\u001b[1;33m         \u001b[0mfile\u001b[0m\u001b[1;33m,\u001b[0m \u001b[0mcached\u001b[0m \u001b[1;33m=\u001b[0m \u001b[0mself\u001b[0m\u001b[1;33m.\u001b[0m\u001b[0m_acquire_with_cache_info\u001b[0m\u001b[1;33m(\u001b[0m\u001b[0mneeds_lock\u001b[0m\u001b[1;33m)\u001b[0m\u001b[1;33m\u001b[0m\u001b[1;33m\u001b[0m\u001b[0m\n\u001b[0m\u001b[0;32m    187\u001b[0m         \u001b[1;32mtry\u001b[0m\u001b[1;33m:\u001b[0m\u001b[1;33m\u001b[0m\u001b[1;33m\u001b[0m\u001b[0m\n\u001b[0;32m    188\u001b[0m             \u001b[1;32myield\u001b[0m \u001b[0mfile\u001b[0m\u001b[1;33m\u001b[0m\u001b[1;33m\u001b[0m\u001b[0m\n",
      "\u001b[1;32m~\\Anaconda3\\lib\\site-packages\\xarray\\backends\\file_manager.py\u001b[0m in \u001b[0;36m_acquire_with_cache_info\u001b[1;34m(self, needs_lock)\u001b[0m\n\u001b[0;32m    202\u001b[0m                     \u001b[0mkwargs\u001b[0m \u001b[1;33m=\u001b[0m \u001b[0mkwargs\u001b[0m\u001b[1;33m.\u001b[0m\u001b[0mcopy\u001b[0m\u001b[1;33m(\u001b[0m\u001b[1;33m)\u001b[0m\u001b[1;33m\u001b[0m\u001b[1;33m\u001b[0m\u001b[0m\n\u001b[0;32m    203\u001b[0m                     \u001b[0mkwargs\u001b[0m\u001b[1;33m[\u001b[0m\u001b[1;34m\"mode\"\u001b[0m\u001b[1;33m]\u001b[0m \u001b[1;33m=\u001b[0m \u001b[0mself\u001b[0m\u001b[1;33m.\u001b[0m\u001b[0m_mode\u001b[0m\u001b[1;33m\u001b[0m\u001b[1;33m\u001b[0m\u001b[0m\n\u001b[1;32m--> 204\u001b[1;33m                 \u001b[0mfile\u001b[0m \u001b[1;33m=\u001b[0m \u001b[0mself\u001b[0m\u001b[1;33m.\u001b[0m\u001b[0m_opener\u001b[0m\u001b[1;33m(\u001b[0m\u001b[1;33m*\u001b[0m\u001b[0mself\u001b[0m\u001b[1;33m.\u001b[0m\u001b[0m_args\u001b[0m\u001b[1;33m,\u001b[0m \u001b[1;33m**\u001b[0m\u001b[0mkwargs\u001b[0m\u001b[1;33m)\u001b[0m\u001b[1;33m\u001b[0m\u001b[1;33m\u001b[0m\u001b[0m\n\u001b[0m\u001b[0;32m    205\u001b[0m                 \u001b[1;32mif\u001b[0m \u001b[0mself\u001b[0m\u001b[1;33m.\u001b[0m\u001b[0m_mode\u001b[0m \u001b[1;33m==\u001b[0m \u001b[1;34m\"w\"\u001b[0m\u001b[1;33m:\u001b[0m\u001b[1;33m\u001b[0m\u001b[1;33m\u001b[0m\u001b[0m\n\u001b[0;32m    206\u001b[0m                     \u001b[1;31m# ensure file doesn't get overriden when opened again\u001b[0m\u001b[1;33m\u001b[0m\u001b[1;33m\u001b[0m\u001b[1;33m\u001b[0m\u001b[0m\n",
      "\u001b[1;32mnetCDF4\\_netCDF4.pyx\u001b[0m in \u001b[0;36mnetCDF4._netCDF4.Dataset.__init__\u001b[1;34m()\u001b[0m\n",
      "\u001b[1;32mnetCDF4\\_netCDF4.pyx\u001b[0m in \u001b[0;36mnetCDF4._netCDF4._ensure_nc_success\u001b[1;34m()\u001b[0m\n",
      "\u001b[1;31mOSError\u001b[0m: [Errno -90] NetCDF: file not found: b'https://raw.githubusercontent.com/Futile21/testCSV/master/AllCoTurb.nc'"
     ]
    }
   ],
   "source": [
    "da6=xr.open_dataset(r'https://raw.githubusercontent.com/Futile21/testCSV/master/AllCoTurb.nc')"
   ]
  },
  {
   "cell_type": "code",
   "execution_count": null,
   "metadata": {},
   "outputs": [],
   "source": [
    "https://raw.githubusercontent.com/Futile21/testCSV/master/AllCoTurb.nc"
   ]
  },
  {
   "cell_type": "code",
   "execution_count": null,
   "metadata": {},
   "outputs": [],
   "source": []
  }
 ],
 "metadata": {
  "kernelspec": {
   "display_name": "Python 3",
   "language": "python",
   "name": "python3"
  },
  "language_info": {
   "codemirror_mode": {
    "name": "ipython",
    "version": 3
   },
   "file_extension": ".py",
   "mimetype": "text/x-python",
   "name": "python",
   "nbconvert_exporter": "python",
   "pygments_lexer": "ipython3",
   "version": "3.7.4"
  }
 },
 "nbformat": 4,
 "nbformat_minor": 1
}
