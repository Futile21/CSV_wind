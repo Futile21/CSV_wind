{
 "cells": [
  {
   "cell_type": "code",
   "execution_count": 1,
   "metadata": {},
   "outputs": [],
   "source": [
    "from netCDF4 import Dataset  # dataset allows us to read the netcdf4 files\n",
    "import bisect\n",
    "import os\n",
    "import pandas as pd\n",
    "import numpy as np\n",
    "import time\n",
    "%matplotlib inline\n",
    "import xarray as xr\n"
   ]
  },
  {
   "cell_type": "code",
   "execution_count": null,
   "metadata": {},
   "outputs": [],
   "source": []
  },
  {
   "cell_type": "code",
   "execution_count": 2,
   "metadata": {},
   "outputs": [
    {
     "data": {
      "text/plain": [
       "<xarray.Dataset>\n",
       "Dimensions:    (ID: 7878, RoseDir: 16, Turb: 4, hgt: 4, normData: 2, turbSdp: 26)\n",
       "Coordinates:\n",
       "    lat        (ID) float64 ...\n",
       "    lon        (ID) float32 ...\n",
       "  * ID         (ID) int64 0 1 2 3 4 5 6 7 ... 7871 7872 7873 7874 7875 7876 7877\n",
       "  * hgt        (hgt) int32 50 80 100 150\n",
       "  * normData   (normData) object 'loc' 'scale'\n",
       "  * RoseDir    (RoseDir) object 'N' 'NNE' 'NE' 'ENE' ... 'W' 'WNW' 'NW' 'NNW'\n",
       "  * Turb       (Turb) object 'Turbine 1' 'Turbine 2' 'Turbine 3' 'Turbine 4'\n",
       "  * turbSdp    (turbSdp) int32 1 2 3 4 5 6 7 8 9 ... 18 19 20 21 22 23 24 25 26\n",
       "Data variables:\n",
       "    CF         (ID, hgt, Turb) float64 ...\n",
       "    Power      (ID, hgt, Turb) float64 ...\n",
       "    Rose       (ID, hgt, RoseDir) float64 ...\n",
       "    Norn       (ID, hgt, normData) float32 ...\n",
       "    TurbPower  (Turb, turbSdp) float64 ..."
      ]
     },
     "execution_count": 2,
     "metadata": {},
     "output_type": "execute_result"
    }
   ],
   "source": [
    "da=xr.open_dataset(r'C:\\Users\\futil\\OneDrive\\GIZ\\Internship\\seb_test_ring\\rose\\maker\\AllCoTurb.nc')\n",
    "da"
   ]
  },
  {
   "cell_type": "code",
   "execution_count": null,
   "metadata": {},
   "outputs": [],
   "source": []
  },
  {
   "cell_type": "code",
   "execution_count": null,
   "metadata": {},
   "outputs": [],
   "source": []
  },
  {
   "cell_type": "code",
   "execution_count": 3,
   "metadata": {},
   "outputs": [],
   "source": [
    "\n",
    "Names=[\"N\",\"NNE\",\"NE\",\"ENE\",\"E\",\"ESE\",\"SE\",\"SSE\",\"S\",\"SSW\",\"SW\",\"WSW\",\"W\",\"WNW\",\"NW\",\"NNW\"]\n",
    "\n",
    "HGT=[\"50\",\"80\",\"100\",\"150\"]\n",
    "NameList=[]\n",
    "for i in HGT:\n",
    "    NameDir=list(map(lambda x: x+\"-\"+i,Names))\n",
    "    NameList.extend(NameDir)"
   ]
  },
  {
   "cell_type": "code",
   "execution_count": null,
   "metadata": {},
   "outputs": [],
   "source": [
    "da[]"
   ]
  },
  {
   "cell_type": "code",
   "execution_count": 26,
   "metadata": {},
   "outputs": [
    {
     "data": {
      "text/plain": [
       "<xarray.DataArray 'Rose' (ID: 7878, RoseDir: 16)>\n",
       "[126048 values with dtype=float64]\n",
       "Coordinates:\n",
       "    lat      (ID) float64 ...\n",
       "    lon      (ID) float32 ...\n",
       "  * ID       (ID) int64 0 1 2 3 4 5 6 7 ... 7871 7872 7873 7874 7875 7876 7877\n",
       "    hgt      int32 50\n",
       "  * RoseDir  (RoseDir) object 'N' 'NNE' 'NE' 'ENE' 'E' ... 'W' 'WNW' 'NW' 'NNW'"
      ]
     },
     "execution_count": 26,
     "metadata": {},
     "output_type": "execute_result"
    }
   ],
   "source": [
    "Rose50=da['Rose'].sel(hgt=50)\n",
    "Rose60=da['Rose'].sel(hgt=80)\n",
    "Rose100=da['Rose'].sel(hgt=100)\n",
    "Rose150=da['Rose'].sel(hgt=150)\n",
    "Rose50"
   ]
  },
  {
   "cell_type": "code",
   "execution_count": 53,
   "metadata": {},
   "outputs": [
    {
     "name": "stdout",
     "output_type": "stream",
     "text": [
      "(7878, 16)\n",
      "7878\n",
      "['N' 'NNE' 'NE' 'ENE' 'E' 'ESE' 'SE' 'SSE' 'S' 'SSW' 'SW' 'WSW' 'W' 'WNW'\n",
      " 'NW' 'NNW']\n"
     ]
    }
   ],
   "source": [
    "x=np.array(Rose50)  #dictionary.update(zip(NameList, np.transpose(DATA)))\n",
    "print(np.shape(x))\n",
    "print(len(x[:,0]))\n",
    "print(np.array(da['RoseDir']))"
   ]
  },
  {
   "cell_type": "code",
   "execution_count": null,
   "metadata": {},
   "outputs": [],
   "source": []
  },
  {
   "cell_type": "code",
   "execution_count": 80,
   "metadata": {},
   "outputs": [
    {
     "data": {
      "text/plain": [
       "<xarray.DataArray 'lat' (ID: 7878)>\n",
       "array([-20.588409, -20.600754, -20.613068, ..., -23.294479, -23.293709,\n",
       "       -23.293655])\n",
       "Coordinates:\n",
       "    lat      (ID) float64 -20.59 -20.6 -20.61 -20.63 ... -23.29 -23.29 -23.29\n",
       "    lon      (ID) float32 ...\n",
       "  * ID       (ID) int64 0 1 2 3 4 5 6 7 ... 7871 7872 7873 7874 7875 7876 7877"
      ]
     },
     "execution_count": 80,
     "metadata": {},
     "output_type": "execute_result"
    }
   ],
   "source": [
    "da['lat']"
   ]
  },
  {
   "cell_type": "code",
   "execution_count": null,
   "metadata": {},
   "outputs": [],
   "source": []
  },
  {
   "cell_type": "code",
   "execution_count": 6,
   "metadata": {},
   "outputs": [
    {
     "name": "stdout",
     "output_type": "stream",
     "text": [
      "['N' 'NNE' 'NE' 'ENE' 'E' 'ESE' 'SE' 'SSE' 'S' 'SSW' 'SW' 'WSW' 'W' 'WNW'\n",
      " 'NW' 'NNW']\n",
      "(64, 7878)\n"
     ]
    }
   ],
   "source": [
    "n=np.array(da['RoseDir'])\n",
    "\n",
    "cont=0\n",
    "\n",
    "dictionary = {'lat': np.array(da['lat']), 'lon': np.array(da['lon']),'ID':np.array(da['ID'])}\n",
    "\n",
    "# dictionary=dict()\n",
    "# for i in n:\n",
    "#     print(cont)\n",
    "#     print(i)\n",
    "#     dictionary.update(dict(str(n[cont]) = x[:,cont:cont+1],))\n",
    "#     cont+=1\n",
    "\n",
    "RoseData=[]\n",
    "\n",
    "for i in np.array(da['hgt']):\n",
    "\n",
    "    for j in np.array(da['RoseDir']):\n",
    "#         print(i)\n",
    "    # da['Rose'].sel(hgt=50,RoseDir=\"N\")    \n",
    "        RoseData.append(np.array(da['Rose'].sel(hgt=i,RoseDir=j)))\n",
    "\n",
    "# dictionary.update(zip(NameList, np.transpose(DATA)))\n",
    "dictionary.update(zip(NameList, RoseData))\n",
    "    \n",
    "# df = pd.DataFrame(dictionary)\n",
    "print(np.array(da['RoseDir']))\n",
    "print(np.shape(RoseData))\n",
    "# print(RoseData)\n",
    "# print(dictionary)"
   ]
  },
  {
   "cell_type": "code",
   "execution_count": 89,
   "metadata": {},
   "outputs": [
    {
     "data": {
      "text/html": [
       "<div>\n",
       "<style scoped>\n",
       "    .dataframe tbody tr th:only-of-type {\n",
       "        vertical-align: middle;\n",
       "    }\n",
       "\n",
       "    .dataframe tbody tr th {\n",
       "        vertical-align: top;\n",
       "    }\n",
       "\n",
       "    .dataframe thead th {\n",
       "        text-align: right;\n",
       "    }\n",
       "</style>\n",
       "<table border=\"1\" class=\"dataframe\">\n",
       "  <thead>\n",
       "    <tr style=\"text-align: right;\">\n",
       "      <th></th>\n",
       "      <th>lat</th>\n",
       "      <th>lon</th>\n",
       "      <th>ID</th>\n",
       "      <th>N-50</th>\n",
       "      <th>NNE-50</th>\n",
       "      <th>NE-50</th>\n",
       "      <th>ENE-50</th>\n",
       "      <th>E-50</th>\n",
       "      <th>ESE-50</th>\n",
       "      <th>SE-50</th>\n",
       "      <th>...</th>\n",
       "      <th>SE-150</th>\n",
       "      <th>SSE-150</th>\n",
       "      <th>S-150</th>\n",
       "      <th>SSW-150</th>\n",
       "      <th>SW-150</th>\n",
       "      <th>WSW-150</th>\n",
       "      <th>W-150</th>\n",
       "      <th>WNW-150</th>\n",
       "      <th>NW-150</th>\n",
       "      <th>NNW-150</th>\n",
       "    </tr>\n",
       "  </thead>\n",
       "  <tbody>\n",
       "    <tr>\n",
       "      <td>0</td>\n",
       "      <td>-20.588409</td>\n",
       "      <td>31.659058</td>\n",
       "      <td>0</td>\n",
       "      <td>6.966</td>\n",
       "      <td>5.654</td>\n",
       "      <td>5.175</td>\n",
       "      <td>7.038</td>\n",
       "      <td>10.278</td>\n",
       "      <td>13.958</td>\n",
       "      <td>14.669</td>\n",
       "      <td>...</td>\n",
       "      <td>16.856</td>\n",
       "      <td>11.368</td>\n",
       "      <td>5.749</td>\n",
       "      <td>3.180</td>\n",
       "      <td>2.482</td>\n",
       "      <td>1.820</td>\n",
       "      <td>1.304</td>\n",
       "      <td>1.297</td>\n",
       "      <td>1.238</td>\n",
       "      <td>2.252</td>\n",
       "    </tr>\n",
       "    <tr>\n",
       "      <td>1</td>\n",
       "      <td>-20.600754</td>\n",
       "      <td>31.612762</td>\n",
       "      <td>1</td>\n",
       "      <td>7.175</td>\n",
       "      <td>5.615</td>\n",
       "      <td>5.223</td>\n",
       "      <td>6.997</td>\n",
       "      <td>10.107</td>\n",
       "      <td>14.106</td>\n",
       "      <td>15.152</td>\n",
       "      <td>...</td>\n",
       "      <td>17.277</td>\n",
       "      <td>11.142</td>\n",
       "      <td>5.358</td>\n",
       "      <td>3.029</td>\n",
       "      <td>2.428</td>\n",
       "      <td>1.819</td>\n",
       "      <td>1.408</td>\n",
       "      <td>1.394</td>\n",
       "      <td>1.371</td>\n",
       "      <td>2.302</td>\n",
       "    </tr>\n",
       "    <tr>\n",
       "      <td>2</td>\n",
       "      <td>-20.613068</td>\n",
       "      <td>31.566467</td>\n",
       "      <td>2</td>\n",
       "      <td>7.311</td>\n",
       "      <td>5.510</td>\n",
       "      <td>5.194</td>\n",
       "      <td>6.967</td>\n",
       "      <td>10.033</td>\n",
       "      <td>14.432</td>\n",
       "      <td>15.671</td>\n",
       "      <td>...</td>\n",
       "      <td>17.704</td>\n",
       "      <td>10.815</td>\n",
       "      <td>4.980</td>\n",
       "      <td>2.885</td>\n",
       "      <td>2.401</td>\n",
       "      <td>1.826</td>\n",
       "      <td>1.513</td>\n",
       "      <td>1.482</td>\n",
       "      <td>1.521</td>\n",
       "      <td>2.344</td>\n",
       "    </tr>\n",
       "    <tr>\n",
       "      <td>3</td>\n",
       "      <td>-20.625374</td>\n",
       "      <td>31.520172</td>\n",
       "      <td>3</td>\n",
       "      <td>7.333</td>\n",
       "      <td>5.348</td>\n",
       "      <td>5.159</td>\n",
       "      <td>6.836</td>\n",
       "      <td>10.017</td>\n",
       "      <td>14.994</td>\n",
       "      <td>16.199</td>\n",
       "      <td>...</td>\n",
       "      <td>18.206</td>\n",
       "      <td>10.420</td>\n",
       "      <td>4.654</td>\n",
       "      <td>2.741</td>\n",
       "      <td>2.368</td>\n",
       "      <td>1.820</td>\n",
       "      <td>1.555</td>\n",
       "      <td>1.589</td>\n",
       "      <td>1.627</td>\n",
       "      <td>2.434</td>\n",
       "    </tr>\n",
       "    <tr>\n",
       "      <td>4</td>\n",
       "      <td>-20.631729</td>\n",
       "      <td>31.672241</td>\n",
       "      <td>4</td>\n",
       "      <td>6.812</td>\n",
       "      <td>5.701</td>\n",
       "      <td>5.330</td>\n",
       "      <td>7.236</td>\n",
       "      <td>10.405</td>\n",
       "      <td>13.946</td>\n",
       "      <td>14.457</td>\n",
       "      <td>...</td>\n",
       "      <td>16.719</td>\n",
       "      <td>11.144</td>\n",
       "      <td>5.689</td>\n",
       "      <td>3.250</td>\n",
       "      <td>2.663</td>\n",
       "      <td>1.940</td>\n",
       "      <td>1.370</td>\n",
       "      <td>1.304</td>\n",
       "      <td>1.265</td>\n",
       "      <td>2.128</td>\n",
       "    </tr>\n",
       "    <tr>\n",
       "      <td>...</td>\n",
       "      <td>...</td>\n",
       "      <td>...</td>\n",
       "      <td>...</td>\n",
       "      <td>...</td>\n",
       "      <td>...</td>\n",
       "      <td>...</td>\n",
       "      <td>...</td>\n",
       "      <td>...</td>\n",
       "      <td>...</td>\n",
       "      <td>...</td>\n",
       "      <td>...</td>\n",
       "      <td>...</td>\n",
       "      <td>...</td>\n",
       "      <td>...</td>\n",
       "      <td>...</td>\n",
       "      <td>...</td>\n",
       "      <td>...</td>\n",
       "      <td>...</td>\n",
       "      <td>...</td>\n",
       "      <td>...</td>\n",
       "      <td>...</td>\n",
       "    </tr>\n",
       "    <tr>\n",
       "      <td>7873</td>\n",
       "      <td>-23.294479</td>\n",
       "      <td>23.743378</td>\n",
       "      <td>7873</td>\n",
       "      <td>6.894</td>\n",
       "      <td>10.010</td>\n",
       "      <td>14.879</td>\n",
       "      <td>18.215</td>\n",
       "      <td>11.527</td>\n",
       "      <td>6.480</td>\n",
       "      <td>4.988</td>\n",
       "      <td>...</td>\n",
       "      <td>4.533</td>\n",
       "      <td>5.360</td>\n",
       "      <td>4.844</td>\n",
       "      <td>2.565</td>\n",
       "      <td>1.220</td>\n",
       "      <td>0.909</td>\n",
       "      <td>1.186</td>\n",
       "      <td>1.953</td>\n",
       "      <td>3.207</td>\n",
       "      <td>4.618</td>\n",
       "    </tr>\n",
       "    <tr>\n",
       "      <td>7874</td>\n",
       "      <td>-23.294296</td>\n",
       "      <td>24.450256</td>\n",
       "      <td>7874</td>\n",
       "      <td>5.634</td>\n",
       "      <td>8.354</td>\n",
       "      <td>13.672</td>\n",
       "      <td>18.509</td>\n",
       "      <td>14.348</td>\n",
       "      <td>8.018</td>\n",
       "      <td>4.795</td>\n",
       "      <td>...</td>\n",
       "      <td>3.872</td>\n",
       "      <td>4.313</td>\n",
       "      <td>4.896</td>\n",
       "      <td>2.998</td>\n",
       "      <td>1.481</td>\n",
       "      <td>1.143</td>\n",
       "      <td>1.272</td>\n",
       "      <td>2.014</td>\n",
       "      <td>3.163</td>\n",
       "      <td>4.818</td>\n",
       "    </tr>\n",
       "    <tr>\n",
       "      <td>7875</td>\n",
       "      <td>-23.294479</td>\n",
       "      <td>25.360626</td>\n",
       "      <td>7875</td>\n",
       "      <td>5.285</td>\n",
       "      <td>9.313</td>\n",
       "      <td>16.387</td>\n",
       "      <td>20.414</td>\n",
       "      <td>15.435</td>\n",
       "      <td>7.559</td>\n",
       "      <td>3.757</td>\n",
       "      <td>...</td>\n",
       "      <td>3.632</td>\n",
       "      <td>2.808</td>\n",
       "      <td>2.695</td>\n",
       "      <td>2.602</td>\n",
       "      <td>1.926</td>\n",
       "      <td>1.705</td>\n",
       "      <td>1.723</td>\n",
       "      <td>2.191</td>\n",
       "      <td>3.100</td>\n",
       "      <td>4.189</td>\n",
       "    </tr>\n",
       "    <tr>\n",
       "      <td>7876</td>\n",
       "      <td>-23.293709</td>\n",
       "      <td>31.013031</td>\n",
       "      <td>7876</td>\n",
       "      <td>4.638</td>\n",
       "      <td>5.734</td>\n",
       "      <td>6.882</td>\n",
       "      <td>6.176</td>\n",
       "      <td>6.051</td>\n",
       "      <td>9.385</td>\n",
       "      <td>16.298</td>\n",
       "      <td>...</td>\n",
       "      <td>17.591</td>\n",
       "      <td>15.733</td>\n",
       "      <td>4.676</td>\n",
       "      <td>1.945</td>\n",
       "      <td>1.795</td>\n",
       "      <td>2.043</td>\n",
       "      <td>2.613</td>\n",
       "      <td>2.774</td>\n",
       "      <td>2.869</td>\n",
       "      <td>4.065</td>\n",
       "    </tr>\n",
       "    <tr>\n",
       "      <td>7877</td>\n",
       "      <td>-23.293655</td>\n",
       "      <td>32.450745</td>\n",
       "      <td>7877</td>\n",
       "      <td>6.158</td>\n",
       "      <td>8.644</td>\n",
       "      <td>7.745</td>\n",
       "      <td>6.292</td>\n",
       "      <td>5.405</td>\n",
       "      <td>6.709</td>\n",
       "      <td>11.377</td>\n",
       "      <td>...</td>\n",
       "      <td>12.108</td>\n",
       "      <td>18.671</td>\n",
       "      <td>12.859</td>\n",
       "      <td>2.500</td>\n",
       "      <td>0.826</td>\n",
       "      <td>0.719</td>\n",
       "      <td>0.828</td>\n",
       "      <td>1.154</td>\n",
       "      <td>2.390</td>\n",
       "      <td>4.010</td>\n",
       "    </tr>\n",
       "  </tbody>\n",
       "</table>\n",
       "<p>7878 rows × 67 columns</p>\n",
       "</div>"
      ],
      "text/plain": [
       "            lat        lon    ID   N-50  NNE-50   NE-50  ENE-50    E-50  \\\n",
       "0    -20.588409  31.659058     0  6.966   5.654   5.175   7.038  10.278   \n",
       "1    -20.600754  31.612762     1  7.175   5.615   5.223   6.997  10.107   \n",
       "2    -20.613068  31.566467     2  7.311   5.510   5.194   6.967  10.033   \n",
       "3    -20.625374  31.520172     3  7.333   5.348   5.159   6.836  10.017   \n",
       "4    -20.631729  31.672241     4  6.812   5.701   5.330   7.236  10.405   \n",
       "...         ...        ...   ...    ...     ...     ...     ...     ...   \n",
       "7873 -23.294479  23.743378  7873  6.894  10.010  14.879  18.215  11.527   \n",
       "7874 -23.294296  24.450256  7874  5.634   8.354  13.672  18.509  14.348   \n",
       "7875 -23.294479  25.360626  7875  5.285   9.313  16.387  20.414  15.435   \n",
       "7876 -23.293709  31.013031  7876  4.638   5.734   6.882   6.176   6.051   \n",
       "7877 -23.293655  32.450745  7877  6.158   8.644   7.745   6.292   5.405   \n",
       "\n",
       "      ESE-50   SE-50  ...  SE-150  SSE-150   S-150  SSW-150  SW-150  WSW-150  \\\n",
       "0     13.958  14.669  ...  16.856   11.368   5.749    3.180   2.482    1.820   \n",
       "1     14.106  15.152  ...  17.277   11.142   5.358    3.029   2.428    1.819   \n",
       "2     14.432  15.671  ...  17.704   10.815   4.980    2.885   2.401    1.826   \n",
       "3     14.994  16.199  ...  18.206   10.420   4.654    2.741   2.368    1.820   \n",
       "4     13.946  14.457  ...  16.719   11.144   5.689    3.250   2.663    1.940   \n",
       "...      ...     ...  ...     ...      ...     ...      ...     ...      ...   \n",
       "7873   6.480   4.988  ...   4.533    5.360   4.844    2.565   1.220    0.909   \n",
       "7874   8.018   4.795  ...   3.872    4.313   4.896    2.998   1.481    1.143   \n",
       "7875   7.559   3.757  ...   3.632    2.808   2.695    2.602   1.926    1.705   \n",
       "7876   9.385  16.298  ...  17.591   15.733   4.676    1.945   1.795    2.043   \n",
       "7877   6.709  11.377  ...  12.108   18.671  12.859    2.500   0.826    0.719   \n",
       "\n",
       "      W-150  WNW-150  NW-150  NNW-150  \n",
       "0     1.304    1.297   1.238    2.252  \n",
       "1     1.408    1.394   1.371    2.302  \n",
       "2     1.513    1.482   1.521    2.344  \n",
       "3     1.555    1.589   1.627    2.434  \n",
       "4     1.370    1.304   1.265    2.128  \n",
       "...     ...      ...     ...      ...  \n",
       "7873  1.186    1.953   3.207    4.618  \n",
       "7874  1.272    2.014   3.163    4.818  \n",
       "7875  1.723    2.191   3.100    4.189  \n",
       "7876  2.613    2.774   2.869    4.065  \n",
       "7877  0.828    1.154   2.390    4.010  \n",
       "\n",
       "[7878 rows x 67 columns]"
      ]
     },
     "execution_count": 89,
     "metadata": {},
     "output_type": "execute_result"
    }
   ],
   "source": [
    "dictionary\n",
    "df = pd.DataFrame(dictionary)\n",
    "# da['Rose'].sel(hgt=50,RoseDir=\"N\")\n",
    "\n",
    "SaveTo=open(r\"C:\\Users\\futil\\OneDrive\\GIZ/Internship/seb_test_ring/rose/maker/Test_Rose001.csv\",mode='w')\n",
    "\n",
    "df.to_csv(SaveTo,index=False)\n",
    "SaveTo.close()\n",
    "\n",
    "df"
   ]
  },
  {
   "cell_type": "code",
   "execution_count": 90,
   "metadata": {},
   "outputs": [
    {
     "data": {
      "text/plain": [
       "<xarray.Dataset>\n",
       "Dimensions:    (ID: 7878, RoseDir: 16, Turb: 4, hgt: 4, normData: 2, turbSdp: 26)\n",
       "Coordinates:\n",
       "    lat        (ID) float64 -20.59 -20.6 -20.61 -20.63 ... -23.29 -23.29 -23.29\n",
       "    lon        (ID) float32 31.659058 31.612762 ... 31.013031 32.450745\n",
       "  * ID         (ID) int64 0 1 2 3 4 5 6 7 ... 7871 7872 7873 7874 7875 7876 7877\n",
       "  * hgt        (hgt) int32 50 80 100 150\n",
       "  * normData   (normData) object 'loc' 'scale'\n",
       "  * RoseDir    (RoseDir) object 'N' 'NNE' 'NE' 'ENE' ... 'W' 'WNW' 'NW' 'NNW'\n",
       "  * Turb       (Turb) object 'Turbine 1' 'Turbine 2' 'Turbine 3' 'Turbine 4'\n",
       "  * turbSdp    (turbSdp) int32 1 2 3 4 5 6 7 8 9 ... 18 19 20 21 22 23 24 25 26\n",
       "Data variables:\n",
       "    CF         (ID, hgt, Turb) float64 ...\n",
       "    Power      (ID, hgt, Turb) float64 ...\n",
       "    Rose       (ID, hgt, RoseDir) float64 ...\n",
       "    Norn       (ID, hgt, normData) float32 ...\n",
       "    TurbPower  (Turb, turbSdp) float64 ..."
      ]
     },
     "execution_count": 90,
     "metadata": {},
     "output_type": "execute_result"
    }
   ],
   "source": [
    "da"
   ]
  },
  {
   "cell_type": "code",
   "execution_count": 91,
   "metadata": {},
   "outputs": [
    {
     "name": "stdout",
     "output_type": "stream",
     "text": [
      "(16, 7878)\n"
     ]
    }
   ],
   "source": [
    "n=np.array(da['RoseDir'])\n",
    "\n",
    "cont=0\n",
    "\n",
    "dictionary2 = {'lat': np.array(da['lat']), 'lon': np.array(da['lon']),'ID':np.array(da['ID'])}\n",
    "\n",
    "\n",
    "CFData=[]\n",
    "\n",
    "for i in np.array(da['hgt']):\n",
    "\n",
    "    for j in np.array(da['Turb']):  \n",
    "        CFData.append(np.array(da['CF'].sel(hgt=i,Turb=j)))\n",
    "print(np.shape(CFData))\n",
    "# print(RoseData)"
   ]
  },
  {
   "cell_type": "code",
   "execution_count": 94,
   "metadata": {},
   "outputs": [
    {
     "data": {
      "text/plain": [
       "<xarray.Dataset>\n",
       "Dimensions:    (ID: 7878, RoseDir: 16, Turb: 4, hgt: 4, normData: 2, turbSdp: 26)\n",
       "Coordinates:\n",
       "    lat        (ID) float64 -20.59 -20.6 -20.61 -20.63 ... -23.29 -23.29 -23.29\n",
       "    lon        (ID) float32 31.659058 31.612762 ... 31.013031 32.450745\n",
       "  * ID         (ID) int64 0 1 2 3 4 5 6 7 ... 7871 7872 7873 7874 7875 7876 7877\n",
       "  * hgt        (hgt) int32 50 80 100 150\n",
       "  * normData   (normData) object 'loc' 'scale'\n",
       "  * RoseDir    (RoseDir) object 'N' 'NNE' 'NE' 'ENE' ... 'W' 'WNW' 'NW' 'NNW'\n",
       "  * Turb       (Turb) object 'Turbine 1' 'Turbine 2' 'Turbine 3' 'Turbine 4'\n",
       "  * turbSdp    (turbSdp) int32 1 2 3 4 5 6 7 8 9 ... 18 19 20 21 22 23 24 25 26\n",
       "Data variables:\n",
       "    CF         (ID, hgt, Turb) float64 ...\n",
       "    Power      (ID, hgt, Turb) float64 ...\n",
       "    Rose       (ID, hgt, RoseDir) float64 ...\n",
       "    Norn       (ID, hgt, normData) float32 ...\n",
       "    TurbPower  (Turb, turbSdp) float64 ..."
      ]
     },
     "execution_count": 94,
     "metadata": {},
     "output_type": "execute_result"
    }
   ],
   "source": [
    "da"
   ]
  },
  {
   "cell_type": "code",
   "execution_count": 93,
   "metadata": {},
   "outputs": [
    {
     "data": {
      "text/plain": [
       "<xarray.DataArray 'Turb' (Turb: 4)>\n",
       "array(['Turbine 1', 'Turbine 2', 'Turbine 3', 'Turbine 4'], dtype=object)\n",
       "Coordinates:\n",
       "  * Turb     (Turb) object 'Turbine 1' 'Turbine 2' 'Turbine 3' 'Turbine 4'"
      ]
     },
     "execution_count": 93,
     "metadata": {},
     "output_type": "execute_result"
    }
   ],
   "source": [
    "da['Turb']"
   ]
  },
  {
   "cell_type": "code",
   "execution_count": 95,
   "metadata": {},
   "outputs": [
    {
     "data": {
      "text/plain": [
       "<xarray.DataArray 'normData' (normData: 2)>\n",
       "array(['loc', 'scale'], dtype=object)\n",
       "Coordinates:\n",
       "  * normData  (normData) object 'loc' 'scale'"
      ]
     },
     "execution_count": 95,
     "metadata": {},
     "output_type": "execute_result"
    }
   ],
   "source": [
    "da['normData']"
   ]
  },
  {
   "cell_type": "code",
   "execution_count": 97,
   "metadata": {},
   "outputs": [
    {
     "data": {
      "text/plain": [
       "array(['Turbine 1', 'Turbine 2', 'Turbine 3', 'Turbine 4'], dtype=object)"
      ]
     },
     "execution_count": 97,
     "metadata": {},
     "output_type": "execute_result"
    }
   ],
   "source": [
    "np.array(da['Turb'])\n",
    "\n",
    "# Turbine 1-Capacity Factor [%]-50,Turbine 1-Wind Power [MWh/year]-50,"
   ]
  },
  {
   "cell_type": "code",
   "execution_count": 104,
   "metadata": {},
   "outputs": [
    {
     "name": "stdout",
     "output_type": "stream",
     "text": [
      "16\n",
      "\n",
      "['CF-Turbine 1-50', 'CF-Turbine 2-50', 'CF-Turbine 3-50', 'CF-Turbine 4-50', 'CF-Turbine 1-80', 'CF-Turbine 2-80', 'CF-Turbine 3-80', 'CF-Turbine 4-80', 'CF-Turbine 1-100', 'CF-Turbine 2-100', 'CF-Turbine 3-100', 'CF-Turbine 4-100', 'CF-Turbine 1-150', 'CF-Turbine 2-150', 'CF-Turbine 3-150', 'CF-Turbine 4-150']\n",
      "\n",
      "['WindPower-Turbine 1-50', 'WindPower-Turbine 2-50', 'WindPower-Turbine 3-50', 'WindPower-Turbine 4-50', 'WindPower-Turbine 1-80', 'WindPower-Turbine 2-80', 'WindPower-Turbine 3-80', 'WindPower-Turbine 4-80', 'WindPower-Turbine 1-100', 'WindPower-Turbine 2-100', 'WindPower-Turbine 3-100', 'WindPower-Turbine 4-100', 'WindPower-Turbine 1-150', 'WindPower-Turbine 2-150', 'WindPower-Turbine 3-150', 'WindPower-Turbine 4-150']\n"
     ]
    }
   ],
   "source": [
    "\n",
    "HGT=[\"50\",\"80\",\"100\",\"150\"]\n",
    "NameList2=[]\n",
    "\n",
    "\n",
    "for i in HGT:\n",
    "    NameDir=list(map(lambda x: x+\"-\"+i,np.array(da['Turb'])))\n",
    "    NameList2.extend(NameDir)\n",
    "    \n",
    "print(len(NameList2))\n",
    "print()\n",
    "print(list(map(lambda x:'CF-'+x,NameList2)))\n",
    "print()\n",
    "print(list(map(lambda x:'WindPower-'+x,NameList2)))"
   ]
  },
  {
   "cell_type": "code",
   "execution_count": 110,
   "metadata": {},
   "outputs": [
    {
     "name": "stdout",
     "output_type": "stream",
     "text": [
      "['loc-50', 'scale-50', 'loc-80', 'scale-80', 'loc-100', 'scale-100', 'loc-150', 'scale-150']\n",
      "(8, 7878)\n"
     ]
    }
   ],
   "source": [
    "HGT=[\"50\",\"80\",\"100\",\"150\"]\n",
    "NameList3=[]\n",
    "\n",
    "for i in HGT:\n",
    "    NameDir=list(map(lambda x: x+\"-\"+i,np.array(da['normData'])))\n",
    "    NameList3.extend(NameDir)\n",
    "    \n",
    "print(NameList3)\n",
    "\n",
    "\n",
    "NormData=[]\n",
    "\n",
    "for i in np.array(da['hgt']):\n",
    "    for j in np.array(da['normData']):  \n",
    "        NormData.append(np.array(da['Norn'].sel(hgt=i,normData=j)))\n",
    "print(np.shape(NormData))\n"
   ]
  },
  {
   "cell_type": "code",
   "execution_count": 14,
   "metadata": {},
   "outputs": [
    {
     "ename": "OSError",
     "evalue": "no files to open",
     "output_type": "error",
     "traceback": [
      "\u001b[1;31m---------------------------------------------------------------------------\u001b[0m",
      "\u001b[1;31mOSError\u001b[0m                                   Traceback (most recent call last)",
      "\u001b[1;32m<ipython-input-14-1b58d2ee139a>\u001b[0m in \u001b[0;36m<module>\u001b[1;34m\u001b[0m\n\u001b[1;32m----> 1\u001b[1;33m \u001b[0mda\u001b[0m\u001b[1;33m=\u001b[0m\u001b[0mxr\u001b[0m\u001b[1;33m.\u001b[0m\u001b[0mopen_mfdataset\u001b[0m\u001b[1;33m(\u001b[0m\u001b[1;34mr\"r'C:\\Users\\futil\\OneDrive\\GIZ\\Run2\\Run01.nc\"\u001b[0m\u001b[1;33m,\u001b[0m\u001b[0mcombine\u001b[0m\u001b[1;33m=\u001b[0m\u001b[1;34m'by_coords'\u001b[0m\u001b[1;33m)\u001b[0m\u001b[1;33m\u001b[0m\u001b[1;33m\u001b[0m\u001b[0m\n\u001b[0m",
      "\u001b[1;32m~\\OneDrive\\python\\Anaconda\\lib\\site-packages\\xarray\\backends\\api.py\u001b[0m in \u001b[0;36mopen_mfdataset\u001b[1;34m(paths, chunks, concat_dim, compat, preprocess, engine, lock, data_vars, coords, autoclose, parallel, **kwargs)\u001b[0m\n\u001b[0;32m    661\u001b[0m \u001b[1;33m\u001b[0m\u001b[0m\n\u001b[0;32m    662\u001b[0m     \u001b[1;32mif\u001b[0m \u001b[1;32mnot\u001b[0m \u001b[0mpaths\u001b[0m\u001b[1;33m:\u001b[0m\u001b[1;33m\u001b[0m\u001b[1;33m\u001b[0m\u001b[0m\n\u001b[1;32m--> 663\u001b[1;33m         \u001b[1;32mraise\u001b[0m \u001b[0mIOError\u001b[0m\u001b[1;33m(\u001b[0m\u001b[1;34m'no files to open'\u001b[0m\u001b[1;33m)\u001b[0m\u001b[1;33m\u001b[0m\u001b[1;33m\u001b[0m\u001b[0m\n\u001b[0m\u001b[0;32m    664\u001b[0m \u001b[1;33m\u001b[0m\u001b[0m\n\u001b[0;32m    665\u001b[0m     \u001b[1;31m# Coerce 1D input into ND to maintain backwards-compatible API until API\u001b[0m\u001b[1;33m\u001b[0m\u001b[1;33m\u001b[0m\u001b[1;33m\u001b[0m\u001b[0m\n",
      "\u001b[1;31mOSError\u001b[0m: no files to open"
     ]
    }
   ],
   "source": [
    "da=xr.open_mfdataset(r\"r'C:\\Users\\futil\\OneDrive\\GIZ\\Run2\\Run01.nc\",combine='by_coords')"
   ]
  },
  {
   "cell_type": "code",
   "execution_count": 15,
   "metadata": {},
   "outputs": [],
   "source": [
    "da=xr.open_dataset(r'C:\\Users\\\\futil\\OneDrive\\GIZ\\Internship\\seb_test_ring\\\\rose\\maker\\AllCoTurb.nc')"
   ]
  },
  {
   "cell_type": "code",
   "execution_count": 13,
   "metadata": {},
   "outputs": [
    {
     "data": {
      "text/plain": [
       "<xarray.Dataset>\n",
       "Dimensions:    (ID: 7878, RoseDir: 16, Turb: 4, hgt: 4, normData: 2, turbSdp: 26)\n",
       "Coordinates:\n",
       "    lat        (ID) float64 ...\n",
       "    lon        (ID) float32 ...\n",
       "  * ID         (ID) int64 0 1 2 3 4 5 6 7 ... 7871 7872 7873 7874 7875 7876 7877\n",
       "  * hgt        (hgt) int32 50 80 100 150\n",
       "  * normData   (normData) object 'loc' 'scale'\n",
       "  * RoseDir    (RoseDir) object 'N' 'NNE' 'NE' 'ENE' ... 'W' 'WNW' 'NW' 'NNW'\n",
       "  * Turb       (Turb) object 'Turbine 1' 'Turbine 2' 'Turbine 3' 'Turbine 4'\n",
       "  * turbSdp    (turbSdp) int32 1 2 3 4 5 6 7 8 9 ... 18 19 20 21 22 23 24 25 26\n",
       "Data variables:\n",
       "    CF         (ID, hgt, Turb) float64 ...\n",
       "    Power      (ID, hgt, Turb) float64 ...\n",
       "    Rose       (ID, hgt, RoseDir) float64 ...\n",
       "    Norn       (ID, hgt, normData) float32 ...\n",
       "    TurbPower  (Turb, turbSdp) float64 ..."
      ]
     },
     "execution_count": 13,
     "metadata": {},
     "output_type": "execute_result"
    }
   ],
   "source": [
    "da"
   ]
  },
  {
   "cell_type": "code",
   "execution_count": 10,
   "metadata": {},
   "outputs": [],
   "source": [
    "da=xr.open_dataset(r'C:\\Users\\futil\\OneDrive\\GIZ\\Run2\\Safrica000_Run10.nc_r16_Run01.nc')"
   ]
  },
  {
   "cell_type": "code",
   "execution_count": null,
   "metadata": {},
   "outputs": [],
   "source": []
  }
 ],
 "metadata": {
  "kernelspec": {
   "display_name": "Python 3",
   "language": "python",
   "name": "python3"
  },
  "language_info": {
   "codemirror_mode": {
    "name": "ipython",
    "version": 3
   },
   "file_extension": ".py",
   "mimetype": "text/x-python",
   "name": "python",
   "nbconvert_exporter": "python",
   "pygments_lexer": "ipython3",
   "version": "3.7.3"
  }
 },
 "nbformat": 4,
 "nbformat_minor": 2
}
